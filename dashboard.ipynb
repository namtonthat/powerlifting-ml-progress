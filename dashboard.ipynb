{
 "cells": [
  {
   "cell_type": "code",
   "execution_count": 1,
   "metadata": {},
   "outputs": [],
   "source": [
    "import polars as pl\n",
    "# download latest data source \n",
    "import zipfile\n",
    "from io import BytesIO\n",
    "from urllib.request import urlopen\n",
    "import shutil"
   ]
  },
  {
   "cell_type": "code",
   "execution_count": 2,
   "metadata": {},
   "outputs": [],
   "source": [
    "df = pl.DataFrame._read_parquet('data/openipf-latest.parquet')"
   ]
  },
  {
   "cell_type": "code",
   "execution_count": 31,
   "metadata": {},
   "outputs": [
    {
     "data": {
      "text/plain": [
       "['Taylor Atwood']"
      ]
     },
     "execution_count": 31,
     "metadata": {},
     "output_type": "execute_result"
    }
   ],
   "source": [
    "users = df[\"Name\"].unique().to_list()\n",
    "users = [user for user in users if user == \"Taylor Atwood\"]\n",
    "users"
   ]
  },
  {
   "cell_type": "code",
   "execution_count": 53,
   "metadata": {},
   "outputs": [
    {
     "data": {
      "text/plain": [
       "<bound method DataFrame.to_dict of shape: (20, 7)\n",
       "┌────────────┬───────────────┬─────────┬───────┬──────────────┬──────────────┬─────────────────┐\n",
       "│ Date       ┆ Name          ┆ TotalKg ┆ Event ┆ Best3SquatKg ┆ Best3BenchKg ┆ Best3DeadliftKg │\n",
       "│ ---        ┆ ---           ┆ ---     ┆ ---   ┆ ---          ┆ ---          ┆ ---             │\n",
       "│ str        ┆ str           ┆ f64     ┆ str   ┆ f64          ┆ f64          ┆ f64             │\n",
       "╞════════════╪═══════════════╪═════════╪═══════╪══════════════╪══════════════╪═════════════════╡\n",
       "│ 2013-09-14 ┆ Taylor Atwood ┆ 635.0   ┆ SBD   ┆ 212.5        ┆ 172.5        ┆ 250.0           │\n",
       "│ 2014-02-01 ┆ Taylor Atwood ┆ 645.0   ┆ SBD   ┆ 215.0        ┆ 170.0        ┆ 260.0           │\n",
       "│ 2014-07-17 ┆ Taylor Atwood ┆ 687.5   ┆ SBD   ┆ 235.0        ┆ 180.0        ┆ 272.5           │\n",
       "│ 2014-12-06 ┆ Taylor Atwood ┆ 700.0   ┆ SBD   ┆ 250.0        ┆ 185.0        ┆ 265.0           │\n",
       "│ …          ┆ …             ┆ …       ┆ …     ┆ …            ┆ …            ┆ …               │\n",
       "│ 2021-06-14 ┆ Taylor Atwood ┆ 838.5   ┆ SBD   ┆ 303.0        ┆ 195.0        ┆ 340.5           │\n",
       "│ 2022-04-01 ┆ Taylor Atwood ┆ 732.5   ┆ SBD   ┆ 255.0        ┆ 202.5        ┆ 275.0           │\n",
       "│ 2022-06-06 ┆ Taylor Atwood ┆ 790.0   ┆ SBD   ┆ 277.5        ┆ 197.5        ┆ 315.0           │\n",
       "│ 2023-03-25 ┆ Taylor Atwood ┆ 777.5   ┆ SBD   ┆ 270.0        ┆ 197.5        ┆ 310.0           │\n",
       "└────────────┴───────────────┴─────────┴───────┴──────────────┴──────────────┴─────────────────┘>"
      ]
     },
     "execution_count": 53,
     "metadata": {},
     "output_type": "execute_result"
    }
   ],
   "source": [
    "user_df = df.select(\n",
    "    pl.col(['Date', 'Name', \"TotalKg\", \"Event\", \"Best3SquatKg\",\n",
    "\"Best3BenchKg\",\n",
    "\"Best3DeadliftKg\"])\n",
    ").filter(\n",
    "    pl.col('Name').is_in(users)\n",
    ").sort(by=\"Date\").drop_nulls()\n",
    "\n",
    "user_df.to_dict"
   ]
  },
  {
   "cell_type": "code",
   "execution_count": 61,
   "metadata": {},
   "outputs": [
    {
     "ename": "ModuleNotFoundError",
     "evalue": "pa.Table requires 'pyarrow' module to be installed",
     "output_type": "error",
     "traceback": [
      "\u001b[0;31m---------------------------------------------------------------------------\u001b[0m",
      "\u001b[0;31mModuleNotFoundError\u001b[0m                       Traceback (most recent call last)",
      "Cell \u001b[0;32mIn[61], line 8\u001b[0m\n\u001b[1;32m      1\u001b[0m \u001b[39mimport\u001b[39;00m \u001b[39maltair\u001b[39;00m \u001b[39mas\u001b[39;00m \u001b[39malt\u001b[39;00m\n\u001b[1;32m      2\u001b[0m \u001b[39m# unpivot data for graphing\u001b[39;00m\n\u001b[1;32m      3\u001b[0m user_df \u001b[39m=\u001b[39m user_df\u001b[39m.\u001b[39;49mmelt(\n\u001b[1;32m      4\u001b[0m     id_vars\u001b[39m=\u001b[39;49m [\u001b[39m\"\u001b[39;49m\u001b[39mDate\u001b[39;49m\u001b[39m\"\u001b[39;49m, \u001b[39m\"\u001b[39;49m\u001b[39mName\u001b[39;49m\u001b[39m\"\u001b[39;49m, \u001b[39m\"\u001b[39;49m\u001b[39mEvent\u001b[39;49m\u001b[39m\"\u001b[39;49m],\n\u001b[1;32m      5\u001b[0m     variable_name\u001b[39m=\u001b[39;49m\u001b[39m\"\u001b[39;49m\u001b[39mLift\u001b[39;49m\u001b[39m\"\u001b[39;49m,\n\u001b[1;32m      6\u001b[0m     value_vars\u001b[39m=\u001b[39;49m[\u001b[39m\"\u001b[39;49m\u001b[39mBest3SquatKg\u001b[39;49m\u001b[39m\"\u001b[39;49m, \u001b[39m\"\u001b[39;49m\u001b[39mBest3BenchKg\u001b[39;49m\u001b[39m\"\u001b[39;49m, \u001b[39m\"\u001b[39;49m\u001b[39mBest3DeadliftKg\u001b[39;49m\u001b[39m\"\u001b[39;49m],\n\u001b[1;32m      7\u001b[0m     value_name\u001b[39m=\u001b[39;49m\u001b[39m\"\u001b[39;49m\u001b[39mWeight\u001b[39;49m\u001b[39m\"\u001b[39;49m\n\u001b[0;32m----> 8\u001b[0m )\u001b[39m.\u001b[39;49mto_pandas()\n\u001b[1;32m     10\u001b[0m user_chart \u001b[39m=\u001b[39m alt\u001b[39m.\u001b[39mChart(user_df)\u001b[39m.\u001b[39mmark_line(point\u001b[39m=\u001b[39m\u001b[39mTrue\u001b[39;00m)\u001b[39m.\u001b[39mencode(\n\u001b[1;32m     11\u001b[0m     x\u001b[39m=\u001b[39m\u001b[39m\"\u001b[39m\u001b[39mDate:T\u001b[39m\u001b[39m\"\u001b[39m,\n\u001b[1;32m     12\u001b[0m     y\u001b[39m=\u001b[39m\u001b[39m\"\u001b[39m\u001b[39m :Q\u001b[39m\u001b[39m\"\u001b[39m,\n\u001b[0;32m   (...)\u001b[0m\n\u001b[1;32m     17\u001b[0m     height\u001b[39m=\u001b[39m\u001b[39m600\u001b[39m\n\u001b[1;32m     18\u001b[0m )\n",
      "File \u001b[0;32m~/Library/Caches/pypoetry/virtualenvs/powerlifting-ml-progress-kTg0krLY-py3.11/lib/python3.11/site-packages/polars/dataframe/frame.py:2056\u001b[0m, in \u001b[0;36mDataFrame.to_pandas\u001b[0;34m(self, use_pyarrow_extension_array, *args, **kwargs)\u001b[0m\n\u001b[1;32m   2051\u001b[0m         \u001b[39mraise\u001b[39;00m \u001b[39mModuleNotFoundError\u001b[39;00m(\n\u001b[1;32m   2052\u001b[0m             \u001b[39mf\u001b[39m\u001b[39m'\u001b[39m\u001b[39m\"\u001b[39m\u001b[39muse_pyarrow_extension_array=True\u001b[39m\u001b[39m\"\u001b[39m\u001b[39m requires Pandas 1.5.x or higher, found Pandas \u001b[39m\u001b[39m{\u001b[39;00mpd\u001b[39m.\u001b[39m__version__\u001b[39m}\u001b[39;00m\u001b[39m.\u001b[39m\u001b[39m'\u001b[39m\n\u001b[1;32m   2053\u001b[0m         )\n\u001b[1;32m   2055\u001b[0m record_batches \u001b[39m=\u001b[39m \u001b[39mself\u001b[39m\u001b[39m.\u001b[39m_df\u001b[39m.\u001b[39mto_pandas()\n\u001b[0;32m-> 2056\u001b[0m tbl \u001b[39m=\u001b[39m pa\u001b[39m.\u001b[39;49mTable\u001b[39m.\u001b[39mfrom_batches(record_batches)\n\u001b[1;32m   2057\u001b[0m \u001b[39mif\u001b[39;00m use_pyarrow_extension_array:\n\u001b[1;32m   2058\u001b[0m     \u001b[39mreturn\u001b[39;00m tbl\u001b[39m.\u001b[39mto_pandas(\n\u001b[1;32m   2059\u001b[0m         self_destruct\u001b[39m=\u001b[39m\u001b[39mTrue\u001b[39;00m,\n\u001b[1;32m   2060\u001b[0m         split_blocks\u001b[39m=\u001b[39m\u001b[39mTrue\u001b[39;00m,\n\u001b[1;32m   2061\u001b[0m         types_mapper\u001b[39m=\u001b[39m\u001b[39mlambda\u001b[39;00m pa_dtype: pd\u001b[39m.\u001b[39mArrowDtype(pa_dtype),\n\u001b[1;32m   2062\u001b[0m         \u001b[39m*\u001b[39m\u001b[39m*\u001b[39mkwargs,\n\u001b[1;32m   2063\u001b[0m     )\n",
      "File \u001b[0;32m~/Library/Caches/pypoetry/virtualenvs/powerlifting-ml-progress-kTg0krLY-py3.11/lib/python3.11/site-packages/polars/dependencies.py:92\u001b[0m, in \u001b[0;36m_LazyModule.__getattr__\u001b[0;34m(self, attr)\u001b[0m\n\u001b[1;32m     90\u001b[0m \u001b[39m# all other attribute access raises a helpful exception\u001b[39;00m\n\u001b[1;32m     91\u001b[0m pfx \u001b[39m=\u001b[39m \u001b[39mself\u001b[39m\u001b[39m.\u001b[39m_mod_pfx\u001b[39m.\u001b[39mget(\u001b[39mself\u001b[39m\u001b[39m.\u001b[39m_module_name, \u001b[39m\"\u001b[39m\u001b[39m\"\u001b[39m)\n\u001b[0;32m---> 92\u001b[0m \u001b[39mraise\u001b[39;00m \u001b[39mModuleNotFoundError\u001b[39;00m(\n\u001b[1;32m     93\u001b[0m     \u001b[39mf\u001b[39m\u001b[39m\"\u001b[39m\u001b[39m{\u001b[39;00mpfx\u001b[39m}\u001b[39;00m\u001b[39m{\u001b[39;00mattr\u001b[39m}\u001b[39;00m\u001b[39m requires \u001b[39m\u001b[39m'\u001b[39m\u001b[39m{\u001b[39;00m\u001b[39mself\u001b[39m\u001b[39m.\u001b[39m_module_name\u001b[39m}\u001b[39;00m\u001b[39m'\u001b[39m\u001b[39m module to be installed\u001b[39m\u001b[39m\"\u001b[39m\n\u001b[1;32m     94\u001b[0m ) \u001b[39mfrom\u001b[39;00m \u001b[39mNone\u001b[39m\n",
      "\u001b[0;31mModuleNotFoundError\u001b[0m: pa.Table requires 'pyarrow' module to be installed"
     ]
    }
   ],
   "source": [
    "import altair as alt\n",
    "# unpivot data for graphing\n",
    "user_df = user_df.melt(\n",
    "    id_vars= [\"Date\", \"Name\", \"Event\"],\n",
    "    variable_name=\"Lift\",\n",
    "    value_vars=[\"Best3SquatKg\", \"Best3BenchKg\", \"Best3DeadliftKg\"],\n",
    "    value_name=\"Weight\"\n",
    ").to_pandas()\n",
    "\n",
    "user_chart = alt.Chart(user_df).mark_line(point=True).encode(\n",
    "    x=\"Date:T\",\n",
    "    y=\" :Q\",\n",
    "    color=alt.Color(\"Lift:N\", legend=alt.Legend(title=\"SBD\")),\n",
    "    tooltip=[\"Name\", \"Date\", \"Event\"]\n",
    ").properties(\n",
    "    width=800,\n",
    "    height=600\n",
    ")"
   ]
  },
  {
   "cell_type": "code",
   "execution_count": 4,
   "metadata": {},
   "outputs": [],
   "source": [
    "schema = {'Name': pl.Utf8,\n",
    " 'Sex': pl.Utf8,\n",
    " 'Event': pl.Utf8,\n",
    " 'Equipment': pl.Utf8,\n",
    " 'Age': pl.Float64,\n",
    " 'AgeClass': pl.Utf8,\n",
    " 'BirthYearClass': pl.Utf8,\n",
    " 'Division': pl.Utf8,\n",
    " 'BodyweightKg': pl.Float64,\n",
    " 'WeightClassKg': pl.Utf8,\n",
    " 'Squat1Kg': pl.Float64,\n",
    " 'Squat2Kg': pl.Float64,\n",
    " 'Squat3Kg': pl.Float64,\n",
    " 'Squat4Kg': pl.Float64,\n",
    " 'Best3SquatKg': pl.Float64,\n",
    " 'Bench1Kg': pl.Float64,\n",
    " 'Bench2Kg': pl.Float64,\n",
    " 'Bench3Kg': pl.Float64,\n",
    " 'Bench4Kg': pl.Float64,\n",
    " 'Best3BenchKg': pl.Float64,\n",
    " 'Deadlift1Kg': pl.Float64,\n",
    " 'Deadlift2Kg': pl.Float64,\n",
    " 'Deadlift3Kg': pl.Float64,\n",
    " 'Deadlift4Kg': pl.Float64,\n",
    " 'Best3DeadliftKg': pl.Float64,\n",
    " 'TotalKg': pl.Float64,\n",
    " 'Place': pl.Utf8,\n",
    " 'Dots': pl.Float64,\n",
    " 'Wilks': pl.Float64,\n",
    " 'Glossbrenner': pl.Float64,\n",
    " 'Goodlift': pl.Float64,\n",
    " 'Tested': pl.Utf8,\n",
    " 'Country': pl.Utf8,\n",
    " 'State': pl.Utf8,\n",
    " 'Federation': pl.Utf8,\n",
    " 'ParentFederation': pl.Utf8,\n",
    " 'Date': pl.Utf8,\n",
    " 'MeetCountry': pl.Utf8,\n",
    " 'MeetState': pl.Utf8,\n",
    " 'MeetTown': pl.Utf8,\n",
    " 'MeetName': pl.Utf8}"
   ]
  },
  {
   "cell_type": "code",
   "execution_count": 21,
   "metadata": {},
   "outputs": [],
   "source": [
    "data=pl.read_csv('data/openipf-2023-03-18/openipf-2023-03-18-16bd0ed1.csv', infer_schema_length=None)\n",
    "\n",
    "op_data = pl.read_csv('data/openpowerlifting-2023-03-18/openpowerlifting-2023-03-18-16bd0ed1.csv', infer_schema_length=None)"
   ]
  },
  {
   "cell_type": "code",
   "execution_count": 22,
   "metadata": {},
   "outputs": [],
   "source": [
    "op_data.write_parquet('data/openpowerlifting-2023-03-18/openpowerlifting-2023-03-18-16bd0ed1.parquet')"
   ]
  },
  {
   "cell_type": "code",
   "execution_count": 23,
   "metadata": {},
   "outputs": [],
   "source": [
    "op_data = pl.read_parquet('data/openpowerlifting-2023-03-18/openpowerlifting-2023-03-18-16bd0ed1.parquet')"
   ]
  },
  {
   "cell_type": "code",
   "execution_count": 39,
   "metadata": {},
   "outputs": [],
   "source": [
    "op_cols = [\n",
    "    \"Name\",\n",
    "    \"Sex\",\n",
    "    \"Event\",\n",
    "    \"Date\",\n",
    "    \"MeetCountry\",\n",
    "    \"MeetState\",\n",
    "    \"Equipment\",\n",
    "    \"Best3SquatKg\",\n",
    "    \"Best3BenchKg\",\n",
    "    \"Best3DeadliftKg\", \n",
    "    \"TotalKg\",\n",
    "    \"Wilks\",\n",
    "    \"Tested\",\n",
    "    \"Federation\"\n",
    "]"
   ]
  },
  {
   "cell_type": "code",
   "execution_count": 41,
   "metadata": {},
   "outputs": [],
   "source": [
    "filtered_data = op_data.filter(pl.col('Name') == \"Nam Tonthat\").select(op_cols)"
   ]
  },
  {
   "cell_type": "code",
   "execution_count": 43,
   "metadata": {},
   "outputs": [
    {
     "data": {
      "text/html": [
       "<div><style>\n",
       ".dataframe > thead > tr > th,\n",
       ".dataframe > tbody > tr > td {\n",
       "  text-align: right;\n",
       "}\n",
       "</style>\n",
       "<small>shape: (3, 14)</small><table border=\"1\" class=\"dataframe\"><thead><tr><th>Name</th><th>Sex</th><th>Event</th><th>Date</th><th>MeetCountry</th><th>MeetState</th><th>Equipment</th><th>Best3SquatKg</th><th>Best3BenchKg</th><th>Best3DeadliftKg</th><th>TotalKg</th><th>Wilks</th><th>Tested</th><th>Federation</th></tr><tr><td>str</td><td>str</td><td>str</td><td>str</td><td>str</td><td>str</td><td>str</td><td>f64</td><td>f64</td><td>f64</td><td>f64</td><td>f64</td><td>str</td><td>str</td></tr></thead><tbody><tr><td>&quot;Nam Tonthat&quot;</td><td>&quot;M&quot;</td><td>&quot;SBD&quot;</td><td>&quot;2022-09-17&quot;</td><td>&quot;Australia&quot;</td><td>null</td><td>&quot;Raw&quot;</td><td>140.0</td><td>105.0</td><td>200.0</td><td>445.0</td><td>333.84</td><td>&quot;Yes&quot;</td><td>&quot;USAPL&quot;</td></tr><tr><td>&quot;Nam Tonthat&quot;</td><td>&quot;M&quot;</td><td>&quot;SBD&quot;</td><td>&quot;2022-12-03&quot;</td><td>&quot;Australia&quot;</td><td>&quot;VIC&quot;</td><td>&quot;Raw&quot;</td><td>147.5</td><td>107.5</td><td>207.5</td><td>462.5</td><td>360.48</td><td>&quot;Yes&quot;</td><td>&quot;USAPL&quot;</td></tr><tr><td>&quot;Nam Tonthat&quot;</td><td>&quot;M&quot;</td><td>&quot;SBD&quot;</td><td>&quot;2021-04-11&quot;</td><td>&quot;Australia&quot;</td><td>&quot;VIC&quot;</td><td>&quot;Raw&quot;</td><td>140.0</td><td>103.0</td><td>190.0</td><td>433.0</td><td>334.25</td><td>&quot;Yes&quot;</td><td>&quot;PA&quot;</td></tr></tbody></table></div>"
      ],
      "text/plain": [
       "shape: (3, 14)\n",
       "┌─────────────┬─────┬───────┬────────────┬───┬─────────┬────────┬────────┬────────────┐\n",
       "│ Name        ┆ Sex ┆ Event ┆ Date       ┆ … ┆ TotalKg ┆ Wilks  ┆ Tested ┆ Federation │\n",
       "│ ---         ┆ --- ┆ ---   ┆ ---        ┆   ┆ ---     ┆ ---    ┆ ---    ┆ ---        │\n",
       "│ str         ┆ str ┆ str   ┆ str        ┆   ┆ f64     ┆ f64    ┆ str    ┆ str        │\n",
       "╞═════════════╪═════╪═══════╪════════════╪═══╪═════════╪════════╪════════╪════════════╡\n",
       "│ Nam Tonthat ┆ M   ┆ SBD   ┆ 2022-09-17 ┆ … ┆ 445.0   ┆ 333.84 ┆ Yes    ┆ USAPL      │\n",
       "│ Nam Tonthat ┆ M   ┆ SBD   ┆ 2022-12-03 ┆ … ┆ 462.5   ┆ 360.48 ┆ Yes    ┆ USAPL      │\n",
       "│ Nam Tonthat ┆ M   ┆ SBD   ┆ 2021-04-11 ┆ … ┆ 433.0   ┆ 334.25 ┆ Yes    ┆ PA         │\n",
       "└─────────────┴─────┴───────┴────────────┴───┴─────────┴────────┴────────┴────────────┘"
      ]
     },
     "execution_count": 43,
     "metadata": {},
     "output_type": "execute_result"
    }
   ],
   "source": [
    "filtered_data"
   ]
  },
  {
   "cell_type": "code",
   "execution_count": null,
   "metadata": {},
   "outputs": [],
   "source": []
  }
 ],
 "metadata": {
  "kernelspec": {
   "display_name": "openpowerlifting-ml-progress",
   "language": "python",
   "name": "openpowerlifting-ml-progress"
  },
  "language_info": {
   "codemirror_mode": {
    "name": "ipython",
    "version": 3
   },
   "file_extension": ".py",
   "mimetype": "text/x-python",
   "name": "python",
   "nbconvert_exporter": "python",
   "pygments_lexer": "ipython3",
   "version": "3.11.1"
  },
  "orig_nbformat": 4
 },
 "nbformat": 4,
 "nbformat_minor": 2
}
