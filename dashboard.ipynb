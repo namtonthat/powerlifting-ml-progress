{
 "cells": [
  {
   "cell_type": "code",
   "execution_count": 1,
   "metadata": {},
   "outputs": [],
   "source": [
    "import polars as pl\n",
    "# download latest data source \n",
    "import zipfile\n",
    "from io import BytesIO\n",
    "from urllib.request import urlopen\n",
    "import shutil"
   ]
  },
  {
   "cell_type": "code",
   "execution_count": 2,
   "metadata": {},
   "outputs": [],
   "source": [
    "df = pl.DataFrame._read_parquet('data/openipf-latest.parquet')"
   ]
  },
  {
   "cell_type": "code",
   "execution_count": 3,
   "metadata": {},
   "outputs": [
    {
     "name": "stderr",
     "output_type": "stream",
     "text": [
      "thread '<unnamed>' panicked at 'called `Result::unwrap()` on an `Err` value: Os { code: 2, kind: NotFound, message: \"No such file or directory\" }', src/dataframe.rs:706:46\n",
      "note: run with `RUST_BACKTRACE=1` environment variable to display a backtrace\n"
     ]
    },
    {
     "ename": "PanicException",
     "evalue": "called `Result::unwrap()` on an `Err` value: Os { code: 2, kind: NotFound, message: \"No such file or directory\" }",
     "output_type": "error",
     "traceback": [
      "\u001b[0;31m---------------------------------------------------------------------------\u001b[0m",
      "\u001b[0;31mPanicException\u001b[0m                            Traceback (most recent call last)",
      "Cell \u001b[0;32mIn[3], line 1\u001b[0m\n\u001b[0;32m----> 1\u001b[0m df\u001b[39m.\u001b[39;49mwrite_parquet(\u001b[39m'\u001b[39;49m\u001b[39ms3://powerlifting-ml-progress\u001b[39;49m\u001b[39m'\u001b[39;49m)\n",
      "File \u001b[0;32m~/Library/Caches/pypoetry/virtualenvs/powerlifting-ml-progress-kTg0krLY-py3.11/lib/python3.11/site-packages/polars/dataframe/frame.py:2895\u001b[0m, in \u001b[0;36mDataFrame.write_parquet\u001b[0;34m(self, file, compression, compression_level, statistics, row_group_size, use_pyarrow, pyarrow_options)\u001b[0m\n\u001b[1;32m   2885\u001b[0m     pa\u001b[39m.\u001b[39mparquet\u001b[39m.\u001b[39mwrite_table(\n\u001b[1;32m   2886\u001b[0m         table\u001b[39m=\u001b[39mtbl,\n\u001b[1;32m   2887\u001b[0m         where\u001b[39m=\u001b[39mfile,\n\u001b[0;32m   (...)\u001b[0m\n\u001b[1;32m   2892\u001b[0m         \u001b[39m*\u001b[39m\u001b[39m*\u001b[39m(pyarrow_options \u001b[39mor\u001b[39;00m {}),\n\u001b[1;32m   2893\u001b[0m     )\n\u001b[1;32m   2894\u001b[0m \u001b[39melse\u001b[39;00m:\n\u001b[0;32m-> 2895\u001b[0m     \u001b[39mself\u001b[39;49m\u001b[39m.\u001b[39;49m_df\u001b[39m.\u001b[39;49mwrite_parquet(\n\u001b[1;32m   2896\u001b[0m         file, compression, compression_level, statistics, row_group_size\n\u001b[1;32m   2897\u001b[0m     )\n",
      "\u001b[0;31mPanicException\u001b[0m: called `Result::unwrap()` on an `Err` value: Os { code: 2, kind: NotFound, message: \"No such file or directory\" }"
     ]
    }
   ],
   "source": [
    "df.write_parquet('s3://powerlifting-ml-progress')"
   ]
  },
  {
   "cell_type": "code",
   "execution_count": 4,
   "metadata": {},
   "outputs": [],
   "source": [
    "schema = {'Name': pl.Utf8,\n",
    " 'Sex': pl.Utf8,\n",
    " 'Event': pl.Utf8,\n",
    " 'Equipment': pl.Utf8,\n",
    " 'Age': pl.Float64,\n",
    " 'AgeClass': pl.Utf8,\n",
    " 'BirthYearClass': pl.Utf8,\n",
    " 'Division': pl.Utf8,\n",
    " 'BodyweightKg': pl.Float64,\n",
    " 'WeightClassKg': pl.Utf8,\n",
    " 'Squat1Kg': pl.Float64,\n",
    " 'Squat2Kg': pl.Float64,\n",
    " 'Squat3Kg': pl.Float64,\n",
    " 'Squat4Kg': pl.Float64,\n",
    " 'Best3SquatKg': pl.Float64,\n",
    " 'Bench1Kg': pl.Float64,\n",
    " 'Bench2Kg': pl.Float64,\n",
    " 'Bench3Kg': pl.Float64,\n",
    " 'Bench4Kg': pl.Float64,\n",
    " 'Best3BenchKg': pl.Float64,\n",
    " 'Deadlift1Kg': pl.Float64,\n",
    " 'Deadlift2Kg': pl.Float64,\n",
    " 'Deadlift3Kg': pl.Float64,\n",
    " 'Deadlift4Kg': pl.Float64,\n",
    " 'Best3DeadliftKg': pl.Float64,\n",
    " 'TotalKg': pl.Float64,\n",
    " 'Place': pl.Utf8,\n",
    " 'Dots': pl.Float64,\n",
    " 'Wilks': pl.Float64,\n",
    " 'Glossbrenner': pl.Float64,\n",
    " 'Goodlift': pl.Float64,\n",
    " 'Tested': pl.Utf8,\n",
    " 'Country': pl.Utf8,\n",
    " 'State': pl.Utf8,\n",
    " 'Federation': pl.Utf8,\n",
    " 'ParentFederation': pl.Utf8,\n",
    " 'Date': pl.Utf8,\n",
    " 'MeetCountry': pl.Utf8,\n",
    " 'MeetState': pl.Utf8,\n",
    " 'MeetTown': pl.Utf8,\n",
    " 'MeetName': pl.Utf8}"
   ]
  },
  {
   "cell_type": "code",
   "execution_count": 21,
   "metadata": {},
   "outputs": [],
   "source": [
    "data=pl.read_csv('data/openipf-2023-03-18/openipf-2023-03-18-16bd0ed1.csv', infer_schema_length=None)\n",
    "\n",
    "op_data = pl.read_csv('data/openpowerlifting-2023-03-18/openpowerlifting-2023-03-18-16bd0ed1.csv', infer_schema_length=None)"
   ]
  },
  {
   "cell_type": "code",
   "execution_count": 22,
   "metadata": {},
   "outputs": [],
   "source": [
    "op_data.write_parquet('data/openpowerlifting-2023-03-18/openpowerlifting-2023-03-18-16bd0ed1.parquet')"
   ]
  },
  {
   "cell_type": "code",
   "execution_count": 23,
   "metadata": {},
   "outputs": [],
   "source": [
    "op_data = pl.read_parquet('data/openpowerlifting-2023-03-18/openpowerlifting-2023-03-18-16bd0ed1.parquet')"
   ]
  },
  {
   "cell_type": "code",
   "execution_count": 39,
   "metadata": {},
   "outputs": [],
   "source": [
    "op_cols = [\n",
    "    \"Name\",\n",
    "    \"Sex\",\n",
    "    \"Event\",\n",
    "    \"Date\",\n",
    "    \"MeetCountry\",\n",
    "    \"MeetState\",\n",
    "    \"Equipment\",\n",
    "    \"Best3SquatKg\",\n",
    "    \"Best3BenchKg\",\n",
    "    \"Best3DeadliftKg\", \n",
    "    \"TotalKg\",\n",
    "    \"Wilks\",\n",
    "    \"Tested\",\n",
    "    \"Federation\"\n",
    "]"
   ]
  },
  {
   "cell_type": "code",
   "execution_count": 41,
   "metadata": {},
   "outputs": [],
   "source": [
    "filtered_data = op_data.filter(pl.col('Name') == \"Nam Tonthat\").select(op_cols)"
   ]
  },
  {
   "cell_type": "code",
   "execution_count": 43,
   "metadata": {},
   "outputs": [
    {
     "data": {
      "text/html": [
       "<div><style>\n",
       ".dataframe > thead > tr > th,\n",
       ".dataframe > tbody > tr > td {\n",
       "  text-align: right;\n",
       "}\n",
       "</style>\n",
       "<small>shape: (3, 14)</small><table border=\"1\" class=\"dataframe\"><thead><tr><th>Name</th><th>Sex</th><th>Event</th><th>Date</th><th>MeetCountry</th><th>MeetState</th><th>Equipment</th><th>Best3SquatKg</th><th>Best3BenchKg</th><th>Best3DeadliftKg</th><th>TotalKg</th><th>Wilks</th><th>Tested</th><th>Federation</th></tr><tr><td>str</td><td>str</td><td>str</td><td>str</td><td>str</td><td>str</td><td>str</td><td>f64</td><td>f64</td><td>f64</td><td>f64</td><td>f64</td><td>str</td><td>str</td></tr></thead><tbody><tr><td>&quot;Nam Tonthat&quot;</td><td>&quot;M&quot;</td><td>&quot;SBD&quot;</td><td>&quot;2022-09-17&quot;</td><td>&quot;Australia&quot;</td><td>null</td><td>&quot;Raw&quot;</td><td>140.0</td><td>105.0</td><td>200.0</td><td>445.0</td><td>333.84</td><td>&quot;Yes&quot;</td><td>&quot;USAPL&quot;</td></tr><tr><td>&quot;Nam Tonthat&quot;</td><td>&quot;M&quot;</td><td>&quot;SBD&quot;</td><td>&quot;2022-12-03&quot;</td><td>&quot;Australia&quot;</td><td>&quot;VIC&quot;</td><td>&quot;Raw&quot;</td><td>147.5</td><td>107.5</td><td>207.5</td><td>462.5</td><td>360.48</td><td>&quot;Yes&quot;</td><td>&quot;USAPL&quot;</td></tr><tr><td>&quot;Nam Tonthat&quot;</td><td>&quot;M&quot;</td><td>&quot;SBD&quot;</td><td>&quot;2021-04-11&quot;</td><td>&quot;Australia&quot;</td><td>&quot;VIC&quot;</td><td>&quot;Raw&quot;</td><td>140.0</td><td>103.0</td><td>190.0</td><td>433.0</td><td>334.25</td><td>&quot;Yes&quot;</td><td>&quot;PA&quot;</td></tr></tbody></table></div>"
      ],
      "text/plain": [
       "shape: (3, 14)\n",
       "┌─────────────┬─────┬───────┬────────────┬───┬─────────┬────────┬────────┬────────────┐\n",
       "│ Name        ┆ Sex ┆ Event ┆ Date       ┆ … ┆ TotalKg ┆ Wilks  ┆ Tested ┆ Federation │\n",
       "│ ---         ┆ --- ┆ ---   ┆ ---        ┆   ┆ ---     ┆ ---    ┆ ---    ┆ ---        │\n",
       "│ str         ┆ str ┆ str   ┆ str        ┆   ┆ f64     ┆ f64    ┆ str    ┆ str        │\n",
       "╞═════════════╪═════╪═══════╪════════════╪═══╪═════════╪════════╪════════╪════════════╡\n",
       "│ Nam Tonthat ┆ M   ┆ SBD   ┆ 2022-09-17 ┆ … ┆ 445.0   ┆ 333.84 ┆ Yes    ┆ USAPL      │\n",
       "│ Nam Tonthat ┆ M   ┆ SBD   ┆ 2022-12-03 ┆ … ┆ 462.5   ┆ 360.48 ┆ Yes    ┆ USAPL      │\n",
       "│ Nam Tonthat ┆ M   ┆ SBD   ┆ 2021-04-11 ┆ … ┆ 433.0   ┆ 334.25 ┆ Yes    ┆ PA         │\n",
       "└─────────────┴─────┴───────┴────────────┴───┴─────────┴────────┴────────┴────────────┘"
      ]
     },
     "execution_count": 43,
     "metadata": {},
     "output_type": "execute_result"
    }
   ],
   "source": [
    "filtered_data"
   ]
  },
  {
   "cell_type": "code",
   "execution_count": null,
   "metadata": {},
   "outputs": [],
   "source": []
  }
 ],
 "metadata": {
  "kernelspec": {
   "display_name": "openpowerlifting-ml-progress",
   "language": "python",
   "name": "openpowerlifting-ml-progress"
  },
  "language_info": {
   "codemirror_mode": {
    "name": "ipython",
    "version": 3
   },
   "file_extension": ".py",
   "mimetype": "text/x-python",
   "name": "python",
   "nbconvert_exporter": "python",
   "pygments_lexer": "ipython3",
   "version": "3.11.1"
  },
  "orig_nbformat": 4
 },
 "nbformat": 4,
 "nbformat_minor": 2
}
