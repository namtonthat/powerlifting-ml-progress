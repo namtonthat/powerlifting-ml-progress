{
 "cells": [
  {
   "cell_type": "markdown",
   "metadata": {},
   "source": [
    "## ETL on `OpenPowerlifting` Data via `duckdb`"
   ]
  },
  {
   "cell_type": "code",
   "execution_count": 1,
   "metadata": {},
   "outputs": [],
   "source": [
    "from IPython.display import display, Markdown\n",
    "import polars as pl\n",
    "from datetime import datetime as dt\n",
    "\n",
    "# read configs\n",
    "import sys\n",
    "from pathlib import Path\n",
    "\n",
    "sys.path.append(str(Path().resolve().parent))\n",
    "from steps import conf\n",
    "\n",
    "s3_file_path = f\"https://{conf.bucket_name}.s3.ap-southeast-2.amazonaws.com/{conf.parquet_file}\""
   ]
  },
  {
   "cell_type": "code",
   "execution_count": 2,
   "metadata": {},
   "outputs": [],
   "source": [
    "import duckdb\n",
    "import pandas as pd\n",
    "\n",
    "# No need to import duckdb_engine\n",
    "#  jupysql will auto-detect the driver needed based on the connection string!\n",
    "\n",
    "# Import jupysql Jupyter extension to create SQL cells"
   ]
  },
  {
   "cell_type": "code",
   "execution_count": 3,
   "metadata": {},
   "outputs": [
    {
     "data": {
      "text/html": [
       "<span style=\"None\">Tip: You may define configurations in /Users/ntonthat/github/powerlifting-ml-progress/pyproject.toml or /Users/ntonthat/.jupysql/config. </span>"
      ],
      "text/plain": [
       "Tip: You may define configurations in /Users/ntonthat/github/powerlifting-ml-progress/pyproject.toml or /Users/ntonthat/.jupysql/config. "
      ]
     },
     "metadata": {},
     "output_type": "display_data"
    },
    {
     "data": {
      "text/html": [
       "Please review our <a href='https://jupysql.ploomber.io/en/latest/api/configuration.html#loading-from-a-file'>configuration guideline</a>."
      ],
      "text/plain": [
       "<IPython.core.display.HTML object>"
      ]
     },
     "metadata": {},
     "output_type": "display_data"
    },
    {
     "data": {
      "text/html": [
       "'poetry' is an invalid configuration. Please review our <a href='https://jupysql.ploomber.io/en/latest/api/configuration.html#options'>configuration guideline</a>."
      ],
      "text/plain": [
       "<IPython.core.display.HTML object>"
      ]
     },
     "metadata": {},
     "output_type": "display_data"
    },
    {
     "data": {
      "text/html": [
       "'sqlfluff' is an invalid configuration. Please review our <a href='https://jupysql.ploomber.io/en/latest/api/configuration.html#options'>configuration guideline</a>."
      ],
      "text/plain": [
       "<IPython.core.display.HTML object>"
      ]
     },
     "metadata": {},
     "output_type": "display_data"
    },
    {
     "name": "stdout",
     "output_type": "stream",
     "text": [
      "The sql extension is already loaded. To reload it, use:\n",
      "  %reload_ext sql\n"
     ]
    },
    {
     "data": {
      "text/html": [
       "<span style=\"None\">Connecting to &#x27;duckdb-sqlalchemy&#x27;</span>"
      ],
      "text/plain": [
       "Connecting to 'duckdb-sqlalchemy'"
      ]
     },
     "metadata": {},
     "output_type": "display_data"
    },
    {
     "data": {
      "text/html": [
       "<span style=\"None\">Connecting and switching to connection &#x27;duckdb:///:default:&#x27;</span>"
      ],
      "text/plain": [
       "Connecting and switching to connection 'duckdb:///:default:'"
      ]
     },
     "metadata": {},
     "output_type": "display_data"
    }
   ],
   "source": [
    "%load_ext sql\n",
    "%load_ext sql\n",
    "%config SqlMagic.autopolars = True\n",
    "%config SqlMagic.displaycon = False\n",
    "%sql duckdb:// --alias duckdb-sqlalchemy\n",
    "%sql duckdb:///:default:"
   ]
  },
  {
   "cell_type": "code",
   "execution_count": 4,
   "metadata": {},
   "outputs": [
    {
     "data": {
      "application/vnd.jupyter.widget-view+json": {
       "model_id": "4bbec94eb90e4fa7a24ebbb112ac8fb9",
       "version_major": 2,
       "version_minor": 0
      },
      "text/plain": [
       "FloatProgress(value=0.0, layout=Layout(width='auto'), style=ProgressStyle(bar_color='black'))"
      ]
     },
     "metadata": {},
     "output_type": "display_data"
    },
    {
     "data": {
      "text/html": [
       "<div><style>\n",
       ".dataframe > thead > tr > th,\n",
       ".dataframe > tbody > tr > td {\n",
       "  text-align: right;\n",
       "}\n",
       "</style>\n",
       "<small>shape: (0, 1)</small><table border=\"1\" class=\"dataframe\"><thead><tr><th>Success</th></tr><tr><td>bool</td></tr></thead><tbody></tbody></table></div>"
      ],
      "text/plain": [
       "shape: (0, 1)\n",
       "┌─────────┐\n",
       "│ Success │\n",
       "│ ---     │\n",
       "│ bool    │\n",
       "╞═════════╡\n",
       "└─────────┘"
      ]
     },
     "execution_count": 4,
     "metadata": {},
     "output_type": "execute_result"
    }
   ],
   "source": [
    "%%sql\n",
    "CREATE SCHEMA IF NOT EXISTS landing;\n",
    "CREATE TABLE landing.openpowerlifting AS (\n",
    "    SELECT\n",
    "        *\n",
    "    FROM read_parquet('https://powerlifting-ml-progress.s3.ap-southeast-2.amazonaws.com/openpowerlifting-latest.parquet')\n",
    ");"
   ]
  },
  {
   "cell_type": "code",
   "execution_count": 5,
   "metadata": {},
   "outputs": [
    {
     "data": {
      "text/html": [
       "<div><style>\n",
       ".dataframe > thead > tr > th,\n",
       ".dataframe > tbody > tr > td {\n",
       "  text-align: right;\n",
       "}\n",
       "</style>\n",
       "<small>shape: (10, 41)</small><table border=\"1\" class=\"dataframe\"><thead><tr><th>name</th><th>sex</th><th>event</th><th>equipment</th><th>age</th><th>age_class</th><th>birth_year_class</th><th>division</th><th>bodyweight_kg</th><th>weight_class_kg</th><th>squat1_kg</th><th>squat2_kg</th><th>squat3_kg</th><th>squat4_kg</th><th>best3_squat_kg</th><th>bench1_kg</th><th>bench2_kg</th><th>bench3_kg</th><th>bench4_kg</th><th>best3_bench_kg</th><th>deadlift1_kg</th><th>deadlift2_kg</th><th>deadlift3_kg</th><th>deadlift4_kg</th><th>best3_deadlift_kg</th><th>total_kg</th><th>place</th><th>dots</th><th>wilks</th><th>glossbrenner</th><th>goodlift</th><th>tested</th><th>country</th><th>state</th><th>federation</th><th>parent_federation</th><th>date</th><th>meet_country</th><th>meet_state</th><th>meet_town</th><th>meet_name</th></tr><tr><td>str</td><td>str</td><td>str</td><td>str</td><td>f64</td><td>str</td><td>str</td><td>str</td><td>f64</td><td>str</td><td>f64</td><td>f64</td><td>f64</td><td>f64</td><td>f64</td><td>f64</td><td>f64</td><td>f64</td><td>f64</td><td>f64</td><td>f64</td><td>f64</td><td>f64</td><td>f64</td><td>f64</td><td>f64</td><td>str</td><td>f64</td><td>f64</td><td>f64</td><td>f64</td><td>str</td><td>str</td><td>str</td><td>str</td><td>str</td><td>str</td><td>str</td><td>str</td><td>str</td><td>str</td></tr></thead><tbody><tr><td>&quot;Alona Vladi&quot;</td><td>&quot;F&quot;</td><td>&quot;SBD&quot;</td><td>&quot;Raw&quot;</td><td>33.0</td><td>&quot;24-34&quot;</td><td>&quot;24-39&quot;</td><td>&quot;O&quot;</td><td>58.3</td><td>&quot;60&quot;</td><td>75.0</td><td>80.0</td><td>-90.0</td><td>null</td><td>80.0</td><td>50.0</td><td>55.0</td><td>60.0</td><td>null</td><td>60.0</td><td>95.0</td><td>105.0</td><td>107.5</td><td>null</td><td>107.5</td><td>247.5</td><td>&quot;1&quot;</td><td>279.44</td><td>282.18</td><td>249.42</td><td>57.1</td><td>&quot;Yes&quot;</td><td>&quot;Russia&quot;</td><td>null</td><td>&quot;GFP&quot;</td><td>null</td><td>&quot;2019-05-11&quot;</td><td>&quot;Russia&quot;</td><td>null</td><td>&quot;Bryansk&quot;</td><td>&quot;Open Tournamen…</td></tr><tr><td>&quot;Galina Solovya…</td><td>&quot;F&quot;</td><td>&quot;SBD&quot;</td><td>&quot;Raw&quot;</td><td>43.0</td><td>&quot;40-44&quot;</td><td>&quot;40-49&quot;</td><td>&quot;M1&quot;</td><td>73.1</td><td>&quot;75&quot;</td><td>95.0</td><td>100.0</td><td>105.0</td><td>null</td><td>105.0</td><td>62.5</td><td>67.5</td><td>-72.5</td><td>null</td><td>67.5</td><td>100.0</td><td>110.0</td><td>-120.0</td><td>null</td><td>110.0</td><td>282.5</td><td>&quot;1&quot;</td><td>278.95</td><td>272.99</td><td>240.35</td><td>56.76</td><td>&quot;Yes&quot;</td><td>&quot;Russia&quot;</td><td>null</td><td>&quot;GFP&quot;</td><td>null</td><td>&quot;2019-05-11&quot;</td><td>&quot;Russia&quot;</td><td>null</td><td>&quot;Bryansk&quot;</td><td>&quot;Open Tournamen…</td></tr><tr><td>&quot;Daniil Voronin…</td><td>&quot;M&quot;</td><td>&quot;SBD&quot;</td><td>&quot;Raw&quot;</td><td>15.5</td><td>&quot;16-17&quot;</td><td>&quot;14-18&quot;</td><td>&quot;T&quot;</td><td>67.4</td><td>&quot;75&quot;</td><td>85.0</td><td>90.0</td><td>100.0</td><td>null</td><td>100.0</td><td>55.0</td><td>62.5</td><td>-65.0</td><td>null</td><td>62.5</td><td>90.0</td><td>100.0</td><td>105.0</td><td>null</td><td>105.0</td><td>267.5</td><td>&quot;1&quot;</td><td>206.4</td><td>206.49</td><td>200.45</td><td>41.24</td><td>&quot;Yes&quot;</td><td>&quot;Russia&quot;</td><td>null</td><td>&quot;GFP&quot;</td><td>null</td><td>&quot;2019-05-11&quot;</td><td>&quot;Russia&quot;</td><td>null</td><td>&quot;Bryansk&quot;</td><td>&quot;Open Tournamen…</td></tr><tr><td>&quot;Aleksey Krasov…</td><td>&quot;M&quot;</td><td>&quot;SBD&quot;</td><td>&quot;Raw&quot;</td><td>35.0</td><td>&quot;35-39&quot;</td><td>&quot;24-39&quot;</td><td>&quot;O&quot;</td><td>66.65</td><td>&quot;75&quot;</td><td>125.0</td><td>132.0</td><td>137.5</td><td>null</td><td>137.5</td><td>115.0</td><td>122.5</td><td>-127.5</td><td>null</td><td>122.5</td><td>150.0</td><td>165.0</td><td>170.0</td><td>null</td><td>170.0</td><td>430.0</td><td>&quot;1&quot;</td><td>334.49</td><td>334.94</td><td>325.32</td><td>66.68</td><td>&quot;Yes&quot;</td><td>&quot;Russia&quot;</td><td>null</td><td>&quot;GFP&quot;</td><td>null</td><td>&quot;2019-05-11&quot;</td><td>&quot;Russia&quot;</td><td>null</td><td>&quot;Bryansk&quot;</td><td>&quot;Open Tournamen…</td></tr><tr><td>&quot;Margarita Ples…</td><td>&quot;M&quot;</td><td>&quot;SBD&quot;</td><td>&quot;Raw&quot;</td><td>26.5</td><td>&quot;24-34&quot;</td><td>&quot;24-39&quot;</td><td>&quot;O&quot;</td><td>72.45</td><td>&quot;75&quot;</td><td>80.0</td><td>85.0</td><td>90.0</td><td>null</td><td>90.0</td><td>40.0</td><td>50.0</td><td>-60.0</td><td>null</td><td>50.0</td><td>112.5</td><td>120.0</td><td>125.0</td><td>null</td><td>125.0</td><td>265.0</td><td>&quot;1&quot;</td><td>194.46</td><td>193.55</td><td>187.29</td><td>39.34</td><td>&quot;Yes&quot;</td><td>&quot;Russia&quot;</td><td>null</td><td>&quot;GFP&quot;</td><td>null</td><td>&quot;2019-05-11&quot;</td><td>&quot;Russia&quot;</td><td>null</td><td>&quot;Bryansk&quot;</td><td>&quot;Open Tournamen…</td></tr><tr><td>&quot;Sergey Timoshe…</td><td>&quot;M&quot;</td><td>&quot;SBD&quot;</td><td>&quot;Raw&quot;</td><td>15.5</td><td>&quot;16-17&quot;</td><td>&quot;14-18&quot;</td><td>&quot;T&quot;</td><td>78.8</td><td>&quot;85&quot;</td><td>90.0</td><td>-95.0</td><td>100.0</td><td>null</td><td>100.0</td><td>60.0</td><td>-65.0</td><td>-67.5</td><td>null</td><td>60.0</td><td>90.0</td><td>105.0</td><td>115.0</td><td>null</td><td>115.0</td><td>275.0</td><td>&quot;1&quot;</td><td>191.34</td><td>189.56</td><td>182.77</td><td>39.09</td><td>&quot;Yes&quot;</td><td>&quot;Russia&quot;</td><td>null</td><td>&quot;GFP&quot;</td><td>null</td><td>&quot;2019-05-11&quot;</td><td>&quot;Russia&quot;</td><td>null</td><td>&quot;Bryansk&quot;</td><td>&quot;Open Tournamen…</td></tr><tr><td>&quot;Vladimir Karav…</td><td>&quot;M&quot;</td><td>&quot;SBD&quot;</td><td>&quot;Raw&quot;</td><td>57.5</td><td>&quot;55-59&quot;</td><td>&quot;50-59&quot;</td><td>&quot;M2&quot;</td><td>79.65</td><td>&quot;85&quot;</td><td>50.0</td><td>150.0</td><td>180.0</td><td>null</td><td>180.0</td><td>50.0</td><td>100.0</td><td>-110.0</td><td>null</td><td>100.0</td><td>55.0</td><td>null</td><td>null</td><td>null</td><td>55.0</td><td>335.0</td><td>&quot;1&quot;</td><td>231.6</td><td>229.34</td><td>221.02</td><td>47.35</td><td>&quot;Yes&quot;</td><td>&quot;Russia&quot;</td><td>null</td><td>&quot;GFP&quot;</td><td>null</td><td>&quot;2019-05-11&quot;</td><td>&quot;Russia&quot;</td><td>null</td><td>&quot;Bryansk&quot;</td><td>&quot;Open Tournamen…</td></tr><tr><td>&quot;Tatyana Altuni…</td><td>&quot;F&quot;</td><td>&quot;SBD&quot;</td><td>&quot;Raw&quot;</td><td>26.0</td><td>&quot;24-34&quot;</td><td>&quot;24-39&quot;</td><td>&quot;O&quot;</td><td>96.5</td><td>&quot;105&quot;</td><td>85.0</td><td>95.0</td><td>100.0</td><td>null</td><td>100.0</td><td>40.0</td><td>47.5</td><td>-50.0</td><td>null</td><td>47.5</td><td>115.0</td><td>130.0</td><td>140.0</td><td>null</td><td>140.0</td><td>287.5</td><td>&quot;1&quot;</td><td>248.84</td><td>242.04</td><td>208.84</td><td>51.79</td><td>&quot;Yes&quot;</td><td>&quot;Russia&quot;</td><td>null</td><td>&quot;GFP&quot;</td><td>null</td><td>&quot;2019-05-11&quot;</td><td>&quot;Russia&quot;</td><td>null</td><td>&quot;Bryansk&quot;</td><td>&quot;Open Tournamen…</td></tr><tr><td>&quot;Ruslan Gasanov…</td><td>&quot;M&quot;</td><td>&quot;SBD&quot;</td><td>&quot;Raw&quot;</td><td>31.5</td><td>&quot;24-34&quot;</td><td>&quot;24-39&quot;</td><td>&quot;O&quot;</td><td>102.55</td><td>&quot;105&quot;</td><td>210.0</td><td>225.0</td><td>232.5</td><td>null</td><td>232.5</td><td>150.0</td><td>160.0</td><td>-165.0</td><td>null</td><td>160.0</td><td>240.0</td><td>260.0</td><td>-270.0</td><td>null</td><td>260.0</td><td>652.5</td><td>&quot;1&quot;</td><td>397.35</td><td>393.25</td><td>375.51</td><td>81.45</td><td>null</td><td>&quot;Russia&quot;</td><td>null</td><td>&quot;GFP&quot;</td><td>null</td><td>&quot;2019-05-11&quot;</td><td>&quot;Russia&quot;</td><td>null</td><td>&quot;Bryansk&quot;</td><td>&quot;Open Tournamen…</td></tr><tr><td>&quot;Ekaterina Gluk…</td><td>&quot;F&quot;</td><td>&quot;SBD&quot;</td><td>&quot;Wraps&quot;</td><td>25.5</td><td>&quot;24-34&quot;</td><td>&quot;24-39&quot;</td><td>&quot;O&quot;</td><td>54.8</td><td>&quot;55&quot;</td><td>80.0</td><td>-95.0</td><td>-95.0</td><td>null</td><td>80.0</td><td>30.0</td><td>-35.0</td><td>37.5</td><td>null</td><td>37.5</td><td>85.0</td><td>-95.0</td><td>95.0</td><td>null</td><td>95.0</td><td>212.5</td><td>&quot;1&quot;</td><td>249.9</td><td>254.31</td><td>225.06</td><td>51.38</td><td>&quot;Yes&quot;</td><td>&quot;Russia&quot;</td><td>null</td><td>&quot;GFP&quot;</td><td>null</td><td>&quot;2019-05-11&quot;</td><td>&quot;Russia&quot;</td><td>null</td><td>&quot;Bryansk&quot;</td><td>&quot;Open Tournamen…</td></tr></tbody></table></div>"
      ],
      "text/plain": [
       "shape: (10, 41)\n",
       "┌───────────────┬─────┬───────┬───────────┬───┬────────────┬────────────┬───────────┬──────────────┐\n",
       "│ name          ┆ sex ┆ event ┆ equipment ┆ … ┆ meet_count ┆ meet_state ┆ meet_town ┆ meet_name    │\n",
       "│ ---           ┆ --- ┆ ---   ┆ ---       ┆   ┆ ry         ┆ ---        ┆ ---       ┆ ---          │\n",
       "│ str           ┆ str ┆ str   ┆ str       ┆   ┆ ---        ┆ str        ┆ str       ┆ str          │\n",
       "│               ┆     ┆       ┆           ┆   ┆ str        ┆            ┆           ┆              │\n",
       "╞═══════════════╪═════╪═══════╪═══════════╪═══╪════════════╪════════════╪═══════════╪══════════════╡\n",
       "│ Alona Vladi   ┆ F   ┆ SBD   ┆ Raw       ┆ … ┆ Russia     ┆ null       ┆ Bryansk   ┆ Open         │\n",
       "│               ┆     ┆       ┆           ┆   ┆            ┆            ┆           ┆ Tournament   │\n",
       "│ Galina        ┆ F   ┆ SBD   ┆ Raw       ┆ … ┆ Russia     ┆ null       ┆ Bryansk   ┆ Open         │\n",
       "│ Solovyanova   ┆     ┆       ┆           ┆   ┆            ┆            ┆           ┆ Tournament   │\n",
       "│ Daniil        ┆ M   ┆ SBD   ┆ Raw       ┆ … ┆ Russia     ┆ null       ┆ Bryansk   ┆ Open         │\n",
       "│ Voronin       ┆     ┆       ┆           ┆   ┆            ┆            ┆           ┆ Tournament   │\n",
       "│ Aleksey       ┆ M   ┆ SBD   ┆ Raw       ┆ … ┆ Russia     ┆ null       ┆ Bryansk   ┆ Open         │\n",
       "│ Krasov        ┆     ┆       ┆           ┆   ┆            ┆            ┆           ┆ Tournament   │\n",
       "│ …             ┆ …   ┆ …     ┆ …         ┆ … ┆ …          ┆ …          ┆ …         ┆ …            │\n",
       "│ Vladimir      ┆ M   ┆ SBD   ┆ Raw       ┆ … ┆ Russia     ┆ null       ┆ Bryansk   ┆ Open         │\n",
       "│ Karavaev      ┆     ┆       ┆           ┆   ┆            ┆            ┆           ┆ Tournament   │\n",
       "│ Tatyana       ┆ F   ┆ SBD   ┆ Raw       ┆ … ┆ Russia     ┆ null       ┆ Bryansk   ┆ Open         │\n",
       "│ Altunina      ┆     ┆       ┆           ┆   ┆            ┆            ┆           ┆ Tournament   │\n",
       "│ Ruslan        ┆ M   ┆ SBD   ┆ Raw       ┆ … ┆ Russia     ┆ null       ┆ Bryansk   ┆ Open         │\n",
       "│ Gasanov       ┆     ┆       ┆           ┆   ┆            ┆            ┆           ┆ Tournament   │\n",
       "│ Ekaterina     ┆ F   ┆ SBD   ┆ Wraps     ┆ … ┆ Russia     ┆ null       ┆ Bryansk   ┆ Open         │\n",
       "│ Glukhova      ┆     ┆       ┆           ┆   ┆            ┆            ┆           ┆ Tournament   │\n",
       "└───────────────┴─────┴───────┴───────────┴───┴────────────┴────────────┴───────────┴──────────────┘"
      ]
     },
     "execution_count": 5,
     "metadata": {},
     "output_type": "execute_result"
    }
   ],
   "source": [
    "%sql select * from landing.openpowerlifting limit 10;"
   ]
  },
  {
   "cell_type": "code",
   "execution_count": 9,
   "metadata": {},
   "outputs": [],
   "source": [
    "query_raw = open(\"../sqls/02_raw.sql\").read()"
   ]
  },
  {
   "cell_type": "code",
   "execution_count": 12,
   "metadata": {},
   "outputs": [
    {
     "name": "stdout",
     "output_type": "stream",
     "text": [
      "CREATE TABLE raw.natural_powerlifting AS (\n",
      "    SELECT * FROM landing.powerlifting\n",
      "    WHERE\n",
      "        [event] = 'SBD'\n",
      "        AND tested = 'Yes'\n",
      "        AND equipment = 'Raw'\n",
      ")\n",
      "\n"
     ]
    }
   ],
   "source": [
    "print(query_raw)"
   ]
  },
  {
   "cell_type": "code",
   "execution_count": 27,
   "metadata": {},
   "outputs": [
    {
     "data": {
      "text/html": [
       "<div><style>\n",
       ".dataframe > thead > tr > th,\n",
       ".dataframe > tbody > tr > td {\n",
       "  text-align: right;\n",
       "}\n",
       "</style>\n",
       "<small>shape: (0, 1)</small><table border=\"1\" class=\"dataframe\"><thead><tr><th>Success</th></tr><tr><td>bool</td></tr></thead><tbody></tbody></table></div>"
      ],
      "text/plain": [
       "shape: (0, 1)\n",
       "┌─────────┐\n",
       "│ Success │\n",
       "│ ---     │\n",
       "│ bool    │\n",
       "╞═════════╡\n",
       "└─────────┘"
      ]
     },
     "execution_count": 27,
     "metadata": {},
     "output_type": "execute_result"
    }
   ],
   "source": [
    "%%sql\n",
    "CREATE SCHEMA IF NOT EXISTS raw;\n",
    "\n",
    "DROP TABLE IF EXISTS raw.openpowerlifting;\n",
    "CREATE TABLE raw.openpowerlifting AS (\n",
    "    SELECT * FROM landing.openpowerlifting\n",
    "    WHERE\n",
    "        event = 'SBD'\n",
    "        AND tested = 'Yes'\n",
    "        AND equipment = 'Raw'\n",
    ")"
   ]
  },
  {
   "cell_type": "code",
   "execution_count": 29,
   "metadata": {},
   "outputs": [
    {
     "data": {
      "text/html": [
       "<div><style>\n",
       ".dataframe > thead > tr > th,\n",
       ".dataframe > tbody > tr > td {\n",
       "  text-align: right;\n",
       "}\n",
       "</style>\n",
       "<small>shape: (10, 41)</small><table border=\"1\" class=\"dataframe\"><thead><tr><th>name</th><th>sex</th><th>event</th><th>equipment</th><th>age</th><th>age_class</th><th>birth_year_class</th><th>division</th><th>bodyweight_kg</th><th>weight_class_kg</th><th>squat1_kg</th><th>squat2_kg</th><th>squat3_kg</th><th>squat4_kg</th><th>best3_squat_kg</th><th>bench1_kg</th><th>bench2_kg</th><th>bench3_kg</th><th>bench4_kg</th><th>best3_bench_kg</th><th>deadlift1_kg</th><th>deadlift2_kg</th><th>deadlift3_kg</th><th>deadlift4_kg</th><th>best3_deadlift_kg</th><th>total_kg</th><th>place</th><th>dots</th><th>wilks</th><th>glossbrenner</th><th>goodlift</th><th>tested</th><th>country</th><th>state</th><th>federation</th><th>parent_federation</th><th>date</th><th>meet_country</th><th>meet_state</th><th>meet_town</th><th>meet_name</th></tr><tr><td>str</td><td>str</td><td>str</td><td>str</td><td>f64</td><td>str</td><td>str</td><td>str</td><td>f64</td><td>str</td><td>f64</td><td>f64</td><td>f64</td><td>f64</td><td>f64</td><td>f64</td><td>f64</td><td>f64</td><td>f64</td><td>f64</td><td>f64</td><td>f64</td><td>f64</td><td>f64</td><td>f64</td><td>f64</td><td>str</td><td>f64</td><td>f64</td><td>f64</td><td>f64</td><td>str</td><td>str</td><td>str</td><td>str</td><td>str</td><td>str</td><td>str</td><td>str</td><td>str</td><td>str</td></tr></thead><tbody><tr><td>&quot;Alona Vladi&quot;</td><td>&quot;F&quot;</td><td>&quot;SBD&quot;</td><td>&quot;Raw&quot;</td><td>33.0</td><td>&quot;24-34&quot;</td><td>&quot;24-39&quot;</td><td>&quot;O&quot;</td><td>58.3</td><td>&quot;60&quot;</td><td>75.0</td><td>80.0</td><td>-90.0</td><td>null</td><td>80.0</td><td>50.0</td><td>55.0</td><td>60.0</td><td>null</td><td>60.0</td><td>95.0</td><td>105.0</td><td>107.5</td><td>null</td><td>107.5</td><td>247.5</td><td>&quot;1&quot;</td><td>279.44</td><td>282.18</td><td>249.42</td><td>57.1</td><td>&quot;Yes&quot;</td><td>&quot;Russia&quot;</td><td>null</td><td>&quot;GFP&quot;</td><td>null</td><td>&quot;2019-05-11&quot;</td><td>&quot;Russia&quot;</td><td>null</td><td>&quot;Bryansk&quot;</td><td>&quot;Open Tournamen…</td></tr><tr><td>&quot;Galina Solovya…</td><td>&quot;F&quot;</td><td>&quot;SBD&quot;</td><td>&quot;Raw&quot;</td><td>43.0</td><td>&quot;40-44&quot;</td><td>&quot;40-49&quot;</td><td>&quot;M1&quot;</td><td>73.1</td><td>&quot;75&quot;</td><td>95.0</td><td>100.0</td><td>105.0</td><td>null</td><td>105.0</td><td>62.5</td><td>67.5</td><td>-72.5</td><td>null</td><td>67.5</td><td>100.0</td><td>110.0</td><td>-120.0</td><td>null</td><td>110.0</td><td>282.5</td><td>&quot;1&quot;</td><td>278.95</td><td>272.99</td><td>240.35</td><td>56.76</td><td>&quot;Yes&quot;</td><td>&quot;Russia&quot;</td><td>null</td><td>&quot;GFP&quot;</td><td>null</td><td>&quot;2019-05-11&quot;</td><td>&quot;Russia&quot;</td><td>null</td><td>&quot;Bryansk&quot;</td><td>&quot;Open Tournamen…</td></tr><tr><td>&quot;Daniil Voronin…</td><td>&quot;M&quot;</td><td>&quot;SBD&quot;</td><td>&quot;Raw&quot;</td><td>15.5</td><td>&quot;16-17&quot;</td><td>&quot;14-18&quot;</td><td>&quot;T&quot;</td><td>67.4</td><td>&quot;75&quot;</td><td>85.0</td><td>90.0</td><td>100.0</td><td>null</td><td>100.0</td><td>55.0</td><td>62.5</td><td>-65.0</td><td>null</td><td>62.5</td><td>90.0</td><td>100.0</td><td>105.0</td><td>null</td><td>105.0</td><td>267.5</td><td>&quot;1&quot;</td><td>206.4</td><td>206.49</td><td>200.45</td><td>41.24</td><td>&quot;Yes&quot;</td><td>&quot;Russia&quot;</td><td>null</td><td>&quot;GFP&quot;</td><td>null</td><td>&quot;2019-05-11&quot;</td><td>&quot;Russia&quot;</td><td>null</td><td>&quot;Bryansk&quot;</td><td>&quot;Open Tournamen…</td></tr><tr><td>&quot;Aleksey Krasov…</td><td>&quot;M&quot;</td><td>&quot;SBD&quot;</td><td>&quot;Raw&quot;</td><td>35.0</td><td>&quot;35-39&quot;</td><td>&quot;24-39&quot;</td><td>&quot;O&quot;</td><td>66.65</td><td>&quot;75&quot;</td><td>125.0</td><td>132.0</td><td>137.5</td><td>null</td><td>137.5</td><td>115.0</td><td>122.5</td><td>-127.5</td><td>null</td><td>122.5</td><td>150.0</td><td>165.0</td><td>170.0</td><td>null</td><td>170.0</td><td>430.0</td><td>&quot;1&quot;</td><td>334.49</td><td>334.94</td><td>325.32</td><td>66.68</td><td>&quot;Yes&quot;</td><td>&quot;Russia&quot;</td><td>null</td><td>&quot;GFP&quot;</td><td>null</td><td>&quot;2019-05-11&quot;</td><td>&quot;Russia&quot;</td><td>null</td><td>&quot;Bryansk&quot;</td><td>&quot;Open Tournamen…</td></tr><tr><td>&quot;Margarita Ples…</td><td>&quot;M&quot;</td><td>&quot;SBD&quot;</td><td>&quot;Raw&quot;</td><td>26.5</td><td>&quot;24-34&quot;</td><td>&quot;24-39&quot;</td><td>&quot;O&quot;</td><td>72.45</td><td>&quot;75&quot;</td><td>80.0</td><td>85.0</td><td>90.0</td><td>null</td><td>90.0</td><td>40.0</td><td>50.0</td><td>-60.0</td><td>null</td><td>50.0</td><td>112.5</td><td>120.0</td><td>125.0</td><td>null</td><td>125.0</td><td>265.0</td><td>&quot;1&quot;</td><td>194.46</td><td>193.55</td><td>187.29</td><td>39.34</td><td>&quot;Yes&quot;</td><td>&quot;Russia&quot;</td><td>null</td><td>&quot;GFP&quot;</td><td>null</td><td>&quot;2019-05-11&quot;</td><td>&quot;Russia&quot;</td><td>null</td><td>&quot;Bryansk&quot;</td><td>&quot;Open Tournamen…</td></tr><tr><td>&quot;Sergey Timoshe…</td><td>&quot;M&quot;</td><td>&quot;SBD&quot;</td><td>&quot;Raw&quot;</td><td>15.5</td><td>&quot;16-17&quot;</td><td>&quot;14-18&quot;</td><td>&quot;T&quot;</td><td>78.8</td><td>&quot;85&quot;</td><td>90.0</td><td>-95.0</td><td>100.0</td><td>null</td><td>100.0</td><td>60.0</td><td>-65.0</td><td>-67.5</td><td>null</td><td>60.0</td><td>90.0</td><td>105.0</td><td>115.0</td><td>null</td><td>115.0</td><td>275.0</td><td>&quot;1&quot;</td><td>191.34</td><td>189.56</td><td>182.77</td><td>39.09</td><td>&quot;Yes&quot;</td><td>&quot;Russia&quot;</td><td>null</td><td>&quot;GFP&quot;</td><td>null</td><td>&quot;2019-05-11&quot;</td><td>&quot;Russia&quot;</td><td>null</td><td>&quot;Bryansk&quot;</td><td>&quot;Open Tournamen…</td></tr><tr><td>&quot;Vladimir Karav…</td><td>&quot;M&quot;</td><td>&quot;SBD&quot;</td><td>&quot;Raw&quot;</td><td>57.5</td><td>&quot;55-59&quot;</td><td>&quot;50-59&quot;</td><td>&quot;M2&quot;</td><td>79.65</td><td>&quot;85&quot;</td><td>50.0</td><td>150.0</td><td>180.0</td><td>null</td><td>180.0</td><td>50.0</td><td>100.0</td><td>-110.0</td><td>null</td><td>100.0</td><td>55.0</td><td>null</td><td>null</td><td>null</td><td>55.0</td><td>335.0</td><td>&quot;1&quot;</td><td>231.6</td><td>229.34</td><td>221.02</td><td>47.35</td><td>&quot;Yes&quot;</td><td>&quot;Russia&quot;</td><td>null</td><td>&quot;GFP&quot;</td><td>null</td><td>&quot;2019-05-11&quot;</td><td>&quot;Russia&quot;</td><td>null</td><td>&quot;Bryansk&quot;</td><td>&quot;Open Tournamen…</td></tr><tr><td>&quot;Tatyana Altuni…</td><td>&quot;F&quot;</td><td>&quot;SBD&quot;</td><td>&quot;Raw&quot;</td><td>26.0</td><td>&quot;24-34&quot;</td><td>&quot;24-39&quot;</td><td>&quot;O&quot;</td><td>96.5</td><td>&quot;105&quot;</td><td>85.0</td><td>95.0</td><td>100.0</td><td>null</td><td>100.0</td><td>40.0</td><td>47.5</td><td>-50.0</td><td>null</td><td>47.5</td><td>115.0</td><td>130.0</td><td>140.0</td><td>null</td><td>140.0</td><td>287.5</td><td>&quot;1&quot;</td><td>248.84</td><td>242.04</td><td>208.84</td><td>51.79</td><td>&quot;Yes&quot;</td><td>&quot;Russia&quot;</td><td>null</td><td>&quot;GFP&quot;</td><td>null</td><td>&quot;2019-05-11&quot;</td><td>&quot;Russia&quot;</td><td>null</td><td>&quot;Bryansk&quot;</td><td>&quot;Open Tournamen…</td></tr><tr><td>&quot;Irina Syanova&quot;</td><td>&quot;F&quot;</td><td>&quot;SBD&quot;</td><td>&quot;Raw&quot;</td><td>35.0</td><td>&quot;35-39&quot;</td><td>&quot;24-39&quot;</td><td>&quot;O&quot;</td><td>53.6</td><td>&quot;55&quot;</td><td>70.0</td><td>75.0</td><td>80.0</td><td>null</td><td>80.0</td><td>47.5</td><td>50.0</td><td>-52.5</td><td>null</td><td>50.0</td><td>80.0</td><td>87.5</td><td>92.5</td><td>null</td><td>92.5</td><td>222.5</td><td>&quot;1&quot;</td><td>265.61</td><td>270.92</td><td>239.91</td><td>54.77</td><td>&quot;Yes&quot;</td><td>&quot;Russia&quot;</td><td>null</td><td>&quot;GFP&quot;</td><td>null</td><td>&quot;2019-10-05&quot;</td><td>&quot;Russia&quot;</td><td>&quot;ORL&quot;</td><td>&quot;Oryol&quot;</td><td>&quot;Fortior est fe…</td></tr><tr><td>&quot;Anton Zenin&quot;</td><td>&quot;M&quot;</td><td>&quot;SBD&quot;</td><td>&quot;Raw&quot;</td><td>32.0</td><td>&quot;24-34&quot;</td><td>&quot;24-39&quot;</td><td>&quot;O&quot;</td><td>94.1</td><td>&quot;95&quot;</td><td>180.0</td><td>-205.0</td><td>205.0</td><td>null</td><td>205.0</td><td>130.0</td><td>145.0</td><td>-155.0</td><td>null</td><td>145.0</td><td>220.0</td><td>240.0</td><td>250.0</td><td>null</td><td>250.0</td><td>600.0</td><td>&quot;1&quot;</td><td>379.62</td><td>374.84</td><td>358.61</td><td>78.04</td><td>&quot;Yes&quot;</td><td>&quot;Russia&quot;</td><td>null</td><td>&quot;GFP&quot;</td><td>null</td><td>&quot;2019-10-05&quot;</td><td>&quot;Russia&quot;</td><td>&quot;ORL&quot;</td><td>&quot;Oryol&quot;</td><td>&quot;Fortior est fe…</td></tr></tbody></table></div>"
      ],
      "text/plain": [
       "shape: (10, 41)\n",
       "┌───────────────┬─────┬───────┬───────────┬───┬────────────┬────────────┬───────────┬──────────────┐\n",
       "│ name          ┆ sex ┆ event ┆ equipment ┆ … ┆ meet_count ┆ meet_state ┆ meet_town ┆ meet_name    │\n",
       "│ ---           ┆ --- ┆ ---   ┆ ---       ┆   ┆ ry         ┆ ---        ┆ ---       ┆ ---          │\n",
       "│ str           ┆ str ┆ str   ┆ str       ┆   ┆ ---        ┆ str        ┆ str       ┆ str          │\n",
       "│               ┆     ┆       ┆           ┆   ┆ str        ┆            ┆           ┆              │\n",
       "╞═══════════════╪═════╪═══════╪═══════════╪═══╪════════════╪════════════╪═══════════╪══════════════╡\n",
       "│ Alona Vladi   ┆ F   ┆ SBD   ┆ Raw       ┆ … ┆ Russia     ┆ null       ┆ Bryansk   ┆ Open         │\n",
       "│               ┆     ┆       ┆           ┆   ┆            ┆            ┆           ┆ Tournament   │\n",
       "│ Galina        ┆ F   ┆ SBD   ┆ Raw       ┆ … ┆ Russia     ┆ null       ┆ Bryansk   ┆ Open         │\n",
       "│ Solovyanova   ┆     ┆       ┆           ┆   ┆            ┆            ┆           ┆ Tournament   │\n",
       "│ Daniil        ┆ M   ┆ SBD   ┆ Raw       ┆ … ┆ Russia     ┆ null       ┆ Bryansk   ┆ Open         │\n",
       "│ Voronin       ┆     ┆       ┆           ┆   ┆            ┆            ┆           ┆ Tournament   │\n",
       "│ Aleksey       ┆ M   ┆ SBD   ┆ Raw       ┆ … ┆ Russia     ┆ null       ┆ Bryansk   ┆ Open         │\n",
       "│ Krasov        ┆     ┆       ┆           ┆   ┆            ┆            ┆           ┆ Tournament   │\n",
       "│ …             ┆ …   ┆ …     ┆ …         ┆ … ┆ …          ┆ …          ┆ …         ┆ …            │\n",
       "│ Vladimir      ┆ M   ┆ SBD   ┆ Raw       ┆ … ┆ Russia     ┆ null       ┆ Bryansk   ┆ Open         │\n",
       "│ Karavaev      ┆     ┆       ┆           ┆   ┆            ┆            ┆           ┆ Tournament   │\n",
       "│ Tatyana       ┆ F   ┆ SBD   ┆ Raw       ┆ … ┆ Russia     ┆ null       ┆ Bryansk   ┆ Open         │\n",
       "│ Altunina      ┆     ┆       ┆           ┆   ┆            ┆            ┆           ┆ Tournament   │\n",
       "│ Irina Syanova ┆ F   ┆ SBD   ┆ Raw       ┆ … ┆ Russia     ┆ ORL        ┆ Oryol     ┆ Fortior est  │\n",
       "│               ┆     ┆       ┆           ┆   ┆            ┆            ┆           ┆ ferrum       │\n",
       "│               ┆     ┆       ┆           ┆   ┆            ┆            ┆           ┆ Tournament   │\n",
       "│ Anton Zenin   ┆ M   ┆ SBD   ┆ Raw       ┆ … ┆ Russia     ┆ ORL        ┆ Oryol     ┆ Fortior est  │\n",
       "│               ┆     ┆       ┆           ┆   ┆            ┆            ┆           ┆ ferrum       │\n",
       "│               ┆     ┆       ┆           ┆   ┆            ┆            ┆           ┆ Tournament   │\n",
       "└───────────────┴─────┴───────┴───────────┴───┴────────────┴────────────┴───────────┴──────────────┘"
      ]
     },
     "execution_count": 29,
     "metadata": {},
     "output_type": "execute_result"
    }
   ],
   "source": [
    "%sql select * from raw.openpowerlifting limit 10;"
   ]
  },
  {
   "cell_type": "code",
   "execution_count": null,
   "metadata": {},
   "outputs": [],
   "source": []
  }
 ],
 "metadata": {
  "kernelspec": {
   "display_name": "powerlifting-ml-progress-3.11.6",
   "language": "python",
   "name": "python3"
  },
  "language_info": {
   "codemirror_mode": {
    "name": "ipython",
    "version": 3
   },
   "file_extension": ".py",
   "mimetype": "text/x-python",
   "name": "python",
   "nbconvert_exporter": "python",
   "pygments_lexer": "ipython3",
   "version": "3.11.6"
  }
 },
 "nbformat": 4,
 "nbformat_minor": 2
}
