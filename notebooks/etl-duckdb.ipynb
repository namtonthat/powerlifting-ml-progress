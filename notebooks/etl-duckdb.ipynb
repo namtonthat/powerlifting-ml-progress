{
 "cells": [
  {
   "cell_type": "markdown",
   "metadata": {},
   "source": [
    "## ETL on `OpenPowerlifting` Data via `duckdb`"
   ]
  },
  {
   "cell_type": "code",
   "execution_count": 1,
   "metadata": {},
   "outputs": [],
   "source": [
    "from IPython.display import display, Markdown\n",
    "import polars as pl\n",
    "from datetime import datetime as dt\n",
    "\n",
    "# read configs\n",
    "import sys\n",
    "from pathlib import Path\n",
    "\n",
    "sys.path.append(str(Path().resolve().parent))\n",
    "from steps import conf\n",
    "\n",
    "s3_file_path = f\"https://{conf.bucket_name}.s3.ap-southeast-2.amazonaws.com/{conf.parquet_file}\""
   ]
  },
  {
   "cell_type": "code",
   "execution_count": 2,
   "metadata": {},
   "outputs": [],
   "source": [
    "import duckdb\n",
    "import pandas as pd\n",
    "\n",
    "# No need to import duckdb_engine\n",
    "#  jupysql will auto-detect the driver needed based on the connection string!\n",
    "\n",
    "# Import jupysql Jupyter extension to create SQL cells"
   ]
  },
  {
   "cell_type": "code",
   "execution_count": 3,
   "metadata": {},
   "outputs": [
    {
     "name": "stdout",
     "output_type": "stream",
     "text": [
      "\u001b[32mDeploy AI and data apps for free on Ploomber Cloud! Learn more: https://docs.cloud.ploomber.io/en/latest/quickstart/signup.html\u001b[0m\n"
     ]
    },
    {
     "data": {
      "text/html": [
       "<span style=\"None\">Tip: You may define configurations in /Users/namtonthat/github/powerlifting-ml-progress/pyproject.toml or /Users/namtonthat/.jupysql/config. </span>"
      ],
      "text/plain": [
       "Tip: You may define configurations in /Users/namtonthat/github/powerlifting-ml-progress/pyproject.toml or /Users/namtonthat/.jupysql/config. "
      ]
     },
     "metadata": {},
     "output_type": "display_data"
    },
    {
     "data": {
      "text/html": [
       "Please review our <a href='https://jupysql.ploomber.io/en/latest/api/configuration.html#loading-from-a-file'>configuration guideline</a>."
      ],
      "text/plain": [
       "<IPython.core.display.HTML object>"
      ]
     },
     "metadata": {},
     "output_type": "display_data"
    },
    {
     "data": {
      "text/html": [
       "'poetry' is an invalid configuration. Please review our <a href='https://jupysql.ploomber.io/en/latest/api/configuration.html#options'>configuration guideline</a>."
      ],
      "text/plain": [
       "<IPython.core.display.HTML object>"
      ]
     },
     "metadata": {},
     "output_type": "display_data"
    },
    {
     "data": {
      "text/html": [
       "'sqlfluff' is an invalid configuration. Please review our <a href='https://jupysql.ploomber.io/en/latest/api/configuration.html#options'>configuration guideline</a>."
      ],
      "text/plain": [
       "<IPython.core.display.HTML object>"
      ]
     },
     "metadata": {},
     "output_type": "display_data"
    },
    {
     "name": "stdout",
     "output_type": "stream",
     "text": [
      "The sql extension is already loaded. To reload it, use:\n",
      "  %reload_ext sql\n"
     ]
    },
    {
     "data": {
      "text/html": [
       "<span style=\"None\">Connecting to &#x27;duckdb-sqlalchemy&#x27;</span>"
      ],
      "text/plain": [
       "Connecting to 'duckdb-sqlalchemy'"
      ]
     },
     "metadata": {},
     "output_type": "display_data"
    },
    {
     "data": {
      "text/html": [
       "<span style=\"None\">Connecting and switching to connection &#x27;duckdb:///:default:&#x27;</span>"
      ],
      "text/plain": [
       "Connecting and switching to connection 'duckdb:///:default:'"
      ]
     },
     "metadata": {},
     "output_type": "display_data"
    }
   ],
   "source": [
    "%load_ext sql\n",
    "%config SqlMagic.autopolars = True\n",
    "%config SqlMagic.displaycon = False\n",
    "%sql duckdb:// --alias duckdb-sqlalchemy\n",
    "%sql duckdb:///:default:"
   ]
  },
  {
   "cell_type": "code",
   "execution_count": 9,
   "metadata": {},
   "outputs": [
    {
     "data": {
      "application/vnd.jupyter.widget-view+json": {
       "model_id": "0e164e32aa9149688abea29e761d2894",
       "version_major": 2,
       "version_minor": 0
      },
      "text/plain": [
       "FloatProgress(value=0.0, layout=Layout(width='auto'), style=ProgressStyle(bar_color='black'))"
      ]
     },
     "metadata": {},
     "output_type": "display_data"
    },
    {
     "data": {
      "text/html": [
       "<div><style>\n",
       ".dataframe > thead > tr > th,\n",
       ".dataframe > tbody > tr > td {\n",
       "  text-align: right;\n",
       "}\n",
       "</style>\n",
       "<small>shape: (0, 1)</small><table border=\"1\" class=\"dataframe\"><thead><tr><th>Success</th></tr><tr><td>bool</td></tr></thead><tbody></tbody></table></div>"
      ],
      "text/plain": [
       "shape: (0, 1)\n",
       "┌─────────┐\n",
       "│ Success │\n",
       "│ ---     │\n",
       "│ bool    │\n",
       "╞═════════╡\n",
       "└─────────┘"
      ]
     },
     "execution_count": 9,
     "metadata": {},
     "output_type": "execute_result"
    }
   ],
   "source": [
    "%%sql\n",
    "CREATE SCHEMA IF NOT EXISTS landing;\n",
    "CREATE TABLE landing.lifts AS (\n",
    "    SELECT\n",
    "        *\n",
    "    FROM read_parquet('https://powerlifting-ml-progress.s3.ap-southeast-2.amazonaws.com/openpowerlifting-latest.parquet')\n",
    ");"
   ]
  },
  {
   "cell_type": "code",
   "execution_count": 28,
   "metadata": {},
   "outputs": [
    {
     "data": {
      "text/html": [
       "<div><style>\n",
       ".dataframe > thead > tr > th,\n",
       ".dataframe > tbody > tr > td {\n",
       "  text-align: right;\n",
       "}\n",
       "</style>\n",
       "<small>shape: (11, 41)</small><table border=\"1\" class=\"dataframe\"><thead><tr><th>name</th><th>sex</th><th>event</th><th>equipment</th><th>age</th><th>age_class</th><th>birth_year_class</th><th>division</th><th>bodyweight_kg</th><th>weight_class_kg</th><th>squat1_kg</th><th>squat2_kg</th><th>squat3_kg</th><th>squat4_kg</th><th>best3_squat_kg</th><th>bench1_kg</th><th>bench2_kg</th><th>bench3_kg</th><th>bench4_kg</th><th>best3_bench_kg</th><th>deadlift1_kg</th><th>deadlift2_kg</th><th>deadlift3_kg</th><th>deadlift4_kg</th><th>best3_deadlift_kg</th><th>total_kg</th><th>place</th><th>dots</th><th>wilks</th><th>glossbrenner</th><th>goodlift</th><th>tested</th><th>country</th><th>state</th><th>federation</th><th>parent_federation</th><th>date</th><th>meet_country</th><th>meet_state</th><th>meet_town</th><th>meet_name</th></tr><tr><td>str</td><td>str</td><td>str</td><td>str</td><td>f64</td><td>str</td><td>str</td><td>str</td><td>f64</td><td>str</td><td>f64</td><td>f64</td><td>f64</td><td>f64</td><td>f64</td><td>f64</td><td>f64</td><td>f64</td><td>f64</td><td>f64</td><td>f64</td><td>f64</td><td>f64</td><td>f64</td><td>f64</td><td>f64</td><td>str</td><td>f64</td><td>f64</td><td>f64</td><td>f64</td><td>str</td><td>str</td><td>str</td><td>str</td><td>str</td><td>str</td><td>str</td><td>str</td><td>str</td><td>str</td></tr></thead><tbody><tr><td>&quot;Elizabeth Nguy…</td><td>&quot;F&quot;</td><td>&quot;SBD&quot;</td><td>&quot;Raw&quot;</td><td>30.5</td><td>&quot;24-34&quot;</td><td>&quot;24-39&quot;</td><td>&quot;FR-O&quot;</td><td>59.75</td><td>&quot;60&quot;</td><td>107.5</td><td>115.0</td><td>120.0</td><td>null</td><td>120.0</td><td>55.0</td><td>57.5</td><td>-60.0</td><td>null</td><td>57.5</td><td>135.0</td><td>142.5</td><td>147.5</td><td>null</td><td>147.5</td><td>325.0</td><td>&quot;1&quot;</td><td>361.23</td><td>363.51</td><td>321.2</td><td>73.68</td><td>&quot;Yes&quot;</td><td>&quot;Australia&quot;</td><td>null</td><td>&quot;USAPL&quot;</td><td>null</td><td>&quot;2023-11-18&quot;</td><td>&quot;Australia&quot;</td><td>null</td><td>null</td><td>&quot;Strength Cultu…</td></tr><tr><td>&quot;Elizabeth Nguy…</td><td>&quot;F&quot;</td><td>&quot;SBD&quot;</td><td>&quot;Raw&quot;</td><td>29.5</td><td>&quot;24-34&quot;</td><td>&quot;24-39&quot;</td><td>&quot;FR-O&quot;</td><td>55.54</td><td>&quot;56&quot;</td><td>105.0</td><td>112.5</td><td>115.0</td><td>null</td><td>115.0</td><td>55.0</td><td>-57.5</td><td>57.5</td><td>null</td><td>57.5</td><td>130.0</td><td>140.0</td><td>145.0</td><td>null</td><td>145.0</td><td>317.5</td><td>&quot;1&quot;</td><td>370.04</td><td>376.0</td><td>332.64</td><td>75.97</td><td>&quot;Yes&quot;</td><td>&quot;Australia&quot;</td><td>null</td><td>&quot;USAPL&quot;</td><td>null</td><td>&quot;2022-10-09&quot;</td><td>&quot;Australia&quot;</td><td>null</td><td>null</td><td>&quot;JPS Spring Sho…</td></tr><tr><td>&quot;Elizabeth Nguy…</td><td>&quot;F&quot;</td><td>&quot;SBD&quot;</td><td>&quot;Raw&quot;</td><td>29.5</td><td>&quot;24-34&quot;</td><td>&quot;24-39&quot;</td><td>&quot;FR-O&quot;</td><td>55.6</td><td>&quot;56&quot;</td><td>105.0</td><td>112.5</td><td>115.0</td><td>null</td><td>115.0</td><td>52.5</td><td>55.0</td><td>57.5</td><td>null</td><td>57.5</td><td>127.5</td><td>137.5</td><td>-142.5</td><td>null</td><td>137.5</td><td>310.0</td><td>&quot;1&quot;</td><td>361.04</td><td>366.8</td><td>324.5</td><td>74.11</td><td>&quot;Yes&quot;</td><td>&quot;Australia&quot;</td><td>null</td><td>&quot;USAPL&quot;</td><td>null</td><td>&quot;2022-06-18&quot;</td><td>&quot;Australia&quot;</td><td>&quot;VIC&quot;</td><td>null</td><td>&quot;The Strength F…</td></tr><tr><td>&quot;Elizabeth Nguy…</td><td>&quot;F&quot;</td><td>&quot;SBD&quot;</td><td>&quot;Raw&quot;</td><td>22.5</td><td>&quot;20-23&quot;</td><td>&quot;19-23&quot;</td><td>&quot;FR-Jr&quot;</td><td>54.5</td><td>&quot;57&quot;</td><td>77.5</td><td>85.0</td><td>90.0</td><td>null</td><td>90.0</td><td>45.0</td><td>50.0</td><td>-55.0</td><td>null</td><td>50.0</td><td>100.0</td><td>107.5</td><td>115.0</td><td>null</td><td>115.0</td><td>255.0</td><td>&quot;1&quot;</td><td>300.99</td><td>306.48</td><td>271.27</td><td>61.93</td><td>&quot;Yes&quot;</td><td>&quot;USA&quot;</td><td>&quot;CA&quot;</td><td>&quot;USAPL&quot;</td><td>&quot;IPF&quot;</td><td>&quot;2019-11-23&quot;</td><td>&quot;USA&quot;</td><td>&quot;CA&quot;</td><td>&quot;Mountain View&quot;</td><td>&quot;Boss of NorCal…</td></tr><tr><td>&quot;Elizabeth Nguy…</td><td>&quot;F&quot;</td><td>&quot;SBD&quot;</td><td>&quot;Raw&quot;</td><td>22.5</td><td>&quot;20-23&quot;</td><td>&quot;19-23&quot;</td><td>&quot;FR-O&quot;</td><td>54.5</td><td>&quot;57&quot;</td><td>77.5</td><td>85.0</td><td>90.0</td><td>null</td><td>90.0</td><td>45.0</td><td>50.0</td><td>-55.0</td><td>null</td><td>50.0</td><td>100.0</td><td>107.5</td><td>115.0</td><td>null</td><td>115.0</td><td>255.0</td><td>&quot;1&quot;</td><td>300.99</td><td>306.48</td><td>271.27</td><td>61.93</td><td>&quot;Yes&quot;</td><td>&quot;USA&quot;</td><td>&quot;CA&quot;</td><td>&quot;USAPL&quot;</td><td>&quot;IPF&quot;</td><td>&quot;2019-11-23&quot;</td><td>&quot;USA&quot;</td><td>&quot;CA&quot;</td><td>&quot;Mountain View&quot;</td><td>&quot;Boss of NorCal…</td></tr><tr><td>&quot;Elizabeth Nguy…</td><td>&quot;F&quot;</td><td>&quot;SBD&quot;</td><td>&quot;Raw&quot;</td><td>26.5</td><td>&quot;24-34&quot;</td><td>&quot;24-39&quot;</td><td>&quot;Open&quot;</td><td>56.9</td><td>&quot;58&quot;</td><td>97.0</td><td>105.0</td><td>108.0</td><td>null</td><td>108.0</td><td>49.0</td><td>53.0</td><td>55.0</td><td>null</td><td>55.0</td><td>130.0</td><td>141.0</td><td>-146.0</td><td>null</td><td>141.0</td><td>304.0</td><td>&quot;1&quot;</td><td>348.69</td><td>353.25</td><td>312.36</td><td>71.4</td><td>&quot;Yes&quot;</td><td>null</td><td>null</td><td>&quot;PA&quot;</td><td>&quot;WP&quot;</td><td>&quot;2019-10-26&quot;</td><td>&quot;Australia&quot;</td><td>&quot;VIC&quot;</td><td>&quot;Melbourne&quot;</td><td>&quot;Melbourne Open…</td></tr><tr><td>&quot;Elizabeth Nguy…</td><td>&quot;F&quot;</td><td>&quot;SBD&quot;</td><td>&quot;Raw&quot;</td><td>26.5</td><td>&quot;24-34&quot;</td><td>&quot;24-39&quot;</td><td>&quot;Open&quot;</td><td>57.35</td><td>&quot;58&quot;</td><td>100.0</td><td>106.0</td><td>110.0</td><td>null</td><td>110.0</td><td>46.0</td><td>50.0</td><td>53.0</td><td>null</td><td>53.0</td><td>128.0</td><td>138.0</td><td>145.0</td><td>null</td><td>145.0</td><td>308.0</td><td>&quot;2&quot;</td><td>351.47</td><td>355.69</td><td>314.48</td><td>71.92</td><td>&quot;Yes&quot;</td><td>null</td><td>null</td><td>&quot;PA&quot;</td><td>&quot;WP&quot;</td><td>&quot;2019-07-28&quot;</td><td>&quot;Australia&quot;</td><td>&quot;VIC&quot;</td><td>&quot;Ballarat&quot;</td><td>&quot;Ballarat Chall…</td></tr><tr><td>&quot;Elizabeth Nguy…</td><td>&quot;F&quot;</td><td>&quot;SBD&quot;</td><td>&quot;Raw&quot;</td><td>25.5</td><td>&quot;24-34&quot;</td><td>&quot;24-39&quot;</td><td>&quot;Open&quot;</td><td>57.25</td><td>&quot;58&quot;</td><td>95.0</td><td>102.5</td><td>-105.0</td><td>null</td><td>102.5</td><td>45.0</td><td>50.0</td><td>52.5</td><td>null</td><td>52.5</td><td>122.5</td><td>132.5</td><td>-137.5</td><td>null</td><td>132.5</td><td>287.5</td><td>&quot;5&quot;</td><td>328.45</td><td>332.47</td><td>293.96</td><td>67.22</td><td>&quot;Yes&quot;</td><td>null</td><td>null</td><td>&quot;PA&quot;</td><td>&quot;WP&quot;</td><td>&quot;2018-11-25&quot;</td><td>&quot;Australia&quot;</td><td>&quot;VIC&quot;</td><td>&quot;Melbourne&quot;</td><td>&quot;JPS Open IV&quot;</td></tr><tr><td>&quot;Elizabeth Nguy…</td><td>&quot;F&quot;</td><td>&quot;SBD&quot;</td><td>&quot;Raw&quot;</td><td>25.5</td><td>&quot;24-34&quot;</td><td>&quot;24-39&quot;</td><td>&quot;Open&quot;</td><td>56.3</td><td>&quot;57&quot;</td><td>95.0</td><td>102.5</td><td>-107.5</td><td>null</td><td>102.5</td><td>47.5</td><td>50.0</td><td>52.5</td><td>null</td><td>52.5</td><td>117.5</td><td>127.5</td><td>135.0</td><td>null</td><td>135.0</td><td>290.0</td><td>&quot;1&quot;</td><td>334.96</td><td>339.79</td><td>300.52</td><td>68.66</td><td>&quot;Yes&quot;</td><td>null</td><td>null</td><td>&quot;PA&quot;</td><td>&quot;WP&quot;</td><td>&quot;2018-07-15&quot;</td><td>&quot;Australia&quot;</td><td>&quot;VIC&quot;</td><td>&quot;Melbourne&quot;</td><td>&quot;Melbourne Stre…</td></tr><tr><td>&quot;Elizabeth Nguy…</td><td>&quot;F&quot;</td><td>&quot;SBD&quot;</td><td>&quot;Raw&quot;</td><td>25.5</td><td>&quot;24-34&quot;</td><td>&quot;24-39&quot;</td><td>&quot;Open&quot;</td><td>55.33</td><td>&quot;57&quot;</td><td>90.0</td><td>97.5</td><td>-102.5</td><td>null</td><td>97.5</td><td>45.0</td><td>47.5</td><td>50.0</td><td>null</td><td>50.0</td><td>112.5</td><td>120.0</td><td>125.0</td><td>null</td><td>125.0</td><td>272.5</td><td>&quot;1&quot;</td><td>318.4</td><td>323.66</td><td>286.37</td><td>65.39</td><td>&quot;Yes&quot;</td><td>null</td><td>null</td><td>&quot;PA&quot;</td><td>&quot;WP&quot;</td><td>&quot;2018-02-04&quot;</td><td>&quot;Australia&quot;</td><td>&quot;VIC&quot;</td><td>&quot;Melbourne&quot;</td><td>&quot;SFA New Year C…</td></tr><tr><td>&quot;Elizabeth Nguy…</td><td>&quot;F&quot;</td><td>&quot;SBD&quot;</td><td>&quot;Raw&quot;</td><td>27.5</td><td>&quot;24-34&quot;</td><td>&quot;24-39&quot;</td><td>&quot;FR-O&quot;</td><td>54.8</td><td>&quot;56&quot;</td><td>null</td><td>null</td><td>null</td><td>null</td><td>82.5</td><td>null</td><td>null</td><td>null</td><td>null</td><td>47.5</td><td>null</td><td>null</td><td>null</td><td>null</td><td>107.5</td><td>237.5</td><td>&quot;2&quot;</td><td>279.3</td><td>284.23</td><td>251.53</td><td>57.43</td><td>&quot;Yes&quot;</td><td>null</td><td>null</td><td>&quot;USAPL&quot;</td><td>&quot;IPF&quot;</td><td>&quot;2014-10-25&quot;</td><td>&quot;USA&quot;</td><td>&quot;IA&quot;</td><td>null</td><td>&quot;Best of the Mi…</td></tr></tbody></table></div>"
      ],
      "text/plain": [
       "shape: (11, 41)\n",
       "┌──────────────┬─────┬───────┬───────────┬───┬────────────┬────────────┬─────────────┬─────────────┐\n",
       "│ name         ┆ sex ┆ event ┆ equipment ┆ … ┆ meet_count ┆ meet_state ┆ meet_town   ┆ meet_name   │\n",
       "│ ---          ┆ --- ┆ ---   ┆ ---       ┆   ┆ ry         ┆ ---        ┆ ---         ┆ ---         │\n",
       "│ str          ┆ str ┆ str   ┆ str       ┆   ┆ ---        ┆ str        ┆ str         ┆ str         │\n",
       "│              ┆     ┆       ┆           ┆   ┆ str        ┆            ┆             ┆             │\n",
       "╞══════════════╪═════╪═══════╪═══════════╪═══╪════════════╪════════════╪═════════════╪═════════════╡\n",
       "│ Elizabeth    ┆ F   ┆ SBD   ┆ Raw       ┆ … ┆ Australia  ┆ null       ┆ null        ┆ Strength    │\n",
       "│ Nguyen       ┆     ┆       ┆           ┆   ┆            ┆            ┆             ┆ Culture Cup │\n",
       "│              ┆     ┆       ┆           ┆   ┆            ┆            ┆             ┆ 3           │\n",
       "│ Elizabeth    ┆ F   ┆ SBD   ┆ Raw       ┆ … ┆ Australia  ┆ null       ┆ null        ┆ JPS Spring  │\n",
       "│ Nguyen       ┆     ┆       ┆           ┆   ┆            ┆            ┆             ┆ Showdown    │\n",
       "│ Elizabeth    ┆ F   ┆ SBD   ┆ Raw       ┆ … ┆ Australia  ┆ VIC        ┆ null        ┆ The         │\n",
       "│ Nguyen       ┆     ┆       ┆           ┆   ┆            ┆            ┆             ┆ Strength    │\n",
       "│              ┆     ┆       ┆           ┆   ┆            ┆            ┆             ┆ Fortress    │\n",
       "│              ┆     ┆       ┆           ┆   ┆            ┆            ┆             ┆ 5th Birthd… │\n",
       "│ Elizabeth    ┆ F   ┆ SBD   ┆ Raw       ┆ … ┆ USA        ┆ CA         ┆ Mountain    ┆ Boss of     │\n",
       "│ Nguyen       ┆     ┆       ┆           ┆   ┆            ┆            ┆ View        ┆ NorCal 11   │\n",
       "│ …            ┆ …   ┆ …     ┆ …         ┆ … ┆ …          ┆ …          ┆ …           ┆ …           │\n",
       "│ Elizabeth    ┆ F   ┆ SBD   ┆ Raw       ┆ … ┆ Australia  ┆ VIC        ┆ Melbourne   ┆ JPS Open IV │\n",
       "│ Nguyen       ┆     ┆       ┆           ┆   ┆            ┆            ┆             ┆             │\n",
       "│ Elizabeth    ┆ F   ┆ SBD   ┆ Raw       ┆ … ┆ Australia  ┆ VIC        ┆ Melbourne   ┆ Melbourne   │\n",
       "│ Nguyen       ┆     ┆       ┆           ┆   ┆            ┆            ┆             ┆ Strength    │\n",
       "│              ┆     ┆       ┆           ┆   ┆            ┆            ┆             ┆ Culture     │\n",
       "│              ┆     ┆       ┆           ┆   ┆            ┆            ┆             ┆ Open        │\n",
       "│ Elizabeth    ┆ F   ┆ SBD   ┆ Raw       ┆ … ┆ Australia  ┆ VIC        ┆ Melbourne   ┆ SFA New     │\n",
       "│ Nguyen       ┆     ┆       ┆           ┆   ┆            ┆            ┆             ┆ Year        │\n",
       "│              ┆     ┆       ┆           ┆   ┆            ┆            ┆             ┆ Challenge   │\n",
       "│ Elizabeth    ┆ F   ┆ SBD   ┆ Raw       ┆ … ┆ USA        ┆ IA         ┆ null        ┆ Best of the │\n",
       "│ Nguyen       ┆     ┆       ┆           ┆   ┆            ┆            ┆             ┆ Midwest     │\n",
       "└──────────────┴─────┴───────┴───────────┴───┴────────────┴────────────┴─────────────┴─────────────┘"
      ]
     },
     "execution_count": 28,
     "metadata": {},
     "output_type": "execute_result"
    }
   ],
   "source": [
    "%sql select * from landing.lifts where name == 'Elizabeth Nguyen' order by date desc"
   ]
  },
  {
   "cell_type": "code",
   "execution_count": 37,
   "metadata": {},
   "outputs": [
    {
     "data": {
      "text/html": [
       "<div><style>\n",
       ".dataframe > thead > tr > th,\n",
       ".dataframe > tbody > tr > td {\n",
       "  text-align: right;\n",
       "}\n",
       "</style>\n",
       "<small>shape: (2823882, 41)</small><table border=\"1\" class=\"dataframe\"><thead><tr><th>name</th><th>sex</th><th>event</th><th>equipment</th><th>age</th><th>age_class</th><th>birth_year_class</th><th>division</th><th>bodyweight_kg</th><th>weight_class_kg</th><th>squat1_kg</th><th>squat2_kg</th><th>squat3_kg</th><th>squat4_kg</th><th>best3_squat_kg</th><th>bench1_kg</th><th>bench2_kg</th><th>bench3_kg</th><th>bench4_kg</th><th>best3_bench_kg</th><th>deadlift1_kg</th><th>deadlift2_kg</th><th>deadlift3_kg</th><th>deadlift4_kg</th><th>best3_deadlift_kg</th><th>total_kg</th><th>place</th><th>dots</th><th>wilks</th><th>glossbrenner</th><th>goodlift</th><th>tested</th><th>country</th><th>state</th><th>federation</th><th>parent_federation</th><th>date</th><th>meet_country</th><th>meet_state</th><th>meet_town</th><th>meet_name</th></tr><tr><td>str</td><td>str</td><td>str</td><td>str</td><td>f64</td><td>str</td><td>str</td><td>str</td><td>f64</td><td>str</td><td>f64</td><td>f64</td><td>f64</td><td>f64</td><td>f64</td><td>f64</td><td>f64</td><td>f64</td><td>f64</td><td>f64</td><td>f64</td><td>f64</td><td>f64</td><td>f64</td><td>f64</td><td>f64</td><td>i32</td><td>f64</td><td>f64</td><td>f64</td><td>f64</td><td>str</td><td>str</td><td>str</td><td>str</td><td>str</td><td>date</td><td>str</td><td>str</td><td>str</td><td>str</td></tr></thead><tbody><tr><td>&quot;Alona Vladi&quot;</td><td>&quot;F&quot;</td><td>&quot;SBD&quot;</td><td>&quot;Raw&quot;</td><td>33.0</td><td>&quot;24-34&quot;</td><td>&quot;24-39&quot;</td><td>&quot;O&quot;</td><td>58.3</td><td>&quot;60&quot;</td><td>75.0</td><td>80.0</td><td>-90.0</td><td>null</td><td>80.0</td><td>50.0</td><td>55.0</td><td>60.0</td><td>null</td><td>60.0</td><td>95.0</td><td>105.0</td><td>107.5</td><td>null</td><td>107.5</td><td>247.5</td><td>1</td><td>279.44</td><td>282.18</td><td>249.42</td><td>57.1</td><td>&quot;Yes&quot;</td><td>&quot;Russia&quot;</td><td>null</td><td>&quot;GFP&quot;</td><td>null</td><td>2019-05-11</td><td>&quot;Russia&quot;</td><td>null</td><td>&quot;Bryansk&quot;</td><td>&quot;Open Tournamen…</td></tr><tr><td>&quot;Galina Solovya…</td><td>&quot;F&quot;</td><td>&quot;SBD&quot;</td><td>&quot;Raw&quot;</td><td>43.0</td><td>&quot;40-44&quot;</td><td>&quot;40-49&quot;</td><td>&quot;M1&quot;</td><td>73.1</td><td>&quot;75&quot;</td><td>95.0</td><td>100.0</td><td>105.0</td><td>null</td><td>105.0</td><td>62.5</td><td>67.5</td><td>-72.5</td><td>null</td><td>67.5</td><td>100.0</td><td>110.0</td><td>-120.0</td><td>null</td><td>110.0</td><td>282.5</td><td>1</td><td>278.95</td><td>272.99</td><td>240.35</td><td>56.76</td><td>&quot;Yes&quot;</td><td>&quot;Russia&quot;</td><td>null</td><td>&quot;GFP&quot;</td><td>null</td><td>2019-05-11</td><td>&quot;Russia&quot;</td><td>null</td><td>&quot;Bryansk&quot;</td><td>&quot;Open Tournamen…</td></tr><tr><td>&quot;Daniil Voronin…</td><td>&quot;M&quot;</td><td>&quot;SBD&quot;</td><td>&quot;Raw&quot;</td><td>15.5</td><td>&quot;16-17&quot;</td><td>&quot;14-18&quot;</td><td>&quot;T&quot;</td><td>67.4</td><td>&quot;75&quot;</td><td>85.0</td><td>90.0</td><td>100.0</td><td>null</td><td>100.0</td><td>55.0</td><td>62.5</td><td>-65.0</td><td>null</td><td>62.5</td><td>90.0</td><td>100.0</td><td>105.0</td><td>null</td><td>105.0</td><td>267.5</td><td>1</td><td>206.4</td><td>206.49</td><td>200.45</td><td>41.24</td><td>&quot;Yes&quot;</td><td>&quot;Russia&quot;</td><td>null</td><td>&quot;GFP&quot;</td><td>null</td><td>2019-05-11</td><td>&quot;Russia&quot;</td><td>null</td><td>&quot;Bryansk&quot;</td><td>&quot;Open Tournamen…</td></tr><tr><td>&quot;Aleksey Krasov…</td><td>&quot;M&quot;</td><td>&quot;SBD&quot;</td><td>&quot;Raw&quot;</td><td>35.0</td><td>&quot;35-39&quot;</td><td>&quot;24-39&quot;</td><td>&quot;O&quot;</td><td>66.65</td><td>&quot;75&quot;</td><td>125.0</td><td>132.0</td><td>137.5</td><td>null</td><td>137.5</td><td>115.0</td><td>122.5</td><td>-127.5</td><td>null</td><td>122.5</td><td>150.0</td><td>165.0</td><td>170.0</td><td>null</td><td>170.0</td><td>430.0</td><td>1</td><td>334.49</td><td>334.94</td><td>325.32</td><td>66.68</td><td>&quot;Yes&quot;</td><td>&quot;Russia&quot;</td><td>null</td><td>&quot;GFP&quot;</td><td>null</td><td>2019-05-11</td><td>&quot;Russia&quot;</td><td>null</td><td>&quot;Bryansk&quot;</td><td>&quot;Open Tournamen…</td></tr><tr><td>&quot;Margarita Ples…</td><td>&quot;M&quot;</td><td>&quot;SBD&quot;</td><td>&quot;Raw&quot;</td><td>26.5</td><td>&quot;24-34&quot;</td><td>&quot;24-39&quot;</td><td>&quot;O&quot;</td><td>72.45</td><td>&quot;75&quot;</td><td>80.0</td><td>85.0</td><td>90.0</td><td>null</td><td>90.0</td><td>40.0</td><td>50.0</td><td>-60.0</td><td>null</td><td>50.0</td><td>112.5</td><td>120.0</td><td>125.0</td><td>null</td><td>125.0</td><td>265.0</td><td>1</td><td>194.46</td><td>193.55</td><td>187.29</td><td>39.34</td><td>&quot;Yes&quot;</td><td>&quot;Russia&quot;</td><td>null</td><td>&quot;GFP&quot;</td><td>null</td><td>2019-05-11</td><td>&quot;Russia&quot;</td><td>null</td><td>&quot;Bryansk&quot;</td><td>&quot;Open Tournamen…</td></tr><tr><td>&quot;Sergey Timoshe…</td><td>&quot;M&quot;</td><td>&quot;SBD&quot;</td><td>&quot;Raw&quot;</td><td>15.5</td><td>&quot;16-17&quot;</td><td>&quot;14-18&quot;</td><td>&quot;T&quot;</td><td>78.8</td><td>&quot;85&quot;</td><td>90.0</td><td>-95.0</td><td>100.0</td><td>null</td><td>100.0</td><td>60.0</td><td>-65.0</td><td>-67.5</td><td>null</td><td>60.0</td><td>90.0</td><td>105.0</td><td>115.0</td><td>null</td><td>115.0</td><td>275.0</td><td>1</td><td>191.34</td><td>189.56</td><td>182.77</td><td>39.09</td><td>&quot;Yes&quot;</td><td>&quot;Russia&quot;</td><td>null</td><td>&quot;GFP&quot;</td><td>null</td><td>2019-05-11</td><td>&quot;Russia&quot;</td><td>null</td><td>&quot;Bryansk&quot;</td><td>&quot;Open Tournamen…</td></tr><tr><td>&quot;Vladimir Karav…</td><td>&quot;M&quot;</td><td>&quot;SBD&quot;</td><td>&quot;Raw&quot;</td><td>57.5</td><td>&quot;55-59&quot;</td><td>&quot;50-59&quot;</td><td>&quot;M2&quot;</td><td>79.65</td><td>&quot;85&quot;</td><td>50.0</td><td>150.0</td><td>180.0</td><td>null</td><td>180.0</td><td>50.0</td><td>100.0</td><td>-110.0</td><td>null</td><td>100.0</td><td>55.0</td><td>null</td><td>null</td><td>null</td><td>55.0</td><td>335.0</td><td>1</td><td>231.6</td><td>229.34</td><td>221.02</td><td>47.35</td><td>&quot;Yes&quot;</td><td>&quot;Russia&quot;</td><td>null</td><td>&quot;GFP&quot;</td><td>null</td><td>2019-05-11</td><td>&quot;Russia&quot;</td><td>null</td><td>&quot;Bryansk&quot;</td><td>&quot;Open Tournamen…</td></tr><tr><td>&quot;Tatyana Altuni…</td><td>&quot;F&quot;</td><td>&quot;SBD&quot;</td><td>&quot;Raw&quot;</td><td>26.0</td><td>&quot;24-34&quot;</td><td>&quot;24-39&quot;</td><td>&quot;O&quot;</td><td>96.5</td><td>&quot;105&quot;</td><td>85.0</td><td>95.0</td><td>100.0</td><td>null</td><td>100.0</td><td>40.0</td><td>47.5</td><td>-50.0</td><td>null</td><td>47.5</td><td>115.0</td><td>130.0</td><td>140.0</td><td>null</td><td>140.0</td><td>287.5</td><td>1</td><td>248.84</td><td>242.04</td><td>208.84</td><td>51.79</td><td>&quot;Yes&quot;</td><td>&quot;Russia&quot;</td><td>null</td><td>&quot;GFP&quot;</td><td>null</td><td>2019-05-11</td><td>&quot;Russia&quot;</td><td>null</td><td>&quot;Bryansk&quot;</td><td>&quot;Open Tournamen…</td></tr><tr><td>&quot;Ruslan Gasanov…</td><td>&quot;M&quot;</td><td>&quot;SBD&quot;</td><td>&quot;Raw&quot;</td><td>31.5</td><td>&quot;24-34&quot;</td><td>&quot;24-39&quot;</td><td>&quot;O&quot;</td><td>102.55</td><td>&quot;105&quot;</td><td>210.0</td><td>225.0</td><td>232.5</td><td>null</td><td>232.5</td><td>150.0</td><td>160.0</td><td>-165.0</td><td>null</td><td>160.0</td><td>240.0</td><td>260.0</td><td>-270.0</td><td>null</td><td>260.0</td><td>652.5</td><td>1</td><td>397.35</td><td>393.25</td><td>375.51</td><td>81.45</td><td>null</td><td>&quot;Russia&quot;</td><td>null</td><td>&quot;GFP&quot;</td><td>null</td><td>2019-05-11</td><td>&quot;Russia&quot;</td><td>null</td><td>&quot;Bryansk&quot;</td><td>&quot;Open Tournamen…</td></tr><tr><td>&quot;Ekaterina Gluk…</td><td>&quot;F&quot;</td><td>&quot;SBD&quot;</td><td>&quot;Wraps&quot;</td><td>25.5</td><td>&quot;24-34&quot;</td><td>&quot;24-39&quot;</td><td>&quot;O&quot;</td><td>54.8</td><td>&quot;55&quot;</td><td>80.0</td><td>-95.0</td><td>-95.0</td><td>null</td><td>80.0</td><td>30.0</td><td>-35.0</td><td>37.5</td><td>null</td><td>37.5</td><td>85.0</td><td>-95.0</td><td>95.0</td><td>null</td><td>95.0</td><td>212.5</td><td>1</td><td>249.9</td><td>254.31</td><td>225.06</td><td>51.38</td><td>&quot;Yes&quot;</td><td>&quot;Russia&quot;</td><td>null</td><td>&quot;GFP&quot;</td><td>null</td><td>2019-05-11</td><td>&quot;Russia&quot;</td><td>null</td><td>&quot;Bryansk&quot;</td><td>&quot;Open Tournamen…</td></tr><tr><td>&quot;Ruslan Gurbato…</td><td>&quot;M&quot;</td><td>&quot;SBD&quot;</td><td>&quot;Wraps&quot;</td><td>25.5</td><td>&quot;24-34&quot;</td><td>&quot;24-39&quot;</td><td>&quot;O&quot;</td><td>73.05</td><td>&quot;75&quot;</td><td>130.0</td><td>-140.0</td><td>140.0</td><td>null</td><td>140.0</td><td>100.0</td><td>107.5</td><td>null</td><td>null</td><td>107.5</td><td>130.0</td><td>145.0</td><td>150.0</td><td>null</td><td>150.0</td><td>397.5</td><td>1</td><td>290.09</td><td>288.58</td><td>279.16</td><td>58.75</td><td>&quot;Yes&quot;</td><td>&quot;Russia&quot;</td><td>null</td><td>&quot;GFP&quot;</td><td>null</td><td>2019-05-11</td><td>&quot;Russia&quot;</td><td>null</td><td>&quot;Bryansk&quot;</td><td>&quot;Open Tournamen…</td></tr><tr><td>&quot;Denis Balotvin…</td><td>&quot;M&quot;</td><td>&quot;SBD&quot;</td><td>&quot;Wraps&quot;</td><td>25.5</td><td>&quot;24-34&quot;</td><td>&quot;24-39&quot;</td><td>&quot;O&quot;</td><td>94.75</td><td>&quot;95&quot;</td><td>-180.0</td><td>-185.0</td><td>185.0</td><td>null</td><td>185.0</td><td>140.0</td><td>145.0</td><td>150.0</td><td>null</td><td>150.0</td><td>230.0</td><td>245.0</td><td>250.0</td><td>null</td><td>250.0</td><td>585.0</td><td>1</td><td>368.93</td><td>364.32</td><td>348.46</td><td>75.84</td><td>&quot;Yes&quot;</td><td>&quot;Russia&quot;</td><td>null</td><td>&quot;GFP&quot;</td><td>null</td><td>2019-05-11</td><td>&quot;Russia&quot;</td><td>null</td><td>&quot;Bryansk&quot;</td><td>&quot;Open Tournamen…</td></tr><tr><td>&hellip;</td><td>&hellip;</td><td>&hellip;</td><td>&hellip;</td><td>&hellip;</td><td>&hellip;</td><td>&hellip;</td><td>&hellip;</td><td>&hellip;</td><td>&hellip;</td><td>&hellip;</td><td>&hellip;</td><td>&hellip;</td><td>&hellip;</td><td>&hellip;</td><td>&hellip;</td><td>&hellip;</td><td>&hellip;</td><td>&hellip;</td><td>&hellip;</td><td>&hellip;</td><td>&hellip;</td><td>&hellip;</td><td>&hellip;</td><td>&hellip;</td><td>&hellip;</td><td>&hellip;</td><td>&hellip;</td><td>&hellip;</td><td>&hellip;</td><td>&hellip;</td><td>&hellip;</td><td>&hellip;</td><td>&hellip;</td><td>&hellip;</td><td>&hellip;</td><td>&hellip;</td><td>&hellip;</td><td>&hellip;</td><td>&hellip;</td><td>&hellip;</td></tr><tr><td>&quot;Nairu Liendo&quot;</td><td>&quot;F&quot;</td><td>&quot;SBD&quot;</td><td>&quot;Single-ply&quot;</td><td>33.5</td><td>&quot;24-34&quot;</td><td>&quot;24-39&quot;</td><td>&quot;Open&quot;</td><td>79.62</td><td>&quot;84&quot;</td><td>-205.0</td><td>-210.0</td><td>210.0</td><td>null</td><td>210.0</td><td>120.0</td><td>130.0</td><td>-137.5</td><td>null</td><td>130.0</td><td>195.0</td><td>-205.0</td><td>-205.0</td><td>null</td><td>195.0</td><td>535.0</td><td>9</td><td>505.3</td><td>490.83</td><td>430.57</td><td>86.01</td><td>&quot;Yes&quot;</td><td>&quot;Venezuela&quot;</td><td>null</td><td>&quot;IPF&quot;</td><td>&quot;IPF&quot;</td><td>2016-11-14</td><td>&quot;USA&quot;</td><td>null</td><td>&quot;Orlando&quot;</td><td>&quot;World Open Cha…</td></tr><tr><td>&quot;Jane Aaberg&quot;</td><td>&quot;F&quot;</td><td>&quot;SBD&quot;</td><td>&quot;Single-ply&quot;</td><td>35.0</td><td>&quot;35-39&quot;</td><td>&quot;24-39&quot;</td><td>&quot;Open&quot;</td><td>83.78</td><td>&quot;84&quot;</td><td>195.0</td><td>-210.0</td><td>210.0</td><td>null</td><td>210.0</td><td>100.0</td><td>-107.5</td><td>-107.5</td><td>null</td><td>100.0</td><td>210.0</td><td>215.0</td><td>225.0</td><td>null</td><td>225.0</td><td>535.0</td><td>10</td><td>492.9</td><td>477.71</td><td>417.71</td><td>84.22</td><td>&quot;Yes&quot;</td><td>&quot;Denmark&quot;</td><td>null</td><td>&quot;IPF&quot;</td><td>&quot;IPF&quot;</td><td>2016-11-14</td><td>&quot;USA&quot;</td><td>null</td><td>&quot;Orlando&quot;</td><td>&quot;World Open Cha…</td></tr><tr><td>&quot;Frida Wik&quot;</td><td>&quot;F&quot;</td><td>&quot;SBD&quot;</td><td>&quot;Single-ply&quot;</td><td>25.0</td><td>&quot;24-34&quot;</td><td>&quot;24-39&quot;</td><td>&quot;Open&quot;</td><td>75.98</td><td>&quot;84&quot;</td><td>185.0</td><td>-192.5</td><td>-195.0</td><td>null</td><td>185.0</td><td>145.0</td><td>150.0</td><td>-155.0</td><td>null</td><td>150.0</td><td>185.0</td><td>195.0</td><td>-207.5</td><td>null</td><td>195.0</td><td>530.0</td><td>11</td><td>512.7</td><td>499.8</td><td>439.43</td><td>86.97</td><td>&quot;Yes&quot;</td><td>&quot;Sweden&quot;</td><td>null</td><td>&quot;IPF&quot;</td><td>&quot;IPF&quot;</td><td>2016-11-14</td><td>&quot;USA&quot;</td><td>null</td><td>&quot;Orlando&quot;</td><td>&quot;World Open Cha…</td></tr><tr><td>&quot;Christie Civet…</td><td>&quot;F&quot;</td><td>&quot;SBD&quot;</td><td>&quot;Single-ply&quot;</td><td>23.5</td><td>&quot;24-34&quot;</td><td>&quot;24-39&quot;</td><td>&quot;Open&quot;</td><td>79.48</td><td>&quot;84&quot;</td><td>190.0</td><td>-200.0</td><td>-202.5</td><td>null</td><td>190.0</td><td>-107.5</td><td>107.5</td><td>115.0</td><td>null</td><td>115.0</td><td>165.0</td><td>175.0</td><td>-185.0</td><td>null</td><td>175.0</td><td>480.0</td><td>12</td><td>453.76</td><td>440.81</td><td>386.72</td><td>77.22</td><td>&quot;Yes&quot;</td><td>&quot;England&quot;</td><td>null</td><td>&quot;IPF&quot;</td><td>&quot;IPF&quot;</td><td>2016-11-14</td><td>&quot;USA&quot;</td><td>null</td><td>&quot;Orlando&quot;</td><td>&quot;World Open Cha…</td></tr><tr><td>&quot;Alexandra Tich…</td><td>&quot;F&quot;</td><td>&quot;SBD&quot;</td><td>&quot;Single-ply&quot;</td><td>25.5</td><td>&quot;24-34&quot;</td><td>&quot;24-39&quot;</td><td>&quot;Open&quot;</td><td>83.23</td><td>&quot;84&quot;</td><td>167.5</td><td>-180.0</td><td>180.0</td><td>null</td><td>180.0</td><td>125.0</td><td>-130.0</td><td>-130.0</td><td>null</td><td>125.0</td><td>170.0</td><td>-177.5</td><td>-177.5</td><td>null</td><td>170.0</td><td>475.0</td><td>13</td><td>439.0</td><td>425.55</td><td>372.27</td><td>74.98</td><td>&quot;Yes&quot;</td><td>&quot;Austria&quot;</td><td>null</td><td>&quot;IPF&quot;</td><td>&quot;IPF&quot;</td><td>2016-11-14</td><td>&quot;USA&quot;</td><td>null</td><td>&quot;Orlando&quot;</td><td>&quot;World Open Cha…</td></tr><tr><td>&quot;Dani Savoie&quot;</td><td>&quot;F&quot;</td><td>&quot;SBD&quot;</td><td>&quot;Single-ply&quot;</td><td>25.5</td><td>&quot;24-34&quot;</td><td>&quot;24-39&quot;</td><td>&quot;Open&quot;</td><td>75.36</td><td>&quot;84&quot;</td><td>-175.0</td><td>175.0</td><td>185.0</td><td>null</td><td>185.0</td><td>107.5</td><td>115.0</td><td>-120.0</td><td>null</td><td>115.0</td><td>172.5</td><td>-177.5</td><td>-177.5</td><td>null</td><td>172.5</td><td>472.5</td><td>14</td><td>459.04</td><td>447.84</td><td>393.87</td><td>77.83</td><td>&quot;Yes&quot;</td><td>&quot;Canada&quot;</td><td>null</td><td>&quot;IPF&quot;</td><td>&quot;IPF&quot;</td><td>2016-11-14</td><td>&quot;USA&quot;</td><td>null</td><td>&quot;Orlando&quot;</td><td>&quot;World Open Cha…</td></tr><tr><td>&quot;Bonica Brown&quot;</td><td>&quot;F&quot;</td><td>&quot;SBD&quot;</td><td>&quot;Single-ply&quot;</td><td>28.0</td><td>&quot;24-34&quot;</td><td>&quot;24-39&quot;</td><td>&quot;Open&quot;</td><td>128.58</td><td>&quot;84+&quot;</td><td>270.0</td><td>285.0</td><td>297.5</td><td>null</td><td>297.5</td><td>185.0</td><td>197.5</td><td>-202.5</td><td>null</td><td>197.5</td><td>210.0</td><td>227.5</td><td>230.0</td><td>null</td><td>230.0</td><td>725.0</td><td>1</td><td>571.52</td><td>572.68</td><td>483.55</td><td>101.09</td><td>&quot;Yes&quot;</td><td>&quot;USA&quot;</td><td>null</td><td>&quot;IPF&quot;</td><td>&quot;IPF&quot;</td><td>2016-11-14</td><td>&quot;USA&quot;</td><td>null</td><td>&quot;Orlando&quot;</td><td>&quot;World Open Cha…</td></tr><tr><td>&quot;Ya-Wen Chang&quot;</td><td>&quot;F&quot;</td><td>&quot;SBD&quot;</td><td>&quot;Single-ply&quot;</td><td>32.0</td><td>&quot;24-34&quot;</td><td>&quot;24-39&quot;</td><td>&quot;Open&quot;</td><td>95.0</td><td>&quot;84+&quot;</td><td>250.0</td><td>255.0</td><td>260.0</td><td>null</td><td>260.0</td><td>150.0</td><td>-160.0</td><td>160.0</td><td>null</td><td>160.0</td><td>205.0</td><td>222.5</td><td>227.5</td><td>null</td><td>227.5</td><td>647.5</td><td>2</td><td>564.05</td><td>548.04</td><td>473.7</td><td>97.41</td><td>&quot;Yes&quot;</td><td>&quot;Taiwan&quot;</td><td>null</td><td>&quot;IPF&quot;</td><td>&quot;IPF&quot;</td><td>2016-11-14</td><td>&quot;USA&quot;</td><td>null</td><td>&quot;Orlando&quot;</td><td>&quot;World Open Cha…</td></tr><tr><td>&quot;Inna Orobets&quot;</td><td>&quot;F&quot;</td><td>&quot;SBD&quot;</td><td>&quot;Single-ply&quot;</td><td>45.0</td><td>&quot;45-49&quot;</td><td>&quot;40-49&quot;</td><td>&quot;Open&quot;</td><td>109.3</td><td>&quot;84+&quot;</td><td>235.0</td><td>-242.5</td><td>242.5</td><td>null</td><td>242.5</td><td>175.0</td><td>182.5</td><td>187.5</td><td>null</td><td>187.5</td><td>200.0</td><td>210.0</td><td>215.0</td><td>null</td><td>215.0</td><td>645.0</td><td>3</td><td>532.83</td><td>525.14</td><td>447.12</td><td>93.16</td><td>&quot;Yes&quot;</td><td>&quot;Ukraine&quot;</td><td>null</td><td>&quot;IPF&quot;</td><td>&quot;IPF&quot;</td><td>2016-11-14</td><td>&quot;USA&quot;</td><td>null</td><td>&quot;Orlando&quot;</td><td>&quot;World Open Cha…</td></tr><tr><td>&quot;Ágnes Szabó&quot;</td><td>&quot;F&quot;</td><td>&quot;SBD&quot;</td><td>&quot;Single-ply&quot;</td><td>27.5</td><td>&quot;24-34&quot;</td><td>&quot;24-39&quot;</td><td>&quot;Open&quot;</td><td>113.22</td><td>&quot;84+&quot;</td><td>-237.5</td><td>237.5</td><td>-247.5</td><td>null</td><td>237.5</td><td>182.5</td><td>190.0</td><td>195.0</td><td>null</td><td>195.0</td><td>185.0</td><td>200.0</td><td>-210.0</td><td>null</td><td>200.0</td><td>632.5</td><td>4</td><td>516.46</td><td>511.26</td><td>434.61</td><td>90.57</td><td>&quot;Yes&quot;</td><td>&quot;Hungary&quot;</td><td>null</td><td>&quot;IPF&quot;</td><td>&quot;IPF&quot;</td><td>2016-11-14</td><td>&quot;USA&quot;</td><td>null</td><td>&quot;Orlando&quot;</td><td>&quot;World Open Cha…</td></tr><tr><td>&quot;Brenda van der…</td><td>&quot;F&quot;</td><td>&quot;SBD&quot;</td><td>&quot;Single-ply&quot;</td><td>37.5</td><td>&quot;35-39&quot;</td><td>&quot;24-39&quot;</td><td>&quot;Open&quot;</td><td>110.79</td><td>&quot;84+&quot;</td><td>210.0</td><td>222.5</td><td>227.5</td><td>null</td><td>227.5</td><td>190.0</td><td>-200.0</td><td>200.0</td><td>null</td><td>200.0</td><td>185.0</td><td>190.0</td><td>-195.0</td><td>null</td><td>190.0</td><td>617.5</td><td>5</td><td>507.79</td><td>501.32</td><td>426.6</td><td>88.89</td><td>&quot;Yes&quot;</td><td>&quot;Netherlands&quot;</td><td>null</td><td>&quot;IPF&quot;</td><td>&quot;IPF&quot;</td><td>2016-11-14</td><td>&quot;USA&quot;</td><td>null</td><td>&quot;Orlando&quot;</td><td>&quot;World Open Cha…</td></tr><tr><td>&quot;Kelly Phasey&quot;</td><td>&quot;F&quot;</td><td>&quot;SBD&quot;</td><td>&quot;Single-ply&quot;</td><td>39.5</td><td>&quot;35-39&quot;</td><td>&quot;40-49&quot;</td><td>&quot;Open&quot;</td><td>124.53</td><td>&quot;84+&quot;</td><td>210.0</td><td>220.0</td><td>-227.5</td><td>null</td><td>220.0</td><td>140.0</td><td>-147.5</td><td>150.0</td><td>null</td><td>150.0</td><td>145.0</td><td>-155.0</td><td>-155.0</td><td>null</td><td>145.0</td><td>515.0</td><td>6</td><td>409.13</td><td>409.13</td><td>345.98</td><td>72.24</td><td>&quot;Yes&quot;</td><td>&quot;England&quot;</td><td>null</td><td>&quot;IPF&quot;</td><td>&quot;IPF&quot;</td><td>2016-11-14</td><td>&quot;USA&quot;</td><td>null</td><td>&quot;Orlando&quot;</td><td>&quot;World Open Cha…</td></tr></tbody></table></div>"
      ],
      "text/plain": [
       "shape: (2_823_882, 41)\n",
       "┌──────────────┬─────┬───────┬────────────┬───┬────────────┬────────────┬───────────┬──────────────┐\n",
       "│ name         ┆ sex ┆ event ┆ equipment  ┆ … ┆ meet_count ┆ meet_state ┆ meet_town ┆ meet_name    │\n",
       "│ ---          ┆ --- ┆ ---   ┆ ---        ┆   ┆ ry         ┆ ---        ┆ ---       ┆ ---          │\n",
       "│ str          ┆ str ┆ str   ┆ str        ┆   ┆ ---        ┆ str        ┆ str       ┆ str          │\n",
       "│              ┆     ┆       ┆            ┆   ┆ str        ┆            ┆           ┆              │\n",
       "╞══════════════╪═════╪═══════╪════════════╪═══╪════════════╪════════════╪═══════════╪══════════════╡\n",
       "│ Alona Vladi  ┆ F   ┆ SBD   ┆ Raw        ┆ … ┆ Russia     ┆ null       ┆ Bryansk   ┆ Open         │\n",
       "│              ┆     ┆       ┆            ┆   ┆            ┆            ┆           ┆ Tournament   │\n",
       "│ Galina       ┆ F   ┆ SBD   ┆ Raw        ┆ … ┆ Russia     ┆ null       ┆ Bryansk   ┆ Open         │\n",
       "│ Solovyanova  ┆     ┆       ┆            ┆   ┆            ┆            ┆           ┆ Tournament   │\n",
       "│ Daniil       ┆ M   ┆ SBD   ┆ Raw        ┆ … ┆ Russia     ┆ null       ┆ Bryansk   ┆ Open         │\n",
       "│ Voronin      ┆     ┆       ┆            ┆   ┆            ┆            ┆           ┆ Tournament   │\n",
       "│ Aleksey      ┆ M   ┆ SBD   ┆ Raw        ┆ … ┆ Russia     ┆ null       ┆ Bryansk   ┆ Open         │\n",
       "│ Krasov       ┆     ┆       ┆            ┆   ┆            ┆            ┆           ┆ Tournament   │\n",
       "│ …            ┆ …   ┆ …     ┆ …          ┆ … ┆ …          ┆ …          ┆ …         ┆ …            │\n",
       "│ Inna Orobets ┆ F   ┆ SBD   ┆ Single-ply ┆ … ┆ USA        ┆ null       ┆ Orlando   ┆ World Open   │\n",
       "│              ┆     ┆       ┆            ┆   ┆            ┆            ┆           ┆ Championship │\n",
       "│              ┆     ┆       ┆            ┆   ┆            ┆            ┆           ┆ s            │\n",
       "│ Ágnes Szabó  ┆ F   ┆ SBD   ┆ Single-ply ┆ … ┆ USA        ┆ null       ┆ Orlando   ┆ World Open   │\n",
       "│              ┆     ┆       ┆            ┆   ┆            ┆            ┆           ┆ Championship │\n",
       "│              ┆     ┆       ┆            ┆   ┆            ┆            ┆           ┆ s            │\n",
       "│ Brenda van   ┆ F   ┆ SBD   ┆ Single-ply ┆ … ┆ USA        ┆ null       ┆ Orlando   ┆ World Open   │\n",
       "│ der Meulen   ┆     ┆       ┆            ┆   ┆            ┆            ┆           ┆ Championship │\n",
       "│              ┆     ┆       ┆            ┆   ┆            ┆            ┆           ┆ s            │\n",
       "│ Kelly Phasey ┆ F   ┆ SBD   ┆ Single-ply ┆ … ┆ USA        ┆ null       ┆ Orlando   ┆ World Open   │\n",
       "│              ┆     ┆       ┆            ┆   ┆            ┆            ┆           ┆ Championship │\n",
       "│              ┆     ┆       ┆            ┆   ┆            ┆            ┆           ┆ s            │\n",
       "└──────────────┴─────┴───────┴────────────┴───┴────────────┴────────────┴───────────┴──────────────┘"
      ]
     },
     "execution_count": 37,
     "metadata": {},
     "output_type": "execute_result"
    }
   ],
   "source": [
    "%%sql\n",
    "select *,\n",
    "cast(date as date) as date,\n",
    "cast(place as int) as place from landing.lifts\n",
    "where place not in ('DQ', 'NS', 'G', 'DD') -- remove disqualifications, no shows, and guest lifters"
   ]
  },
  {
   "cell_type": "code",
   "execution_count": null,
   "metadata": {},
   "outputs": [],
   "source": []
  }
 ],
 "metadata": {
  "kernelspec": {
   "display_name": "powerlifting-ml-progress-3.11.6",
   "language": "python",
   "name": "python3"
  },
  "language_info": {
   "codemirror_mode": {
    "name": "ipython",
    "version": 3
   },
   "file_extension": ".py",
   "mimetype": "text/x-python",
   "name": "python",
   "nbconvert_exporter": "python",
   "pygments_lexer": "ipython3",
   "version": "3.11.6"
  }
 },
 "nbformat": 4,
 "nbformat_minor": 2
}
