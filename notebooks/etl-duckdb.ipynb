{
 "cells": [
  {
   "cell_type": "markdown",
   "metadata": {},
   "source": [
    "## ETL on `OpenPowerlifting` Data via `duckdb`"
   ]
  },
  {
   "cell_type": "code",
   "execution_count": 1,
   "metadata": {},
   "outputs": [],
   "source": [
    "from IPython.display import display, Markdown\n",
    "import polars as pl\n",
    "from datetime import datetime as dt\n",
    "\n",
    "# read configs\n",
    "import sys\n",
    "from pathlib import Path\n",
    "\n",
    "sys.path.append(str(Path().resolve().parent))\n",
    "from steps import conf\n",
    "\n",
    "s3_file_path = f\"https://{conf.bucket_name}.s3.ap-southeast-2.amazonaws.com/{conf.parquet_file}\""
   ]
  },
  {
   "cell_type": "code",
   "execution_count": 24,
   "metadata": {},
   "outputs": [],
   "source": [
    "df = pl.read_parquet(s3_file_path)"
   ]
  },
  {
   "cell_type": "code",
   "execution_count": 25,
   "metadata": {},
   "outputs": [],
   "source": [
    "import re\n",
    "\n",
    "\n",
    "# functions\n",
    "def camel_to_snake(camel_str):\n",
    "    snake_str = re.sub(r\"(?<!^)(?=[A-Z])\", \"_\", camel_str).lower()\n",
    "    return snake_str"
   ]
  },
  {
   "cell_type": "code",
   "execution_count": 32,
   "metadata": {},
   "outputs": [
    {
     "data": {
      "text/html": [
       "<div><style>\n",
       ".dataframe > thead > tr > th,\n",
       ".dataframe > tbody > tr > td {\n",
       "  text-align: right;\n",
       "}\n",
       "</style>\n",
       "<small>shape: (3035015, 41)</small><table border=\"1\" class=\"dataframe\"><thead><tr><th>name</th><th>sex</th><th>event</th><th>equipment</th><th>age</th><th>age_class</th><th>birth_year_class</th><th>division</th><th>bodyweight_kg</th><th>weight_class_kg</th><th>squat1_kg</th><th>squat2_kg</th><th>squat3_kg</th><th>squat4_kg</th><th>best3_squat_kg</th><th>bench1_kg</th><th>bench2_kg</th><th>bench3_kg</th><th>bench4_kg</th><th>best3_bench_kg</th><th>deadlift1_kg</th><th>deadlift2_kg</th><th>deadlift3_kg</th><th>deadlift4_kg</th><th>best3_deadlift_kg</th><th>total_kg</th><th>place</th><th>dots</th><th>wilks</th><th>glossbrenner</th><th>goodlift</th><th>tested</th><th>country</th><th>state</th><th>federation</th><th>parent_federation</th><th>date</th><th>meet_country</th><th>meet_state</th><th>meet_town</th><th>meet_name</th></tr><tr><td>str</td><td>str</td><td>str</td><td>str</td><td>f64</td><td>str</td><td>str</td><td>str</td><td>f64</td><td>str</td><td>f64</td><td>f64</td><td>f64</td><td>f64</td><td>f64</td><td>f64</td><td>f64</td><td>f64</td><td>f64</td><td>f64</td><td>f64</td><td>f64</td><td>f64</td><td>f64</td><td>f64</td><td>f64</td><td>str</td><td>f64</td><td>f64</td><td>f64</td><td>f64</td><td>str</td><td>str</td><td>str</td><td>str</td><td>str</td><td>str</td><td>str</td><td>str</td><td>str</td><td>str</td></tr></thead><tbody><tr><td>&quot;Alona Vladi&quot;</td><td>&quot;F&quot;</td><td>&quot;SBD&quot;</td><td>&quot;Raw&quot;</td><td>33.0</td><td>&quot;24-34&quot;</td><td>&quot;24-39&quot;</td><td>&quot;O&quot;</td><td>58.3</td><td>&quot;60&quot;</td><td>75.0</td><td>80.0</td><td>-90.0</td><td>null</td><td>80.0</td><td>50.0</td><td>55.0</td><td>60.0</td><td>null</td><td>60.0</td><td>95.0</td><td>105.0</td><td>107.5</td><td>null</td><td>107.5</td><td>247.5</td><td>&quot;1&quot;</td><td>279.44</td><td>282.18</td><td>249.42</td><td>57.1</td><td>&quot;Yes&quot;</td><td>&quot;Russia&quot;</td><td>null</td><td>&quot;GFP&quot;</td><td>null</td><td>&quot;2019-05-11&quot;</td><td>&quot;Russia&quot;</td><td>null</td><td>&quot;Bryansk&quot;</td><td>&quot;Open Tournamen…</td></tr><tr><td>&quot;Galina Solovya…</td><td>&quot;F&quot;</td><td>&quot;SBD&quot;</td><td>&quot;Raw&quot;</td><td>43.0</td><td>&quot;40-44&quot;</td><td>&quot;40-49&quot;</td><td>&quot;M1&quot;</td><td>73.1</td><td>&quot;75&quot;</td><td>95.0</td><td>100.0</td><td>105.0</td><td>null</td><td>105.0</td><td>62.5</td><td>67.5</td><td>-72.5</td><td>null</td><td>67.5</td><td>100.0</td><td>110.0</td><td>-120.0</td><td>null</td><td>110.0</td><td>282.5</td><td>&quot;1&quot;</td><td>278.95</td><td>272.99</td><td>240.35</td><td>56.76</td><td>&quot;Yes&quot;</td><td>&quot;Russia&quot;</td><td>null</td><td>&quot;GFP&quot;</td><td>null</td><td>&quot;2019-05-11&quot;</td><td>&quot;Russia&quot;</td><td>null</td><td>&quot;Bryansk&quot;</td><td>&quot;Open Tournamen…</td></tr><tr><td>&quot;Daniil Voronin…</td><td>&quot;M&quot;</td><td>&quot;SBD&quot;</td><td>&quot;Raw&quot;</td><td>15.5</td><td>&quot;16-17&quot;</td><td>&quot;14-18&quot;</td><td>&quot;T&quot;</td><td>67.4</td><td>&quot;75&quot;</td><td>85.0</td><td>90.0</td><td>100.0</td><td>null</td><td>100.0</td><td>55.0</td><td>62.5</td><td>-65.0</td><td>null</td><td>62.5</td><td>90.0</td><td>100.0</td><td>105.0</td><td>null</td><td>105.0</td><td>267.5</td><td>&quot;1&quot;</td><td>206.4</td><td>206.49</td><td>200.45</td><td>41.24</td><td>&quot;Yes&quot;</td><td>&quot;Russia&quot;</td><td>null</td><td>&quot;GFP&quot;</td><td>null</td><td>&quot;2019-05-11&quot;</td><td>&quot;Russia&quot;</td><td>null</td><td>&quot;Bryansk&quot;</td><td>&quot;Open Tournamen…</td></tr><tr><td>&quot;Aleksey Krasov…</td><td>&quot;M&quot;</td><td>&quot;SBD&quot;</td><td>&quot;Raw&quot;</td><td>35.0</td><td>&quot;35-39&quot;</td><td>&quot;24-39&quot;</td><td>&quot;O&quot;</td><td>66.65</td><td>&quot;75&quot;</td><td>125.0</td><td>132.0</td><td>137.5</td><td>null</td><td>137.5</td><td>115.0</td><td>122.5</td><td>-127.5</td><td>null</td><td>122.5</td><td>150.0</td><td>165.0</td><td>170.0</td><td>null</td><td>170.0</td><td>430.0</td><td>&quot;1&quot;</td><td>334.49</td><td>334.94</td><td>325.32</td><td>66.68</td><td>&quot;Yes&quot;</td><td>&quot;Russia&quot;</td><td>null</td><td>&quot;GFP&quot;</td><td>null</td><td>&quot;2019-05-11&quot;</td><td>&quot;Russia&quot;</td><td>null</td><td>&quot;Bryansk&quot;</td><td>&quot;Open Tournamen…</td></tr><tr><td>&quot;Margarita Ples…</td><td>&quot;M&quot;</td><td>&quot;SBD&quot;</td><td>&quot;Raw&quot;</td><td>26.5</td><td>&quot;24-34&quot;</td><td>&quot;24-39&quot;</td><td>&quot;O&quot;</td><td>72.45</td><td>&quot;75&quot;</td><td>80.0</td><td>85.0</td><td>90.0</td><td>null</td><td>90.0</td><td>40.0</td><td>50.0</td><td>-60.0</td><td>null</td><td>50.0</td><td>112.5</td><td>120.0</td><td>125.0</td><td>null</td><td>125.0</td><td>265.0</td><td>&quot;1&quot;</td><td>194.46</td><td>193.55</td><td>187.29</td><td>39.34</td><td>&quot;Yes&quot;</td><td>&quot;Russia&quot;</td><td>null</td><td>&quot;GFP&quot;</td><td>null</td><td>&quot;2019-05-11&quot;</td><td>&quot;Russia&quot;</td><td>null</td><td>&quot;Bryansk&quot;</td><td>&quot;Open Tournamen…</td></tr><tr><td>&quot;Sergey Timoshe…</td><td>&quot;M&quot;</td><td>&quot;SBD&quot;</td><td>&quot;Raw&quot;</td><td>15.5</td><td>&quot;16-17&quot;</td><td>&quot;14-18&quot;</td><td>&quot;T&quot;</td><td>78.8</td><td>&quot;85&quot;</td><td>90.0</td><td>-95.0</td><td>100.0</td><td>null</td><td>100.0</td><td>60.0</td><td>-65.0</td><td>-67.5</td><td>null</td><td>60.0</td><td>90.0</td><td>105.0</td><td>115.0</td><td>null</td><td>115.0</td><td>275.0</td><td>&quot;1&quot;</td><td>191.34</td><td>189.56</td><td>182.77</td><td>39.09</td><td>&quot;Yes&quot;</td><td>&quot;Russia&quot;</td><td>null</td><td>&quot;GFP&quot;</td><td>null</td><td>&quot;2019-05-11&quot;</td><td>&quot;Russia&quot;</td><td>null</td><td>&quot;Bryansk&quot;</td><td>&quot;Open Tournamen…</td></tr><tr><td>&quot;Vladimir Karav…</td><td>&quot;M&quot;</td><td>&quot;SBD&quot;</td><td>&quot;Raw&quot;</td><td>57.5</td><td>&quot;55-59&quot;</td><td>&quot;50-59&quot;</td><td>&quot;M2&quot;</td><td>79.65</td><td>&quot;85&quot;</td><td>50.0</td><td>150.0</td><td>180.0</td><td>null</td><td>180.0</td><td>50.0</td><td>100.0</td><td>-110.0</td><td>null</td><td>100.0</td><td>55.0</td><td>null</td><td>null</td><td>null</td><td>55.0</td><td>335.0</td><td>&quot;1&quot;</td><td>231.6</td><td>229.34</td><td>221.02</td><td>47.35</td><td>&quot;Yes&quot;</td><td>&quot;Russia&quot;</td><td>null</td><td>&quot;GFP&quot;</td><td>null</td><td>&quot;2019-05-11&quot;</td><td>&quot;Russia&quot;</td><td>null</td><td>&quot;Bryansk&quot;</td><td>&quot;Open Tournamen…</td></tr><tr><td>&quot;Tatyana Altuni…</td><td>&quot;F&quot;</td><td>&quot;SBD&quot;</td><td>&quot;Raw&quot;</td><td>26.0</td><td>&quot;24-34&quot;</td><td>&quot;24-39&quot;</td><td>&quot;O&quot;</td><td>96.5</td><td>&quot;105&quot;</td><td>85.0</td><td>95.0</td><td>100.0</td><td>null</td><td>100.0</td><td>40.0</td><td>47.5</td><td>-50.0</td><td>null</td><td>47.5</td><td>115.0</td><td>130.0</td><td>140.0</td><td>null</td><td>140.0</td><td>287.5</td><td>&quot;1&quot;</td><td>248.84</td><td>242.04</td><td>208.84</td><td>51.79</td><td>&quot;Yes&quot;</td><td>&quot;Russia&quot;</td><td>null</td><td>&quot;GFP&quot;</td><td>null</td><td>&quot;2019-05-11&quot;</td><td>&quot;Russia&quot;</td><td>null</td><td>&quot;Bryansk&quot;</td><td>&quot;Open Tournamen…</td></tr><tr><td>&quot;Ruslan Gasanov…</td><td>&quot;M&quot;</td><td>&quot;SBD&quot;</td><td>&quot;Raw&quot;</td><td>31.5</td><td>&quot;24-34&quot;</td><td>&quot;24-39&quot;</td><td>&quot;O&quot;</td><td>102.55</td><td>&quot;105&quot;</td><td>210.0</td><td>225.0</td><td>232.5</td><td>null</td><td>232.5</td><td>150.0</td><td>160.0</td><td>-165.0</td><td>null</td><td>160.0</td><td>240.0</td><td>260.0</td><td>-270.0</td><td>null</td><td>260.0</td><td>652.5</td><td>&quot;1&quot;</td><td>397.35</td><td>393.25</td><td>375.51</td><td>81.45</td><td>null</td><td>&quot;Russia&quot;</td><td>null</td><td>&quot;GFP&quot;</td><td>null</td><td>&quot;2019-05-11&quot;</td><td>&quot;Russia&quot;</td><td>null</td><td>&quot;Bryansk&quot;</td><td>&quot;Open Tournamen…</td></tr><tr><td>&quot;Ekaterina Gluk…</td><td>&quot;F&quot;</td><td>&quot;SBD&quot;</td><td>&quot;Wraps&quot;</td><td>25.5</td><td>&quot;24-34&quot;</td><td>&quot;24-39&quot;</td><td>&quot;O&quot;</td><td>54.8</td><td>&quot;55&quot;</td><td>80.0</td><td>-95.0</td><td>-95.0</td><td>null</td><td>80.0</td><td>30.0</td><td>-35.0</td><td>37.5</td><td>null</td><td>37.5</td><td>85.0</td><td>-95.0</td><td>95.0</td><td>null</td><td>95.0</td><td>212.5</td><td>&quot;1&quot;</td><td>249.9</td><td>254.31</td><td>225.06</td><td>51.38</td><td>&quot;Yes&quot;</td><td>&quot;Russia&quot;</td><td>null</td><td>&quot;GFP&quot;</td><td>null</td><td>&quot;2019-05-11&quot;</td><td>&quot;Russia&quot;</td><td>null</td><td>&quot;Bryansk&quot;</td><td>&quot;Open Tournamen…</td></tr><tr><td>&quot;Ruslan Gurbato…</td><td>&quot;M&quot;</td><td>&quot;SBD&quot;</td><td>&quot;Wraps&quot;</td><td>25.5</td><td>&quot;24-34&quot;</td><td>&quot;24-39&quot;</td><td>&quot;O&quot;</td><td>73.05</td><td>&quot;75&quot;</td><td>130.0</td><td>-140.0</td><td>140.0</td><td>null</td><td>140.0</td><td>100.0</td><td>107.5</td><td>null</td><td>null</td><td>107.5</td><td>130.0</td><td>145.0</td><td>150.0</td><td>null</td><td>150.0</td><td>397.5</td><td>&quot;1&quot;</td><td>290.09</td><td>288.58</td><td>279.16</td><td>58.75</td><td>&quot;Yes&quot;</td><td>&quot;Russia&quot;</td><td>null</td><td>&quot;GFP&quot;</td><td>null</td><td>&quot;2019-05-11&quot;</td><td>&quot;Russia&quot;</td><td>null</td><td>&quot;Bryansk&quot;</td><td>&quot;Open Tournamen…</td></tr><tr><td>&quot;Denis Balotvin…</td><td>&quot;M&quot;</td><td>&quot;SBD&quot;</td><td>&quot;Wraps&quot;</td><td>25.5</td><td>&quot;24-34&quot;</td><td>&quot;24-39&quot;</td><td>&quot;O&quot;</td><td>94.75</td><td>&quot;95&quot;</td><td>-180.0</td><td>-185.0</td><td>185.0</td><td>null</td><td>185.0</td><td>140.0</td><td>145.0</td><td>150.0</td><td>null</td><td>150.0</td><td>230.0</td><td>245.0</td><td>250.0</td><td>null</td><td>250.0</td><td>585.0</td><td>&quot;1&quot;</td><td>368.93</td><td>364.32</td><td>348.46</td><td>75.84</td><td>&quot;Yes&quot;</td><td>&quot;Russia&quot;</td><td>null</td><td>&quot;GFP&quot;</td><td>null</td><td>&quot;2019-05-11&quot;</td><td>&quot;Russia&quot;</td><td>null</td><td>&quot;Bryansk&quot;</td><td>&quot;Open Tournamen…</td></tr><tr><td>&hellip;</td><td>&hellip;</td><td>&hellip;</td><td>&hellip;</td><td>&hellip;</td><td>&hellip;</td><td>&hellip;</td><td>&hellip;</td><td>&hellip;</td><td>&hellip;</td><td>&hellip;</td><td>&hellip;</td><td>&hellip;</td><td>&hellip;</td><td>&hellip;</td><td>&hellip;</td><td>&hellip;</td><td>&hellip;</td><td>&hellip;</td><td>&hellip;</td><td>&hellip;</td><td>&hellip;</td><td>&hellip;</td><td>&hellip;</td><td>&hellip;</td><td>&hellip;</td><td>&hellip;</td><td>&hellip;</td><td>&hellip;</td><td>&hellip;</td><td>&hellip;</td><td>&hellip;</td><td>&hellip;</td><td>&hellip;</td><td>&hellip;</td><td>&hellip;</td><td>&hellip;</td><td>&hellip;</td><td>&hellip;</td><td>&hellip;</td><td>&hellip;</td></tr><tr><td>&quot;Frida Wik&quot;</td><td>&quot;F&quot;</td><td>&quot;SBD&quot;</td><td>&quot;Single-ply&quot;</td><td>25.0</td><td>&quot;24-34&quot;</td><td>&quot;24-39&quot;</td><td>&quot;Open&quot;</td><td>75.98</td><td>&quot;84&quot;</td><td>185.0</td><td>-192.5</td><td>-195.0</td><td>null</td><td>185.0</td><td>145.0</td><td>150.0</td><td>-155.0</td><td>null</td><td>150.0</td><td>185.0</td><td>195.0</td><td>-207.5</td><td>null</td><td>195.0</td><td>530.0</td><td>&quot;11&quot;</td><td>512.7</td><td>499.8</td><td>439.43</td><td>86.97</td><td>&quot;Yes&quot;</td><td>&quot;Sweden&quot;</td><td>null</td><td>&quot;IPF&quot;</td><td>&quot;IPF&quot;</td><td>&quot;2016-11-14&quot;</td><td>&quot;USA&quot;</td><td>null</td><td>&quot;Orlando&quot;</td><td>&quot;World Open Cha…</td></tr><tr><td>&quot;Christie Civet…</td><td>&quot;F&quot;</td><td>&quot;SBD&quot;</td><td>&quot;Single-ply&quot;</td><td>23.5</td><td>&quot;24-34&quot;</td><td>&quot;24-39&quot;</td><td>&quot;Open&quot;</td><td>79.48</td><td>&quot;84&quot;</td><td>190.0</td><td>-200.0</td><td>-202.5</td><td>null</td><td>190.0</td><td>-107.5</td><td>107.5</td><td>115.0</td><td>null</td><td>115.0</td><td>165.0</td><td>175.0</td><td>-185.0</td><td>null</td><td>175.0</td><td>480.0</td><td>&quot;12&quot;</td><td>453.76</td><td>440.81</td><td>386.72</td><td>77.22</td><td>&quot;Yes&quot;</td><td>&quot;England&quot;</td><td>null</td><td>&quot;IPF&quot;</td><td>&quot;IPF&quot;</td><td>&quot;2016-11-14&quot;</td><td>&quot;USA&quot;</td><td>null</td><td>&quot;Orlando&quot;</td><td>&quot;World Open Cha…</td></tr><tr><td>&quot;Alexandra Tich…</td><td>&quot;F&quot;</td><td>&quot;SBD&quot;</td><td>&quot;Single-ply&quot;</td><td>25.5</td><td>&quot;24-34&quot;</td><td>&quot;24-39&quot;</td><td>&quot;Open&quot;</td><td>83.23</td><td>&quot;84&quot;</td><td>167.5</td><td>-180.0</td><td>180.0</td><td>null</td><td>180.0</td><td>125.0</td><td>-130.0</td><td>-130.0</td><td>null</td><td>125.0</td><td>170.0</td><td>-177.5</td><td>-177.5</td><td>null</td><td>170.0</td><td>475.0</td><td>&quot;13&quot;</td><td>439.0</td><td>425.55</td><td>372.27</td><td>74.98</td><td>&quot;Yes&quot;</td><td>&quot;Austria&quot;</td><td>null</td><td>&quot;IPF&quot;</td><td>&quot;IPF&quot;</td><td>&quot;2016-11-14&quot;</td><td>&quot;USA&quot;</td><td>null</td><td>&quot;Orlando&quot;</td><td>&quot;World Open Cha…</td></tr><tr><td>&quot;Dani Savoie&quot;</td><td>&quot;F&quot;</td><td>&quot;SBD&quot;</td><td>&quot;Single-ply&quot;</td><td>25.5</td><td>&quot;24-34&quot;</td><td>&quot;24-39&quot;</td><td>&quot;Open&quot;</td><td>75.36</td><td>&quot;84&quot;</td><td>-175.0</td><td>175.0</td><td>185.0</td><td>null</td><td>185.0</td><td>107.5</td><td>115.0</td><td>-120.0</td><td>null</td><td>115.0</td><td>172.5</td><td>-177.5</td><td>-177.5</td><td>null</td><td>172.5</td><td>472.5</td><td>&quot;14&quot;</td><td>459.04</td><td>447.84</td><td>393.87</td><td>77.83</td><td>&quot;Yes&quot;</td><td>&quot;Canada&quot;</td><td>null</td><td>&quot;IPF&quot;</td><td>&quot;IPF&quot;</td><td>&quot;2016-11-14&quot;</td><td>&quot;USA&quot;</td><td>null</td><td>&quot;Orlando&quot;</td><td>&quot;World Open Cha…</td></tr><tr><td>&quot;Min-Chu Hung&quot;</td><td>&quot;F&quot;</td><td>&quot;SBD&quot;</td><td>&quot;Single-ply&quot;</td><td>33.0</td><td>&quot;24-34&quot;</td><td>&quot;24-39&quot;</td><td>&quot;Open&quot;</td><td>82.06</td><td>&quot;84&quot;</td><td>-165.0</td><td>-165.0</td><td>-165.0</td><td>null</td><td>null</td><td>165.0</td><td>170.0</td><td>172.5</td><td>null</td><td>172.5</td><td>120.0</td><td>130.0</td><td>135.0</td><td>null</td><td>135.0</td><td>null</td><td>&quot;DQ&quot;</td><td>null</td><td>null</td><td>null</td><td>null</td><td>&quot;Yes&quot;</td><td>&quot;Taiwan&quot;</td><td>null</td><td>&quot;IPF&quot;</td><td>&quot;IPF&quot;</td><td>&quot;2016-11-14&quot;</td><td>&quot;USA&quot;</td><td>null</td><td>&quot;Orlando&quot;</td><td>&quot;World Open Cha…</td></tr><tr><td>&quot;Bonica Brown&quot;</td><td>&quot;F&quot;</td><td>&quot;SBD&quot;</td><td>&quot;Single-ply&quot;</td><td>28.0</td><td>&quot;24-34&quot;</td><td>&quot;24-39&quot;</td><td>&quot;Open&quot;</td><td>128.58</td><td>&quot;84+&quot;</td><td>270.0</td><td>285.0</td><td>297.5</td><td>null</td><td>297.5</td><td>185.0</td><td>197.5</td><td>-202.5</td><td>null</td><td>197.5</td><td>210.0</td><td>227.5</td><td>230.0</td><td>null</td><td>230.0</td><td>725.0</td><td>&quot;1&quot;</td><td>571.52</td><td>572.68</td><td>483.55</td><td>101.09</td><td>&quot;Yes&quot;</td><td>&quot;USA&quot;</td><td>null</td><td>&quot;IPF&quot;</td><td>&quot;IPF&quot;</td><td>&quot;2016-11-14&quot;</td><td>&quot;USA&quot;</td><td>null</td><td>&quot;Orlando&quot;</td><td>&quot;World Open Cha…</td></tr><tr><td>&quot;Ya-Wen Chang&quot;</td><td>&quot;F&quot;</td><td>&quot;SBD&quot;</td><td>&quot;Single-ply&quot;</td><td>32.0</td><td>&quot;24-34&quot;</td><td>&quot;24-39&quot;</td><td>&quot;Open&quot;</td><td>95.0</td><td>&quot;84+&quot;</td><td>250.0</td><td>255.0</td><td>260.0</td><td>null</td><td>260.0</td><td>150.0</td><td>-160.0</td><td>160.0</td><td>null</td><td>160.0</td><td>205.0</td><td>222.5</td><td>227.5</td><td>null</td><td>227.5</td><td>647.5</td><td>&quot;2&quot;</td><td>564.05</td><td>548.04</td><td>473.7</td><td>97.41</td><td>&quot;Yes&quot;</td><td>&quot;Taiwan&quot;</td><td>null</td><td>&quot;IPF&quot;</td><td>&quot;IPF&quot;</td><td>&quot;2016-11-14&quot;</td><td>&quot;USA&quot;</td><td>null</td><td>&quot;Orlando&quot;</td><td>&quot;World Open Cha…</td></tr><tr><td>&quot;Inna Orobets&quot;</td><td>&quot;F&quot;</td><td>&quot;SBD&quot;</td><td>&quot;Single-ply&quot;</td><td>45.0</td><td>&quot;45-49&quot;</td><td>&quot;40-49&quot;</td><td>&quot;Open&quot;</td><td>109.3</td><td>&quot;84+&quot;</td><td>235.0</td><td>-242.5</td><td>242.5</td><td>null</td><td>242.5</td><td>175.0</td><td>182.5</td><td>187.5</td><td>null</td><td>187.5</td><td>200.0</td><td>210.0</td><td>215.0</td><td>null</td><td>215.0</td><td>645.0</td><td>&quot;3&quot;</td><td>532.83</td><td>525.14</td><td>447.12</td><td>93.16</td><td>&quot;Yes&quot;</td><td>&quot;Ukraine&quot;</td><td>null</td><td>&quot;IPF&quot;</td><td>&quot;IPF&quot;</td><td>&quot;2016-11-14&quot;</td><td>&quot;USA&quot;</td><td>null</td><td>&quot;Orlando&quot;</td><td>&quot;World Open Cha…</td></tr><tr><td>&quot;Ágnes Szabó&quot;</td><td>&quot;F&quot;</td><td>&quot;SBD&quot;</td><td>&quot;Single-ply&quot;</td><td>27.5</td><td>&quot;24-34&quot;</td><td>&quot;24-39&quot;</td><td>&quot;Open&quot;</td><td>113.22</td><td>&quot;84+&quot;</td><td>-237.5</td><td>237.5</td><td>-247.5</td><td>null</td><td>237.5</td><td>182.5</td><td>190.0</td><td>195.0</td><td>null</td><td>195.0</td><td>185.0</td><td>200.0</td><td>-210.0</td><td>null</td><td>200.0</td><td>632.5</td><td>&quot;4&quot;</td><td>516.46</td><td>511.26</td><td>434.61</td><td>90.57</td><td>&quot;Yes&quot;</td><td>&quot;Hungary&quot;</td><td>null</td><td>&quot;IPF&quot;</td><td>&quot;IPF&quot;</td><td>&quot;2016-11-14&quot;</td><td>&quot;USA&quot;</td><td>null</td><td>&quot;Orlando&quot;</td><td>&quot;World Open Cha…</td></tr><tr><td>&quot;Brenda van der…</td><td>&quot;F&quot;</td><td>&quot;SBD&quot;</td><td>&quot;Single-ply&quot;</td><td>37.5</td><td>&quot;35-39&quot;</td><td>&quot;24-39&quot;</td><td>&quot;Open&quot;</td><td>110.79</td><td>&quot;84+&quot;</td><td>210.0</td><td>222.5</td><td>227.5</td><td>null</td><td>227.5</td><td>190.0</td><td>-200.0</td><td>200.0</td><td>null</td><td>200.0</td><td>185.0</td><td>190.0</td><td>-195.0</td><td>null</td><td>190.0</td><td>617.5</td><td>&quot;5&quot;</td><td>507.79</td><td>501.32</td><td>426.6</td><td>88.89</td><td>&quot;Yes&quot;</td><td>&quot;Netherlands&quot;</td><td>null</td><td>&quot;IPF&quot;</td><td>&quot;IPF&quot;</td><td>&quot;2016-11-14&quot;</td><td>&quot;USA&quot;</td><td>null</td><td>&quot;Orlando&quot;</td><td>&quot;World Open Cha…</td></tr><tr><td>&quot;Kelly Phasey&quot;</td><td>&quot;F&quot;</td><td>&quot;SBD&quot;</td><td>&quot;Single-ply&quot;</td><td>39.5</td><td>&quot;35-39&quot;</td><td>&quot;40-49&quot;</td><td>&quot;Open&quot;</td><td>124.53</td><td>&quot;84+&quot;</td><td>210.0</td><td>220.0</td><td>-227.5</td><td>null</td><td>220.0</td><td>140.0</td><td>-147.5</td><td>150.0</td><td>null</td><td>150.0</td><td>145.0</td><td>-155.0</td><td>-155.0</td><td>null</td><td>145.0</td><td>515.0</td><td>&quot;6&quot;</td><td>409.13</td><td>409.13</td><td>345.98</td><td>72.24</td><td>&quot;Yes&quot;</td><td>&quot;England&quot;</td><td>null</td><td>&quot;IPF&quot;</td><td>&quot;IPF&quot;</td><td>&quot;2016-11-14&quot;</td><td>&quot;USA&quot;</td><td>null</td><td>&quot;Orlando&quot;</td><td>&quot;World Open Cha…</td></tr><tr><td>&quot;Hildeborg Juve…</td><td>&quot;F&quot;</td><td>&quot;SBD&quot;</td><td>&quot;Single-ply&quot;</td><td>32.5</td><td>&quot;24-34&quot;</td><td>&quot;24-39&quot;</td><td>&quot;Open&quot;</td><td>123.0</td><td>&quot;84+&quot;</td><td>-247.5</td><td>-250.0</td><td>-250.0</td><td>null</td><td>null</td><td>220.0</td><td>230.0</td><td>-237.5</td><td>null</td><td>230.0</td><td>170.0</td><td>null</td><td>null</td><td>null</td><td>170.0</td><td>null</td><td>&quot;DQ&quot;</td><td>null</td><td>null</td><td>null</td><td>null</td><td>&quot;Yes&quot;</td><td>&quot;Norway&quot;</td><td>null</td><td>&quot;IPF&quot;</td><td>&quot;IPF&quot;</td><td>&quot;2016-11-14&quot;</td><td>&quot;USA&quot;</td><td>null</td><td>&quot;Orlando&quot;</td><td>&quot;World Open Cha…</td></tr></tbody></table></div>"
      ],
      "text/plain": [
       "shape: (3_035_015, 41)\n",
       "┌──────────────┬─────┬───────┬────────────┬───┬────────────┬────────────┬───────────┬──────────────┐\n",
       "│ name         ┆ sex ┆ event ┆ equipment  ┆ … ┆ meet_count ┆ meet_state ┆ meet_town ┆ meet_name    │\n",
       "│ ---          ┆ --- ┆ ---   ┆ ---        ┆   ┆ ry         ┆ ---        ┆ ---       ┆ ---          │\n",
       "│ str          ┆ str ┆ str   ┆ str        ┆   ┆ ---        ┆ str        ┆ str       ┆ str          │\n",
       "│              ┆     ┆       ┆            ┆   ┆ str        ┆            ┆           ┆              │\n",
       "╞══════════════╪═════╪═══════╪════════════╪═══╪════════════╪════════════╪═══════════╪══════════════╡\n",
       "│ Alona Vladi  ┆ F   ┆ SBD   ┆ Raw        ┆ … ┆ Russia     ┆ null       ┆ Bryansk   ┆ Open         │\n",
       "│              ┆     ┆       ┆            ┆   ┆            ┆            ┆           ┆ Tournament   │\n",
       "│ Galina       ┆ F   ┆ SBD   ┆ Raw        ┆ … ┆ Russia     ┆ null       ┆ Bryansk   ┆ Open         │\n",
       "│ Solovyanova  ┆     ┆       ┆            ┆   ┆            ┆            ┆           ┆ Tournament   │\n",
       "│ Daniil       ┆ M   ┆ SBD   ┆ Raw        ┆ … ┆ Russia     ┆ null       ┆ Bryansk   ┆ Open         │\n",
       "│ Voronin      ┆     ┆       ┆            ┆   ┆            ┆            ┆           ┆ Tournament   │\n",
       "│ Aleksey      ┆ M   ┆ SBD   ┆ Raw        ┆ … ┆ Russia     ┆ null       ┆ Bryansk   ┆ Open         │\n",
       "│ Krasov       ┆     ┆       ┆            ┆   ┆            ┆            ┆           ┆ Tournament   │\n",
       "│ …            ┆ …   ┆ …     ┆ …          ┆ … ┆ …          ┆ …          ┆ …         ┆ …            │\n",
       "│ Ágnes Szabó  ┆ F   ┆ SBD   ┆ Single-ply ┆ … ┆ USA        ┆ null       ┆ Orlando   ┆ World Open   │\n",
       "│              ┆     ┆       ┆            ┆   ┆            ┆            ┆           ┆ Championship │\n",
       "│              ┆     ┆       ┆            ┆   ┆            ┆            ┆           ┆ s            │\n",
       "│ Brenda van   ┆ F   ┆ SBD   ┆ Single-ply ┆ … ┆ USA        ┆ null       ┆ Orlando   ┆ World Open   │\n",
       "│ der Meulen   ┆     ┆       ┆            ┆   ┆            ┆            ┆           ┆ Championship │\n",
       "│              ┆     ┆       ┆            ┆   ┆            ┆            ┆           ┆ s            │\n",
       "│ Kelly Phasey ┆ F   ┆ SBD   ┆ Single-ply ┆ … ┆ USA        ┆ null       ┆ Orlando   ┆ World Open   │\n",
       "│              ┆     ┆       ┆            ┆   ┆            ┆            ┆           ┆ Championship │\n",
       "│              ┆     ┆       ┆            ┆   ┆            ┆            ┆           ┆ s            │\n",
       "│ Hildeborg    ┆ F   ┆ SBD   ┆ Single-ply ┆ … ┆ USA        ┆ null       ┆ Orlando   ┆ World Open   │\n",
       "│ Juvet Hugdal ┆     ┆       ┆            ┆   ┆            ┆            ┆           ┆ Championship │\n",
       "│              ┆     ┆       ┆            ┆   ┆            ┆            ┆           ┆ s            │\n",
       "└──────────────┴─────┴───────┴────────────┴───┴────────────┴────────────┴───────────┴──────────────┘"
      ]
     },
     "execution_count": 32,
     "metadata": {},
     "output_type": "execute_result"
    }
   ],
   "source": [
    "df.rename(mapping=remapping_cols)"
   ]
  },
  {
   "cell_type": "code",
   "execution_count": 3,
   "metadata": {},
   "outputs": [],
   "source": [
    "import duckdb\n",
    "import pandas as pd\n",
    "\n",
    "# No need to import duckdb_engine\n",
    "#  jupysql will auto-detect the driver needed based on the connection string!\n",
    "\n",
    "# Import jupysql Jupyter extension to create SQL cells"
   ]
  },
  {
   "cell_type": "code",
   "execution_count": 4,
   "metadata": {},
   "outputs": [
    {
     "name": "stdout",
     "output_type": "stream",
     "text": [
      "\u001b[32mDeploy AI and data apps for free on Ploomber Cloud! Learn more: https://docs.cloud.ploomber.io/en/latest/quickstart/signup.html\u001b[0m\n"
     ]
    },
    {
     "data": {
      "text/html": [
       "<span style=\"None\">Tip: You may define configurations in /Users/ntonthat/github/powerlifting-ml-progress/pyproject.toml or /Users/ntonthat/.jupysql/config. </span>"
      ],
      "text/plain": [
       "Tip: You may define configurations in /Users/ntonthat/github/powerlifting-ml-progress/pyproject.toml or /Users/ntonthat/.jupysql/config. "
      ]
     },
     "metadata": {},
     "output_type": "display_data"
    },
    {
     "data": {
      "text/html": [
       "Please review our <a href='https://jupysql.ploomber.io/en/latest/api/configuration.html#loading-from-a-file'>configuration guideline</a>."
      ],
      "text/plain": [
       "<IPython.core.display.HTML object>"
      ]
     },
     "metadata": {},
     "output_type": "display_data"
    },
    {
     "data": {
      "text/html": [
       "'poetry' is an invalid configuration. Please review our <a href='https://jupysql.ploomber.io/en/latest/api/configuration.html#options'>configuration guideline</a>."
      ],
      "text/plain": [
       "<IPython.core.display.HTML object>"
      ]
     },
     "metadata": {},
     "output_type": "display_data"
    },
    {
     "name": "stdout",
     "output_type": "stream",
     "text": [
      "The sql extension is already loaded. To reload it, use:\n",
      "  %reload_ext sql\n"
     ]
    },
    {
     "data": {
      "text/html": [
       "<span style=\"None\">Connecting to &#x27;duckdb-sqlalchemy&#x27;</span>"
      ],
      "text/plain": [
       "Connecting to 'duckdb-sqlalchemy'"
      ]
     },
     "metadata": {},
     "output_type": "display_data"
    },
    {
     "data": {
      "text/html": [
       "<span style=\"None\">Connecting and switching to connection &#x27;duckdb:///:default:&#x27;</span>"
      ],
      "text/plain": [
       "Connecting and switching to connection 'duckdb:///:default:'"
      ]
     },
     "metadata": {},
     "output_type": "display_data"
    }
   ],
   "source": [
    "%load_ext sql\n",
    "%load_ext sql\n",
    "%config SqlMagic.autopandas = True\n",
    "%config SqlMagic.displaycon = False\n",
    "%sql duckdb:// --alias duckdb-sqlalchemy\n",
    "%sql duckdb:///:default:"
   ]
  },
  {
   "cell_type": "code",
   "execution_count": 6,
   "metadata": {},
   "outputs": [
    {
     "data": {
      "text/html": [
       "<div>\n",
       "<style scoped>\n",
       "    .dataframe tbody tr th:only-of-type {\n",
       "        vertical-align: middle;\n",
       "    }\n",
       "\n",
       "    .dataframe tbody tr th {\n",
       "        vertical-align: top;\n",
       "    }\n",
       "\n",
       "    .dataframe thead th {\n",
       "        text-align: right;\n",
       "    }\n",
       "</style>\n",
       "<table border=\"1\" class=\"dataframe\">\n",
       "  <thead>\n",
       "    <tr style=\"text-align: right;\">\n",
       "      <th></th>\n",
       "      <th>schema_name</th>\n",
       "      <th>function_name</th>\n",
       "    </tr>\n",
       "  </thead>\n",
       "  <tbody>\n",
       "    <tr>\n",
       "      <th>0</th>\n",
       "      <td>pg_catalog</td>\n",
       "      <td>shobj_description</td>\n",
       "    </tr>\n",
       "    <tr>\n",
       "      <th>1</th>\n",
       "      <td>pg_catalog</td>\n",
       "      <td>shobj_description</td>\n",
       "    </tr>\n",
       "    <tr>\n",
       "      <th>2</th>\n",
       "      <td>pg_catalog</td>\n",
       "      <td>shobj_description</td>\n",
       "    </tr>\n",
       "    <tr>\n",
       "      <th>3</th>\n",
       "      <td>pg_catalog</td>\n",
       "      <td>pg_typeof</td>\n",
       "    </tr>\n",
       "    <tr>\n",
       "      <th>4</th>\n",
       "      <td>pg_catalog</td>\n",
       "      <td>pg_typeof</td>\n",
       "    </tr>\n",
       "  </tbody>\n",
       "</table>\n",
       "</div>"
      ],
      "text/plain": [
       "  schema_name      function_name\n",
       "0  pg_catalog  shobj_description\n",
       "1  pg_catalog  shobj_description\n",
       "2  pg_catalog  shobj_description\n",
       "3  pg_catalog          pg_typeof\n",
       "4  pg_catalog          pg_typeof"
      ]
     },
     "execution_count": 6,
     "metadata": {},
     "output_type": "execute_result"
    }
   ],
   "source": [
    "%%sql\n",
    "SELECT\n",
    "    schema_name,\n",
    "    function_name\n",
    "FROM duckdb_functions()\n",
    "ORDER BY ALL DESC\n",
    "LIMIT 5"
   ]
  },
  {
   "cell_type": "code",
   "execution_count": 9,
   "metadata": {},
   "outputs": [],
   "source": [
    "sql_query = open(\"../sqls/01_read_and_create_landing_table.sql\").read()"
   ]
  },
  {
   "cell_type": "code",
   "execution_count": 15,
   "metadata": {},
   "outputs": [
    {
     "name": "stdout",
     "output_type": "stream",
     "text": [
      "CREATE SCHEMA IF NOT EXISTS landing;\n",
      "CREATE TABLE landing.openpowerlifting AS (\n",
      "    SELECT\n",
      "        *\n",
      "    FROM read_parquet('https://powerlifting-ml-progress.s3.ap-southeast-2.amazonaws.com/openpowerlifting-latest.parquet')\n",
      ");\n"
     ]
    }
   ],
   "source": [
    "read_and_create_landing_table_query = sql_query.format(\n",
    "    s3_file_path=s3_file_path,\n",
    ")\n",
    "print(read_and_create_landing_table_query)"
   ]
  },
  {
   "cell_type": "markdown",
   "metadata": {},
   "source": []
  },
  {
   "cell_type": "code",
   "execution_count": 15,
   "metadata": {},
   "outputs": [],
   "source": [
    "read_parquet = f\"SELECT * FROM read_parquet('{s3_file_path}');\"\n",
    "\n",
    "read_and_create_landing_table = f\"\"\"\n",
    "CREATE SCHEMA IF NOT EXISTS landing;\n",
    "CREATE TABLE landing.openpowerlifting AS (\n",
    "    SELECT\n",
    "        *\n",
    "    FROM read_parquet('{s3_file_path}')\n",
    ");\n",
    "\"\"\""
   ]
  },
  {
   "cell_type": "code",
   "execution_count": 16,
   "metadata": {},
   "outputs": [
    {
     "data": {
      "application/vnd.jupyter.widget-view+json": {
       "model_id": "c9ae88044cbc4cd6b3e4acab8d3e0f88",
       "version_major": 2,
       "version_minor": 0
      },
      "text/plain": [
       "FloatProgress(value=0.0, layout=Layout(width='auto'), style=ProgressStyle(bar_color='black'))"
      ]
     },
     "metadata": {},
     "output_type": "display_data"
    },
    {
     "data": {
      "text/html": [
       "<div>\n",
       "<style scoped>\n",
       "    .dataframe tbody tr th:only-of-type {\n",
       "        vertical-align: middle;\n",
       "    }\n",
       "\n",
       "    .dataframe tbody tr th {\n",
       "        vertical-align: top;\n",
       "    }\n",
       "\n",
       "    .dataframe thead th {\n",
       "        text-align: right;\n",
       "    }\n",
       "</style>\n",
       "<table border=\"1\" class=\"dataframe\">\n",
       "  <thead>\n",
       "    <tr style=\"text-align: right;\">\n",
       "      <th></th>\n",
       "      <th>Success</th>\n",
       "    </tr>\n",
       "  </thead>\n",
       "  <tbody>\n",
       "  </tbody>\n",
       "</table>\n",
       "</div>"
      ],
      "text/plain": [
       "Empty DataFrame\n",
       "Columns: [Success]\n",
       "Index: []"
      ]
     },
     "execution_count": 16,
     "metadata": {},
     "output_type": "execute_result"
    }
   ],
   "source": [
    "%%sql\n",
    "CREATE SCHEMA IF NOT EXISTS landing;\n",
    "CREATE TABLE landing.openpowerlifting AS (\n",
    "    SELECT\n",
    "        *\n",
    "    FROM read_parquet('https://powerlifting-ml-progress.s3.ap-southeast-2.amazonaws.com/openpowerlifting-latest.parquet')\n",
    ");"
   ]
  },
  {
   "cell_type": "code",
   "execution_count": 17,
   "metadata": {},
   "outputs": [
    {
     "data": {
      "text/html": [
       "<div>\n",
       "<style scoped>\n",
       "    .dataframe tbody tr th:only-of-type {\n",
       "        vertical-align: middle;\n",
       "    }\n",
       "\n",
       "    .dataframe tbody tr th {\n",
       "        vertical-align: top;\n",
       "    }\n",
       "\n",
       "    .dataframe thead th {\n",
       "        text-align: right;\n",
       "    }\n",
       "</style>\n",
       "<table border=\"1\" class=\"dataframe\">\n",
       "  <thead>\n",
       "    <tr style=\"text-align: right;\">\n",
       "      <th></th>\n",
       "      <th>Name</th>\n",
       "      <th>Sex</th>\n",
       "      <th>Event</th>\n",
       "      <th>Equipment</th>\n",
       "      <th>Age</th>\n",
       "      <th>AgeClass</th>\n",
       "      <th>BirthYearClass</th>\n",
       "      <th>Division</th>\n",
       "      <th>BodyweightKg</th>\n",
       "      <th>WeightClassKg</th>\n",
       "      <th>...</th>\n",
       "      <th>Tested</th>\n",
       "      <th>Country</th>\n",
       "      <th>State</th>\n",
       "      <th>Federation</th>\n",
       "      <th>ParentFederation</th>\n",
       "      <th>Date</th>\n",
       "      <th>MeetCountry</th>\n",
       "      <th>MeetState</th>\n",
       "      <th>MeetTown</th>\n",
       "      <th>MeetName</th>\n",
       "    </tr>\n",
       "  </thead>\n",
       "  <tbody>\n",
       "    <tr>\n",
       "      <th>0</th>\n",
       "      <td>Alona Vladi</td>\n",
       "      <td>F</td>\n",
       "      <td>SBD</td>\n",
       "      <td>Raw</td>\n",
       "      <td>33.0</td>\n",
       "      <td>24-34</td>\n",
       "      <td>24-39</td>\n",
       "      <td>O</td>\n",
       "      <td>58.30</td>\n",
       "      <td>60</td>\n",
       "      <td>...</td>\n",
       "      <td>Yes</td>\n",
       "      <td>Russia</td>\n",
       "      <td>None</td>\n",
       "      <td>GFP</td>\n",
       "      <td>None</td>\n",
       "      <td>2019-05-11</td>\n",
       "      <td>Russia</td>\n",
       "      <td>None</td>\n",
       "      <td>Bryansk</td>\n",
       "      <td>Open Tournament</td>\n",
       "    </tr>\n",
       "    <tr>\n",
       "      <th>1</th>\n",
       "      <td>Galina Solovyanova</td>\n",
       "      <td>F</td>\n",
       "      <td>SBD</td>\n",
       "      <td>Raw</td>\n",
       "      <td>43.0</td>\n",
       "      <td>40-44</td>\n",
       "      <td>40-49</td>\n",
       "      <td>M1</td>\n",
       "      <td>73.10</td>\n",
       "      <td>75</td>\n",
       "      <td>...</td>\n",
       "      <td>Yes</td>\n",
       "      <td>Russia</td>\n",
       "      <td>None</td>\n",
       "      <td>GFP</td>\n",
       "      <td>None</td>\n",
       "      <td>2019-05-11</td>\n",
       "      <td>Russia</td>\n",
       "      <td>None</td>\n",
       "      <td>Bryansk</td>\n",
       "      <td>Open Tournament</td>\n",
       "    </tr>\n",
       "    <tr>\n",
       "      <th>2</th>\n",
       "      <td>Daniil Voronin</td>\n",
       "      <td>M</td>\n",
       "      <td>SBD</td>\n",
       "      <td>Raw</td>\n",
       "      <td>15.5</td>\n",
       "      <td>16-17</td>\n",
       "      <td>14-18</td>\n",
       "      <td>T</td>\n",
       "      <td>67.40</td>\n",
       "      <td>75</td>\n",
       "      <td>...</td>\n",
       "      <td>Yes</td>\n",
       "      <td>Russia</td>\n",
       "      <td>None</td>\n",
       "      <td>GFP</td>\n",
       "      <td>None</td>\n",
       "      <td>2019-05-11</td>\n",
       "      <td>Russia</td>\n",
       "      <td>None</td>\n",
       "      <td>Bryansk</td>\n",
       "      <td>Open Tournament</td>\n",
       "    </tr>\n",
       "    <tr>\n",
       "      <th>3</th>\n",
       "      <td>Aleksey Krasov</td>\n",
       "      <td>M</td>\n",
       "      <td>SBD</td>\n",
       "      <td>Raw</td>\n",
       "      <td>35.0</td>\n",
       "      <td>35-39</td>\n",
       "      <td>24-39</td>\n",
       "      <td>O</td>\n",
       "      <td>66.65</td>\n",
       "      <td>75</td>\n",
       "      <td>...</td>\n",
       "      <td>Yes</td>\n",
       "      <td>Russia</td>\n",
       "      <td>None</td>\n",
       "      <td>GFP</td>\n",
       "      <td>None</td>\n",
       "      <td>2019-05-11</td>\n",
       "      <td>Russia</td>\n",
       "      <td>None</td>\n",
       "      <td>Bryansk</td>\n",
       "      <td>Open Tournament</td>\n",
       "    </tr>\n",
       "    <tr>\n",
       "      <th>4</th>\n",
       "      <td>Margarita Pleschenkova</td>\n",
       "      <td>M</td>\n",
       "      <td>SBD</td>\n",
       "      <td>Raw</td>\n",
       "      <td>26.5</td>\n",
       "      <td>24-34</td>\n",
       "      <td>24-39</td>\n",
       "      <td>O</td>\n",
       "      <td>72.45</td>\n",
       "      <td>75</td>\n",
       "      <td>...</td>\n",
       "      <td>Yes</td>\n",
       "      <td>Russia</td>\n",
       "      <td>None</td>\n",
       "      <td>GFP</td>\n",
       "      <td>None</td>\n",
       "      <td>2019-05-11</td>\n",
       "      <td>Russia</td>\n",
       "      <td>None</td>\n",
       "      <td>Bryansk</td>\n",
       "      <td>Open Tournament</td>\n",
       "    </tr>\n",
       "    <tr>\n",
       "      <th>5</th>\n",
       "      <td>Sergey Timoshenko</td>\n",
       "      <td>M</td>\n",
       "      <td>SBD</td>\n",
       "      <td>Raw</td>\n",
       "      <td>15.5</td>\n",
       "      <td>16-17</td>\n",
       "      <td>14-18</td>\n",
       "      <td>T</td>\n",
       "      <td>78.80</td>\n",
       "      <td>85</td>\n",
       "      <td>...</td>\n",
       "      <td>Yes</td>\n",
       "      <td>Russia</td>\n",
       "      <td>None</td>\n",
       "      <td>GFP</td>\n",
       "      <td>None</td>\n",
       "      <td>2019-05-11</td>\n",
       "      <td>Russia</td>\n",
       "      <td>None</td>\n",
       "      <td>Bryansk</td>\n",
       "      <td>Open Tournament</td>\n",
       "    </tr>\n",
       "    <tr>\n",
       "      <th>6</th>\n",
       "      <td>Vladimir Karavaev</td>\n",
       "      <td>M</td>\n",
       "      <td>SBD</td>\n",
       "      <td>Raw</td>\n",
       "      <td>57.5</td>\n",
       "      <td>55-59</td>\n",
       "      <td>50-59</td>\n",
       "      <td>M2</td>\n",
       "      <td>79.65</td>\n",
       "      <td>85</td>\n",
       "      <td>...</td>\n",
       "      <td>Yes</td>\n",
       "      <td>Russia</td>\n",
       "      <td>None</td>\n",
       "      <td>GFP</td>\n",
       "      <td>None</td>\n",
       "      <td>2019-05-11</td>\n",
       "      <td>Russia</td>\n",
       "      <td>None</td>\n",
       "      <td>Bryansk</td>\n",
       "      <td>Open Tournament</td>\n",
       "    </tr>\n",
       "    <tr>\n",
       "      <th>7</th>\n",
       "      <td>Tatyana Altunina</td>\n",
       "      <td>F</td>\n",
       "      <td>SBD</td>\n",
       "      <td>Raw</td>\n",
       "      <td>26.0</td>\n",
       "      <td>24-34</td>\n",
       "      <td>24-39</td>\n",
       "      <td>O</td>\n",
       "      <td>96.50</td>\n",
       "      <td>105</td>\n",
       "      <td>...</td>\n",
       "      <td>Yes</td>\n",
       "      <td>Russia</td>\n",
       "      <td>None</td>\n",
       "      <td>GFP</td>\n",
       "      <td>None</td>\n",
       "      <td>2019-05-11</td>\n",
       "      <td>Russia</td>\n",
       "      <td>None</td>\n",
       "      <td>Bryansk</td>\n",
       "      <td>Open Tournament</td>\n",
       "    </tr>\n",
       "    <tr>\n",
       "      <th>8</th>\n",
       "      <td>Ruslan Gasanov</td>\n",
       "      <td>M</td>\n",
       "      <td>SBD</td>\n",
       "      <td>Raw</td>\n",
       "      <td>31.5</td>\n",
       "      <td>24-34</td>\n",
       "      <td>24-39</td>\n",
       "      <td>O</td>\n",
       "      <td>102.55</td>\n",
       "      <td>105</td>\n",
       "      <td>...</td>\n",
       "      <td>None</td>\n",
       "      <td>Russia</td>\n",
       "      <td>None</td>\n",
       "      <td>GFP</td>\n",
       "      <td>None</td>\n",
       "      <td>2019-05-11</td>\n",
       "      <td>Russia</td>\n",
       "      <td>None</td>\n",
       "      <td>Bryansk</td>\n",
       "      <td>Open Tournament</td>\n",
       "    </tr>\n",
       "    <tr>\n",
       "      <th>9</th>\n",
       "      <td>Ekaterina Glukhova</td>\n",
       "      <td>F</td>\n",
       "      <td>SBD</td>\n",
       "      <td>Wraps</td>\n",
       "      <td>25.5</td>\n",
       "      <td>24-34</td>\n",
       "      <td>24-39</td>\n",
       "      <td>O</td>\n",
       "      <td>54.80</td>\n",
       "      <td>55</td>\n",
       "      <td>...</td>\n",
       "      <td>Yes</td>\n",
       "      <td>Russia</td>\n",
       "      <td>None</td>\n",
       "      <td>GFP</td>\n",
       "      <td>None</td>\n",
       "      <td>2019-05-11</td>\n",
       "      <td>Russia</td>\n",
       "      <td>None</td>\n",
       "      <td>Bryansk</td>\n",
       "      <td>Open Tournament</td>\n",
       "    </tr>\n",
       "  </tbody>\n",
       "</table>\n",
       "<p>10 rows × 41 columns</p>\n",
       "</div>"
      ],
      "text/plain": [
       "                     Name Sex Event Equipment   Age AgeClass BirthYearClass  \\\n",
       "0             Alona Vladi   F   SBD       Raw  33.0    24-34          24-39   \n",
       "1      Galina Solovyanova   F   SBD       Raw  43.0    40-44          40-49   \n",
       "2          Daniil Voronin   M   SBD       Raw  15.5    16-17          14-18   \n",
       "3          Aleksey Krasov   M   SBD       Raw  35.0    35-39          24-39   \n",
       "4  Margarita Pleschenkova   M   SBD       Raw  26.5    24-34          24-39   \n",
       "5       Sergey Timoshenko   M   SBD       Raw  15.5    16-17          14-18   \n",
       "6       Vladimir Karavaev   M   SBD       Raw  57.5    55-59          50-59   \n",
       "7        Tatyana Altunina   F   SBD       Raw  26.0    24-34          24-39   \n",
       "8          Ruslan Gasanov   M   SBD       Raw  31.5    24-34          24-39   \n",
       "9      Ekaterina Glukhova   F   SBD     Wraps  25.5    24-34          24-39   \n",
       "\n",
       "  Division  BodyweightKg WeightClassKg  ...  Tested  Country  State  \\\n",
       "0        O         58.30            60  ...     Yes   Russia   None   \n",
       "1       M1         73.10            75  ...     Yes   Russia   None   \n",
       "2        T         67.40            75  ...     Yes   Russia   None   \n",
       "3        O         66.65            75  ...     Yes   Russia   None   \n",
       "4        O         72.45            75  ...     Yes   Russia   None   \n",
       "5        T         78.80            85  ...     Yes   Russia   None   \n",
       "6       M2         79.65            85  ...     Yes   Russia   None   \n",
       "7        O         96.50           105  ...     Yes   Russia   None   \n",
       "8        O        102.55           105  ...    None   Russia   None   \n",
       "9        O         54.80            55  ...     Yes   Russia   None   \n",
       "\n",
       "   Federation  ParentFederation        Date  MeetCountry  MeetState  MeetTown  \\\n",
       "0         GFP              None  2019-05-11       Russia       None   Bryansk   \n",
       "1         GFP              None  2019-05-11       Russia       None   Bryansk   \n",
       "2         GFP              None  2019-05-11       Russia       None   Bryansk   \n",
       "3         GFP              None  2019-05-11       Russia       None   Bryansk   \n",
       "4         GFP              None  2019-05-11       Russia       None   Bryansk   \n",
       "5         GFP              None  2019-05-11       Russia       None   Bryansk   \n",
       "6         GFP              None  2019-05-11       Russia       None   Bryansk   \n",
       "7         GFP              None  2019-05-11       Russia       None   Bryansk   \n",
       "8         GFP              None  2019-05-11       Russia       None   Bryansk   \n",
       "9         GFP              None  2019-05-11       Russia       None   Bryansk   \n",
       "\n",
       "          MeetName  \n",
       "0  Open Tournament  \n",
       "1  Open Tournament  \n",
       "2  Open Tournament  \n",
       "3  Open Tournament  \n",
       "4  Open Tournament  \n",
       "5  Open Tournament  \n",
       "6  Open Tournament  \n",
       "7  Open Tournament  \n",
       "8  Open Tournament  \n",
       "9  Open Tournament  \n",
       "\n",
       "[10 rows x 41 columns]"
      ]
     },
     "execution_count": 17,
     "metadata": {},
     "output_type": "execute_result"
    }
   ],
   "source": [
    "%sql select * from landing.openpowerlifting limit 10;"
   ]
  },
  {
   "cell_type": "code",
   "execution_count": null,
   "metadata": {},
   "outputs": [],
   "source": []
  }
 ],
 "metadata": {
  "kernelspec": {
   "display_name": "powerlifting-ml-progress-3.11.6",
   "language": "python",
   "name": "python3"
  },
  "language_info": {
   "codemirror_mode": {
    "name": "ipython",
    "version": 3
   },
   "file_extension": ".py",
   "mimetype": "text/x-python",
   "name": "python",
   "nbconvert_exporter": "python",
   "pygments_lexer": "ipython3",
   "version": "3.11.6"
  }
 },
 "nbformat": 4,
 "nbformat_minor": 2
}
