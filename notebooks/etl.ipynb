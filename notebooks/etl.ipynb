{
 "cells": [
  {
   "attachments": {},
   "cell_type": "markdown",
   "metadata": {},
   "source": [
    "## ETL on `OpenPowerlifting` Data"
   ]
  },
  {
   "cell_type": "code",
   "execution_count": 2,
   "metadata": {},
   "outputs": [],
   "source": [
    "from IPython.display import display, Markdown\n",
    "import polars as pl \n",
    "from datetime import datetime as dt\n",
    "\n",
    "# read configs \n",
    "import sys\n",
    "from pathlib import Path\n",
    "sys.path.append(str(Path().resolve().parent))\n",
    "from steps import conf"
   ]
  },
  {
   "attachments": {},
   "cell_type": "markdown",
   "metadata": {},
   "source": [
    "### Loading Data"
   ]
  },
  {
   "cell_type": "code",
   "execution_count": 3,
   "metadata": {},
   "outputs": [
    {
     "data": {
      "text/html": [
       "<div><style>\n",
       ".dataframe > thead > tr > th,\n",
       ".dataframe > tbody > tr > td {\n",
       "  text-align: right;\n",
       "}\n",
       "</style>\n",
       "<small>shape: (5, 41)</small><table border=\"1\" class=\"dataframe\"><thead><tr><th>Name</th><th>Sex</th><th>Event</th><th>Equipment</th><th>Age</th><th>AgeClass</th><th>BirthYearClass</th><th>Division</th><th>BodyweightKg</th><th>WeightClassKg</th><th>Squat1Kg</th><th>Squat2Kg</th><th>Squat3Kg</th><th>Squat4Kg</th><th>Best3SquatKg</th><th>Bench1Kg</th><th>Bench2Kg</th><th>Bench3Kg</th><th>Bench4Kg</th><th>Best3BenchKg</th><th>Deadlift1Kg</th><th>Deadlift2Kg</th><th>Deadlift3Kg</th><th>Deadlift4Kg</th><th>Best3DeadliftKg</th><th>TotalKg</th><th>Place</th><th>Dots</th><th>Wilks</th><th>Glossbrenner</th><th>Goodlift</th><th>Tested</th><th>Country</th><th>State</th><th>Federation</th><th>ParentFederation</th><th>Date</th><th>MeetCountry</th><th>MeetState</th><th>MeetTown</th><th>MeetName</th></tr><tr><td>str</td><td>str</td><td>str</td><td>str</td><td>f64</td><td>str</td><td>str</td><td>str</td><td>f64</td><td>str</td><td>f64</td><td>f64</td><td>f64</td><td>f64</td><td>f64</td><td>f64</td><td>f64</td><td>f64</td><td>f64</td><td>f64</td><td>f64</td><td>f64</td><td>f64</td><td>f64</td><td>f64</td><td>f64</td><td>str</td><td>f64</td><td>f64</td><td>f64</td><td>f64</td><td>str</td><td>str</td><td>str</td><td>str</td><td>str</td><td>str</td><td>str</td><td>str</td><td>str</td><td>str</td></tr></thead><tbody><tr><td>&quot;Alona Vladi&quot;</td><td>&quot;F&quot;</td><td>&quot;SBD&quot;</td><td>&quot;Raw&quot;</td><td>33.0</td><td>&quot;24-34&quot;</td><td>&quot;24-39&quot;</td><td>&quot;O&quot;</td><td>58.3</td><td>&quot;60&quot;</td><td>75.0</td><td>80.0</td><td>-90.0</td><td>null</td><td>80.0</td><td>50.0</td><td>55.0</td><td>60.0</td><td>null</td><td>60.0</td><td>95.0</td><td>105.0</td><td>107.5</td><td>null</td><td>107.5</td><td>247.5</td><td>&quot;1&quot;</td><td>279.44</td><td>282.18</td><td>249.42</td><td>57.1</td><td>&quot;Yes&quot;</td><td>&quot;Russia&quot;</td><td>null</td><td>&quot;GFP&quot;</td><td>null</td><td>&quot;2019-05-11&quot;</td><td>&quot;Russia&quot;</td><td>null</td><td>&quot;Bryansk&quot;</td><td>&quot;Open Tournamen…</td></tr><tr><td>&quot;Galina Solovya…</td><td>&quot;F&quot;</td><td>&quot;SBD&quot;</td><td>&quot;Raw&quot;</td><td>43.0</td><td>&quot;40-44&quot;</td><td>&quot;40-49&quot;</td><td>&quot;M1&quot;</td><td>73.1</td><td>&quot;75&quot;</td><td>95.0</td><td>100.0</td><td>105.0</td><td>null</td><td>105.0</td><td>62.5</td><td>67.5</td><td>-72.5</td><td>null</td><td>67.5</td><td>100.0</td><td>110.0</td><td>-120.0</td><td>null</td><td>110.0</td><td>282.5</td><td>&quot;1&quot;</td><td>278.95</td><td>272.99</td><td>240.35</td><td>56.76</td><td>&quot;Yes&quot;</td><td>&quot;Russia&quot;</td><td>null</td><td>&quot;GFP&quot;</td><td>null</td><td>&quot;2019-05-11&quot;</td><td>&quot;Russia&quot;</td><td>null</td><td>&quot;Bryansk&quot;</td><td>&quot;Open Tournamen…</td></tr><tr><td>&quot;Daniil Voronin…</td><td>&quot;M&quot;</td><td>&quot;SBD&quot;</td><td>&quot;Raw&quot;</td><td>15.5</td><td>&quot;16-17&quot;</td><td>&quot;14-18&quot;</td><td>&quot;T&quot;</td><td>67.4</td><td>&quot;75&quot;</td><td>85.0</td><td>90.0</td><td>100.0</td><td>null</td><td>100.0</td><td>55.0</td><td>62.5</td><td>-65.0</td><td>null</td><td>62.5</td><td>90.0</td><td>100.0</td><td>105.0</td><td>null</td><td>105.0</td><td>267.5</td><td>&quot;1&quot;</td><td>206.4</td><td>206.49</td><td>200.45</td><td>41.24</td><td>&quot;Yes&quot;</td><td>&quot;Russia&quot;</td><td>null</td><td>&quot;GFP&quot;</td><td>null</td><td>&quot;2019-05-11&quot;</td><td>&quot;Russia&quot;</td><td>null</td><td>&quot;Bryansk&quot;</td><td>&quot;Open Tournamen…</td></tr><tr><td>&quot;Aleksey Krasov…</td><td>&quot;M&quot;</td><td>&quot;SBD&quot;</td><td>&quot;Raw&quot;</td><td>35.0</td><td>&quot;35-39&quot;</td><td>&quot;24-39&quot;</td><td>&quot;O&quot;</td><td>66.65</td><td>&quot;75&quot;</td><td>125.0</td><td>132.0</td><td>137.5</td><td>null</td><td>137.5</td><td>115.0</td><td>122.5</td><td>-127.5</td><td>null</td><td>122.5</td><td>150.0</td><td>165.0</td><td>170.0</td><td>null</td><td>170.0</td><td>430.0</td><td>&quot;1&quot;</td><td>334.49</td><td>334.94</td><td>325.32</td><td>66.68</td><td>&quot;Yes&quot;</td><td>&quot;Russia&quot;</td><td>null</td><td>&quot;GFP&quot;</td><td>null</td><td>&quot;2019-05-11&quot;</td><td>&quot;Russia&quot;</td><td>null</td><td>&quot;Bryansk&quot;</td><td>&quot;Open Tournamen…</td></tr><tr><td>&quot;Margarita Ples…</td><td>&quot;M&quot;</td><td>&quot;SBD&quot;</td><td>&quot;Raw&quot;</td><td>26.5</td><td>&quot;24-34&quot;</td><td>&quot;24-39&quot;</td><td>&quot;O&quot;</td><td>72.45</td><td>&quot;75&quot;</td><td>80.0</td><td>85.0</td><td>90.0</td><td>null</td><td>90.0</td><td>40.0</td><td>50.0</td><td>-60.0</td><td>null</td><td>50.0</td><td>112.5</td><td>120.0</td><td>125.0</td><td>null</td><td>125.0</td><td>265.0</td><td>&quot;1&quot;</td><td>194.46</td><td>193.55</td><td>187.29</td><td>39.34</td><td>&quot;Yes&quot;</td><td>&quot;Russia&quot;</td><td>null</td><td>&quot;GFP&quot;</td><td>null</td><td>&quot;2019-05-11&quot;</td><td>&quot;Russia&quot;</td><td>null</td><td>&quot;Bryansk&quot;</td><td>&quot;Open Tournamen…</td></tr></tbody></table></div>"
      ],
      "text/plain": [
       "shape: (5, 41)\n",
       "┌──────────────────┬─────┬───────┬───────────┬───┬─────────────┬───────────┬──────────┬────────────┐\n",
       "│ Name             ┆ Sex ┆ Event ┆ Equipment ┆ … ┆ MeetCountry ┆ MeetState ┆ MeetTown ┆ MeetName   │\n",
       "│ ---              ┆ --- ┆ ---   ┆ ---       ┆   ┆ ---         ┆ ---       ┆ ---      ┆ ---        │\n",
       "│ str              ┆ str ┆ str   ┆ str       ┆   ┆ str         ┆ str       ┆ str      ┆ str        │\n",
       "╞══════════════════╪═════╪═══════╪═══════════╪═══╪═════════════╪═══════════╪══════════╪════════════╡\n",
       "│ Alona Vladi      ┆ F   ┆ SBD   ┆ Raw       ┆ … ┆ Russia      ┆ null      ┆ Bryansk  ┆ Open       │\n",
       "│                  ┆     ┆       ┆           ┆   ┆             ┆           ┆          ┆ Tournament │\n",
       "│ Galina           ┆ F   ┆ SBD   ┆ Raw       ┆ … ┆ Russia      ┆ null      ┆ Bryansk  ┆ Open       │\n",
       "│ Solovyanova      ┆     ┆       ┆           ┆   ┆             ┆           ┆          ┆ Tournament │\n",
       "│ Daniil Voronin   ┆ M   ┆ SBD   ┆ Raw       ┆ … ┆ Russia      ┆ null      ┆ Bryansk  ┆ Open       │\n",
       "│                  ┆     ┆       ┆           ┆   ┆             ┆           ┆          ┆ Tournament │\n",
       "│ Aleksey Krasov   ┆ M   ┆ SBD   ┆ Raw       ┆ … ┆ Russia      ┆ null      ┆ Bryansk  ┆ Open       │\n",
       "│                  ┆     ┆       ┆           ┆   ┆             ┆           ┆          ┆ Tournament │\n",
       "│ Margarita        ┆ M   ┆ SBD   ┆ Raw       ┆ … ┆ Russia      ┆ null      ┆ Bryansk  ┆ Open       │\n",
       "│ Pleschenkova     ┆     ┆       ┆           ┆   ┆             ┆           ┆          ┆ Tournament │\n",
       "└──────────────────┴─────┴───────┴───────────┴───┴─────────────┴───────────┴──────────┴────────────┘"
      ]
     },
     "execution_count": 3,
     "metadata": {},
     "output_type": "execute_result"
    }
   ],
   "source": [
    "s3_file_path = f\"https://{conf.bucket_name}.s3.ap-southeast-2.amazonaws.com/{conf.parquet_file}\"\n",
    "\n",
    "df = pl.read_parquet(s3_file_path)\n",
    "df.head(5)"
   ]
  },
  {
   "cell_type": "code",
   "execution_count": 4,
   "metadata": {},
   "outputs": [
    {
     "data": {
      "text/markdown": [
       "\n",
       "## Cleansing data\n",
       "- Filter for only particular columns from ['Date', 'Name', 'Sex', 'Place', 'Age', 'AgeClass', 'BodyweightKg', 'Event', 'MeetCountry', 'Equipment', 'Best3SquatKg', 'Best3BenchKg', 'Best3DeadliftKg', 'TotalKg', 'Wilks', 'Tested', 'Federation', 'MeetName']\n",
       "    - Select events that are IPF / Tested federations only (i.e. `Tested` = \"Yes\")\n",
       "    - Remove anyone who has been disqualified (i.e. `Place` = \"DQ\")\n",
       "    - `raw` equipment events only (i.e. `equipment` = `Raw`, single ply and wraps have 'competitive' advantage and are typically only for advanced lifters)\n",
       "- Drop any rows that have missing values in the columns above.\n",
       "- Drop any duplicates based on all columns.\n"
      ],
      "text/plain": [
       "<IPython.core.display.Markdown object>"
      ]
     },
     "metadata": {},
     "output_type": "display_data"
    }
   ],
   "source": [
    "cleansing_data_md = f\"\"\"\n",
    "## Cleansing data\n",
    "- Filter for only particular columns from {conf.op_cols}\n",
    "    - Select events that are IPF / Tested federations only (i.e. `Tested` = \"Yes\")\n",
    "    - Remove anyone who has been disqualified (i.e. `Place` = \"DQ\")\n",
    "    - `raw` equipment events only (i.e. `equipment` = `Raw`, single ply and wraps have 'competitive' advantage and are typically only for advanced lifters)\n",
    "- Drop any rows that have missing values in the columns above.\n",
    "- Drop any duplicates based on all columns.\n",
    "\"\"\"\n",
    "\n",
    "display(Markdown(cleansing_data_md))"
   ]
  },
  {
   "cell_type": "code",
   "execution_count": 5,
   "metadata": {},
   "outputs": [
    {
     "name": "stdout",
     "output_type": "stream",
     "text": [
      "(2903147, 18)\n"
     ]
    },
    {
     "data": {
      "text/html": [
       "<div><style>\n",
       ".dataframe > thead > tr > th,\n",
       ".dataframe > tbody > tr > td {\n",
       "  text-align: right;\n",
       "}\n",
       "</style>\n",
       "<small>shape: (5, 18)</small><table border=\"1\" class=\"dataframe\"><thead><tr><th>Date</th><th>Name</th><th>Sex</th><th>Place</th><th>Age</th><th>AgeClass</th><th>BodyweightKg</th><th>Event</th><th>MeetCountry</th><th>Equipment</th><th>Best3SquatKg</th><th>Best3BenchKg</th><th>Best3DeadliftKg</th><th>TotalKg</th><th>Wilks</th><th>Tested</th><th>Federation</th><th>MeetName</th></tr><tr><td>str</td><td>str</td><td>str</td><td>str</td><td>f64</td><td>str</td><td>f64</td><td>str</td><td>str</td><td>str</td><td>f64</td><td>f64</td><td>f64</td><td>f64</td><td>f64</td><td>str</td><td>str</td><td>str</td></tr></thead><tbody><tr><td>&quot;2019-05-11&quot;</td><td>&quot;Alona Vladi&quot;</td><td>&quot;F&quot;</td><td>&quot;1&quot;</td><td>33.0</td><td>&quot;24-34&quot;</td><td>58.3</td><td>&quot;SBD&quot;</td><td>&quot;Russia&quot;</td><td>&quot;Raw&quot;</td><td>80.0</td><td>60.0</td><td>107.5</td><td>247.5</td><td>282.18</td><td>&quot;Yes&quot;</td><td>&quot;GFP&quot;</td><td>&quot;Open Tournamen…</td></tr><tr><td>&quot;2019-05-11&quot;</td><td>&quot;Galina Solovya…</td><td>&quot;F&quot;</td><td>&quot;1&quot;</td><td>43.0</td><td>&quot;40-44&quot;</td><td>73.1</td><td>&quot;SBD&quot;</td><td>&quot;Russia&quot;</td><td>&quot;Raw&quot;</td><td>105.0</td><td>67.5</td><td>110.0</td><td>282.5</td><td>272.99</td><td>&quot;Yes&quot;</td><td>&quot;GFP&quot;</td><td>&quot;Open Tournamen…</td></tr><tr><td>&quot;2019-05-11&quot;</td><td>&quot;Daniil Voronin…</td><td>&quot;M&quot;</td><td>&quot;1&quot;</td><td>15.5</td><td>&quot;16-17&quot;</td><td>67.4</td><td>&quot;SBD&quot;</td><td>&quot;Russia&quot;</td><td>&quot;Raw&quot;</td><td>100.0</td><td>62.5</td><td>105.0</td><td>267.5</td><td>206.49</td><td>&quot;Yes&quot;</td><td>&quot;GFP&quot;</td><td>&quot;Open Tournamen…</td></tr><tr><td>&quot;2019-05-11&quot;</td><td>&quot;Aleksey Krasov…</td><td>&quot;M&quot;</td><td>&quot;1&quot;</td><td>35.0</td><td>&quot;35-39&quot;</td><td>66.65</td><td>&quot;SBD&quot;</td><td>&quot;Russia&quot;</td><td>&quot;Raw&quot;</td><td>137.5</td><td>122.5</td><td>170.0</td><td>430.0</td><td>334.94</td><td>&quot;Yes&quot;</td><td>&quot;GFP&quot;</td><td>&quot;Open Tournamen…</td></tr><tr><td>&quot;2019-05-11&quot;</td><td>&quot;Margarita Ples…</td><td>&quot;M&quot;</td><td>&quot;1&quot;</td><td>26.5</td><td>&quot;24-34&quot;</td><td>72.45</td><td>&quot;SBD&quot;</td><td>&quot;Russia&quot;</td><td>&quot;Raw&quot;</td><td>90.0</td><td>50.0</td><td>125.0</td><td>265.0</td><td>193.55</td><td>&quot;Yes&quot;</td><td>&quot;GFP&quot;</td><td>&quot;Open Tournamen…</td></tr></tbody></table></div>"
      ],
      "text/plain": [
       "shape: (5, 18)\n",
       "┌────────────┬──────────────────┬─────┬───────┬───┬────────┬────────┬────────────┬─────────────────┐\n",
       "│ Date       ┆ Name             ┆ Sex ┆ Place ┆ … ┆ Wilks  ┆ Tested ┆ Federation ┆ MeetName        │\n",
       "│ ---        ┆ ---              ┆ --- ┆ ---   ┆   ┆ ---    ┆ ---    ┆ ---        ┆ ---             │\n",
       "│ str        ┆ str              ┆ str ┆ str   ┆   ┆ f64    ┆ str    ┆ str        ┆ str             │\n",
       "╞════════════╪══════════════════╪═════╪═══════╪═══╪════════╪════════╪════════════╪═════════════════╡\n",
       "│ 2019-05-11 ┆ Alona Vladi      ┆ F   ┆ 1     ┆ … ┆ 282.18 ┆ Yes    ┆ GFP        ┆ Open Tournament │\n",
       "│ 2019-05-11 ┆ Galina           ┆ F   ┆ 1     ┆ … ┆ 272.99 ┆ Yes    ┆ GFP        ┆ Open Tournament │\n",
       "│            ┆ Solovyanova      ┆     ┆       ┆   ┆        ┆        ┆            ┆                 │\n",
       "│ 2019-05-11 ┆ Daniil Voronin   ┆ M   ┆ 1     ┆ … ┆ 206.49 ┆ Yes    ┆ GFP        ┆ Open Tournament │\n",
       "│ 2019-05-11 ┆ Aleksey Krasov   ┆ M   ┆ 1     ┆ … ┆ 334.94 ┆ Yes    ┆ GFP        ┆ Open Tournament │\n",
       "│ 2019-05-11 ┆ Margarita        ┆ M   ┆ 1     ┆ … ┆ 193.55 ┆ Yes    ┆ GFP        ┆ Open Tournament │\n",
       "│            ┆ Pleschenkova     ┆     ┆       ┆   ┆        ┆        ┆            ┆                 │\n",
       "└────────────┴──────────────────┴─────┴───────┴───┴────────┴────────┴────────────┴─────────────────┘"
      ]
     },
     "execution_count": 5,
     "metadata": {},
     "output_type": "execute_result"
    }
   ],
   "source": [
    "base_df = df.select(conf.op_cols)\n",
    "print(base_df.shape)\n",
    "base_df.head(5)"
   ]
  },
  {
   "cell_type": "code",
   "execution_count": 6,
   "metadata": {},
   "outputs": [
    {
     "name": "stdout",
     "output_type": "stream",
     "text": [
      "(427224, 15)\n"
     ]
    },
    {
     "data": {
      "text/html": [
       "<div><style>\n",
       ".dataframe > thead > tr > th,\n",
       ".dataframe > tbody > tr > td {\n",
       "  text-align: right;\n",
       "}\n",
       "</style>\n",
       "<small>shape: (5, 15)</small><table border=\"1\" class=\"dataframe\"><thead><tr><th>Date</th><th>Name</th><th>Sex</th><th>Place</th><th>Age</th><th>AgeClass</th><th>BodyweightKg</th><th>MeetCountry</th><th>Equipment</th><th>Best3SquatKg</th><th>Best3BenchKg</th><th>Best3DeadliftKg</th><th>TotalKg</th><th>Wilks</th><th>MeetName</th></tr><tr><td>str</td><td>str</td><td>str</td><td>str</td><td>f64</td><td>str</td><td>f64</td><td>str</td><td>str</td><td>f64</td><td>f64</td><td>f64</td><td>f64</td><td>f64</td><td>str</td></tr></thead><tbody><tr><td>&quot;2023-04-30&quot;</td><td>&quot;Matyas Kovach&quot;</td><td>&quot;M&quot;</td><td>&quot;1&quot;</td><td>41.0</td><td>&quot;40-44&quot;</td><td>73.85</td><td>&quot;USA&quot;</td><td>&quot;Raw&quot;</td><td>180.0</td><td>132.5</td><td>185.0</td><td>497.5</td><td>358.37</td><td>&quot;Tri-State Cham…</td></tr><tr><td>&quot;2023-04-30&quot;</td><td>&quot;Amanda Lairmor…</td><td>&quot;F&quot;</td><td>&quot;1&quot;</td><td>23.5</td><td>&quot;24-34&quot;</td><td>50.4</td><td>&quot;USA&quot;</td><td>&quot;Raw&quot;</td><td>160.0</td><td>77.5</td><td>120.0</td><td>357.5</td><td>456.49</td><td>&quot;MetroEast Rook…</td></tr><tr><td>&quot;2023-04-30&quot;</td><td>&quot;Wendolyn Reyes…</td><td>&quot;F&quot;</td><td>&quot;2&quot;</td><td>21.5</td><td>&quot;20-23&quot;</td><td>103.1</td><td>&quot;USA&quot;</td><td>&quot;Raw&quot;</td><td>150.0</td><td>75.0</td><td>175.0</td><td>400.0</td><td>330.22</td><td>&quot;MetroEast Rook…</td></tr><tr><td>&quot;2023-04-30&quot;</td><td>&quot;Mikaela Inskee…</td><td>&quot;F&quot;</td><td>&quot;3&quot;</td><td>19.5</td><td>&quot;20-23&quot;</td><td>59.2</td><td>&quot;USA&quot;</td><td>&quot;Raw&quot;</td><td>92.5</td><td>65.0</td><td>125.0</td><td>282.5</td><td>318.26</td><td>&quot;MetroEast Rook…</td></tr><tr><td>&quot;2023-04-30&quot;</td><td>&quot;Alexis Novak&quot;</td><td>&quot;F&quot;</td><td>&quot;4&quot;</td><td>21.5</td><td>&quot;20-23&quot;</td><td>62.8</td><td>&quot;USA&quot;</td><td>&quot;Raw&quot;</td><td>90.0</td><td>55.0</td><td>102.5</td><td>247.5</td><td>266.45</td><td>&quot;MetroEast Rook…</td></tr></tbody></table></div>"
      ],
      "text/plain": [
       "shape: (5, 15)\n",
       "┌────────────┬────────────────┬─────┬───────┬───┬───────────────┬─────────┬────────┬───────────────┐\n",
       "│ Date       ┆ Name           ┆ Sex ┆ Place ┆ … ┆ Best3Deadlift ┆ TotalKg ┆ Wilks  ┆ MeetName      │\n",
       "│ ---        ┆ ---            ┆ --- ┆ ---   ┆   ┆ Kg            ┆ ---     ┆ ---    ┆ ---           │\n",
       "│ str        ┆ str            ┆ str ┆ str   ┆   ┆ ---           ┆ f64     ┆ f64    ┆ str           │\n",
       "│            ┆                ┆     ┆       ┆   ┆ f64           ┆         ┆        ┆               │\n",
       "╞════════════╪════════════════╪═════╪═══════╪═══╪═══════════════╪═════════╪════════╪═══════════════╡\n",
       "│ 2023-04-30 ┆ Matyas Kovach  ┆ M   ┆ 1     ┆ … ┆ 185.0         ┆ 497.5   ┆ 358.37 ┆ Tri-State     │\n",
       "│            ┆                ┆     ┆       ┆   ┆               ┆         ┆        ┆ Championship  │\n",
       "│ 2023-04-30 ┆ Amanda         ┆ F   ┆ 1     ┆ … ┆ 120.0         ┆ 357.5   ┆ 456.49 ┆ MetroEast     │\n",
       "│            ┆ Lairmore       ┆     ┆       ┆   ┆               ┆         ┆        ┆ Rookie Novice │\n",
       "│            ┆                ┆     ┆       ┆   ┆               ┆         ┆        ┆ Showdown      │\n",
       "│ 2023-04-30 ┆ Wendolyn Reyes ┆ F   ┆ 2     ┆ … ┆ 175.0         ┆ 400.0   ┆ 330.22 ┆ MetroEast     │\n",
       "│            ┆                ┆     ┆       ┆   ┆               ┆         ┆        ┆ Rookie Novice │\n",
       "│            ┆                ┆     ┆       ┆   ┆               ┆         ┆        ┆ Showdown      │\n",
       "│ 2023-04-30 ┆ Mikaela        ┆ F   ┆ 3     ┆ … ┆ 125.0         ┆ 282.5   ┆ 318.26 ┆ MetroEast     │\n",
       "│            ┆ Inskeep        ┆     ┆       ┆   ┆               ┆         ┆        ┆ Rookie Novice │\n",
       "│            ┆                ┆     ┆       ┆   ┆               ┆         ┆        ┆ Showdown      │\n",
       "│ 2023-04-30 ┆ Alexis Novak   ┆ F   ┆ 4     ┆ … ┆ 102.5         ┆ 247.5   ┆ 266.45 ┆ MetroEast     │\n",
       "│            ┆                ┆     ┆       ┆   ┆               ┆         ┆        ┆ Rookie Novice │\n",
       "│            ┆                ┆     ┆       ┆   ┆               ┆         ┆        ┆ Showdown      │\n",
       "└────────────┴────────────────┴─────┴───────┴───┴───────────────┴─────────┴────────┴───────────────┘"
      ]
     },
     "execution_count": 6,
     "metadata": {},
     "output_type": "execute_result"
    }
   ],
   "source": [
    "cleansed_df = base_df.filter(\n",
    "    (pl.col(\"Event\") == \"SBD\") & \n",
    "    (pl.col(\"Tested\") == \"Yes\") & \n",
    "    (pl.col('Place').apply(lambda x: x.isnumeric(), return_dtype = pl.Boolean)) & \n",
    "    (pl.col(\"Equipment\") == \"Raw\")\n",
    ").drop_nulls().unique().sort(\"Date\", descending=True).drop([\"Tested\", \"Federation\", \"Event\"])\n",
    "print(cleansed_df.shape)\n",
    "cleansed_df.head(5)"
   ]
  },
  {
   "cell_type": "code",
   "execution_count": 7,
   "metadata": {},
   "outputs": [
    {
     "data": {
      "text/html": [
       "<div><style>\n",
       ".dataframe > thead > tr > th,\n",
       ".dataframe > tbody > tr > td {\n",
       "  text-align: right;\n",
       "}\n",
       "</style>\n",
       "<small>shape: (5, 15)</small><table border=\"1\" class=\"dataframe\"><thead><tr><th>Date</th><th>Name</th><th>Sex</th><th>Place</th><th>Age</th><th>AgeClass</th><th>BodyweightKg</th><th>MeetCountry</th><th>Equipment</th><th>Best3SquatKg</th><th>Best3BenchKg</th><th>Best3DeadliftKg</th><th>TotalKg</th><th>Wilks</th><th>MeetName</th></tr><tr><td>str</td><td>str</td><td>str</td><td>str</td><td>f64</td><td>str</td><td>f64</td><td>str</td><td>str</td><td>f64</td><td>f64</td><td>f64</td><td>f64</td><td>f64</td><td>str</td></tr></thead><tbody><tr><td>&quot;2022-11-05&quot;</td><td>&quot;John Paul Cauc…</td><td>&quot;M&quot;</td><td>&quot;1&quot;</td><td>29.5</td><td>&quot;24-34&quot;</td><td>82.35</td><td>&quot;Australia&quot;</td><td>&quot;Raw&quot;</td><td>265.0</td><td>137.5</td><td>290.0</td><td>692.5</td><td>464.42</td><td>&quot;Ballarat Open&quot;</td></tr><tr><td>&quot;2021-04-11&quot;</td><td>&quot;John Paul Cauc…</td><td>&quot;M&quot;</td><td>&quot;1&quot;</td><td>28.0</td><td>&quot;24-34&quot;</td><td>76.75</td><td>&quot;Australia&quot;</td><td>&quot;Raw&quot;</td><td>260.0</td><td>138.0</td><td>290.0</td><td>688.0</td><td>482.56</td><td>&quot;JPS Open VII&quot;</td></tr><tr><td>&quot;2020-09-26&quot;</td><td>&quot;John Paul Cauc…</td><td>&quot;M&quot;</td><td>&quot;2&quot;</td><td>27.5</td><td>&quot;24-34&quot;</td><td>76.95</td><td>&quot;Australia&quot;</td><td>&quot;Raw&quot;</td><td>256.0</td><td>133.0</td><td>306.0</td><td>695.0</td><td>486.62</td><td>&quot;Australian Pow…</td></tr><tr><td>&quot;2019-08-22&quot;</td><td>&quot;John Paul Cauc…</td><td>&quot;M&quot;</td><td>&quot;2&quot;</td><td>26.5</td><td>&quot;24-34&quot;</td><td>76.9</td><td>&quot;China&quot;</td><td>&quot;Raw&quot;</td><td>248.0</td><td>135.0</td><td>273.0</td><td>656.0</td><td>459.52</td><td>&quot;Asia Pacific O…</td></tr><tr><td>&quot;2019-06-28&quot;</td><td>&quot;John Paul Cauc…</td><td>&quot;M&quot;</td><td>&quot;1&quot;</td><td>26.5</td><td>&quot;24-34&quot;</td><td>76.85</td><td>&quot;Australia&quot;</td><td>&quot;Raw&quot;</td><td>253.0</td><td>134.0</td><td>286.0</td><td>673.0</td><td>471.63</td><td>&quot;Australian Pow…</td></tr></tbody></table></div>"
      ],
      "text/plain": [
       "shape: (5, 15)\n",
       "┌────────────┬───────────┬─────┬───────┬───┬──────────────────┬─────────┬────────┬─────────────────┐\n",
       "│ Date       ┆ Name      ┆ Sex ┆ Place ┆ … ┆ Best3DeadliftKg  ┆ TotalKg ┆ Wilks  ┆ MeetName        │\n",
       "│ ---        ┆ ---       ┆ --- ┆ ---   ┆   ┆ ---              ┆ ---     ┆ ---    ┆ ---             │\n",
       "│ str        ┆ str       ┆ str ┆ str   ┆   ┆ f64              ┆ f64     ┆ f64    ┆ str             │\n",
       "╞════════════╪═══════════╪═════╪═══════╪═══╪══════════════════╪═════════╪════════╪═════════════════╡\n",
       "│ 2022-11-05 ┆ John Paul ┆ M   ┆ 1     ┆ … ┆ 290.0            ┆ 692.5   ┆ 464.42 ┆ Ballarat Open   │\n",
       "│            ┆ Cauchi    ┆     ┆       ┆   ┆                  ┆         ┆        ┆                 │\n",
       "│ 2021-04-11 ┆ John Paul ┆ M   ┆ 1     ┆ … ┆ 290.0            ┆ 688.0   ┆ 482.56 ┆ JPS Open VII    │\n",
       "│            ┆ Cauchi    ┆     ┆       ┆   ┆                  ┆         ┆        ┆                 │\n",
       "│ 2020-09-26 ┆ John Paul ┆ M   ┆ 2     ┆ … ┆ 306.0            ┆ 695.0   ┆ 486.62 ┆ Australian      │\n",
       "│            ┆ Cauchi    ┆     ┆       ┆   ┆                  ┆         ┆        ┆ Powerlifting    │\n",
       "│            ┆           ┆     ┆       ┆   ┆                  ┆         ┆        ┆ Champion…       │\n",
       "│ 2019-08-22 ┆ John Paul ┆ M   ┆ 2     ┆ … ┆ 273.0            ┆ 656.0   ┆ 459.52 ┆ Asia Pacific    │\n",
       "│            ┆ Cauchi    ┆     ┆       ┆   ┆                  ┆         ┆        ┆ Open            │\n",
       "│ 2019-06-28 ┆ John Paul ┆ M   ┆ 1     ┆ … ┆ 286.0            ┆ 673.0   ┆ 471.63 ┆ Australian      │\n",
       "│            ┆ Cauchi    ┆     ┆       ┆   ┆                  ┆         ┆        ┆ Powerlifting    │\n",
       "│            ┆           ┆     ┆       ┆   ┆                  ┆         ┆        ┆ Champion…       │\n",
       "└────────────┴───────────┴─────┴───────┴───┴──────────────────┴─────────┴────────┴─────────────────┘"
      ]
     },
     "execution_count": 7,
     "metadata": {},
     "output_type": "execute_result"
    }
   ],
   "source": [
    "cleansed_df.filter(pl.col(\"Name\") == \"John Paul Cauchi\").sort(\"Date\", descending=True).head(5)"
   ]
  },
  {
   "attachments": {},
   "cell_type": "markdown",
   "metadata": {},
   "source": [
    "## Data Preparation\n",
    "- Drop the `Tested`, `Federation` and `Event` columns as they are no longer needed.\n",
    "- Update column types: \n",
    "    - `Date` to `Date`\n",
    "    - `Place` to `Int64`\n",
    "- Collect data from 2000-01-01 onwards. \n",
    "- Rename columns from camel to snake case \n",
    "- Assume that a powerlifter's country is from the first country that compete in. "
   ]
  },
  {
   "cell_type": "code",
   "execution_count": 8,
   "metadata": {},
   "outputs": [],
   "source": [
    "# find the first country that the powerlifter competed in and assume that is their country of origin\n",
    "lifter_country_df = cleansed_df.groupby([\"Name\", \"Sex\"]).agg(pl.first(\"MeetCountry\").alias(\"OriginCountry\"))"
   ]
  },
  {
   "cell_type": "code",
   "execution_count": 11,
   "metadata": {},
   "outputs": [
    {
     "name": "stdout",
     "output_type": "stream",
     "text": [
      "(426396, 16)\n"
     ]
    },
    {
     "data": {
      "text/html": [
       "<div><style>\n",
       ".dataframe > thead > tr > th,\n",
       ".dataframe > tbody > tr > td {\n",
       "  text-align: right;\n",
       "}\n",
       "</style>\n",
       "<small>shape: (5, 16)</small><table border=\"1\" class=\"dataframe\"><thead><tr><th>date</th><th>name</th><th>sex</th><th>place</th><th>age</th><th>age_class</th><th>bodyweight</th><th>meet_country</th><th>equipment</th><th>squat</th><th>bench</th><th>deadlift</th><th>total</th><th>wilks</th><th>meet_name</th><th>origin_country</th></tr><tr><td>date</td><td>str</td><td>str</td><td>i32</td><td>f64</td><td>str</td><td>f64</td><td>str</td><td>str</td><td>f64</td><td>f64</td><td>f64</td><td>f64</td><td>f64</td><td>str</td><td>str</td></tr></thead><tbody><tr><td>2017-12-04</td><td>&quot;A Ajeesha&quot;</td><td>&quot;F&quot;</td><td>1</td><td>16.5</td><td>&quot;16-17&quot;</td><td>71.1</td><td>&quot;India&quot;</td><td>&quot;Raw&quot;</td><td>112.5</td><td>55.0</td><td>132.5</td><td>300.0</td><td>295.29</td><td>&quot;Asian Classic …</td><td>&quot;India&quot;</td></tr><tr><td>2012-12-10</td><td>&quot;A Ashwin&quot;</td><td>&quot;M&quot;</td><td>1</td><td>16.5</td><td>&quot;16-17&quot;</td><td>82.55</td><td>&quot;India&quot;</td><td>&quot;Raw&quot;</td><td>170.0</td><td>95.0</td><td>220.0</td><td>485.0</td><td>324.79</td><td>&quot;Asian Classic …</td><td>&quot;India&quot;</td></tr><tr><td>2019-10-01</td><td>&quot;A Belousov&quot;</td><td>&quot;M&quot;</td><td>8</td><td>17.5</td><td>&quot;18-19&quot;</td><td>73.6</td><td>&quot;Kazakhstan&quot;</td><td>&quot;Raw&quot;</td><td>75.0</td><td>75.0</td><td>100.0</td><td>250.0</td><td>180.52</td><td>&quot;Kazakhstan Cla…</td><td>&quot;Kazakhstan&quot;</td></tr><tr><td>2019-09-26</td><td>&quot;A K S Shri Ram…</td><td>&quot;M&quot;</td><td>13</td><td>16.0</td><td>&quot;16-17&quot;</td><td>78.2</td><td>&quot;India&quot;</td><td>&quot;Raw&quot;</td><td>117.5</td><td>50.0</td><td>150.0</td><td>317.5</td><td>219.95</td><td>&quot;Indian Classic…</td><td>&quot;India&quot;</td></tr><tr><td>2019-09-26</td><td>&quot;A Pradeep&quot;</td><td>&quot;M&quot;</td><td>6</td><td>17.0</td><td>&quot;16-17&quot;</td><td>80.7</td><td>&quot;India&quot;</td><td>&quot;Raw&quot;</td><td>150.0</td><td>97.5</td><td>170.0</td><td>417.5</td><td>283.48</td><td>&quot;Indian Classic…</td><td>&quot;India&quot;</td></tr></tbody></table></div>"
      ],
      "text/plain": [
       "shape: (5, 16)\n",
       "┌────────────┬────────────────┬─────┬───────┬───┬───────┬────────┬────────────────┬────────────────┐\n",
       "│ date       ┆ name           ┆ sex ┆ place ┆ … ┆ total ┆ wilks  ┆ meet_name      ┆ origin_country │\n",
       "│ ---        ┆ ---            ┆ --- ┆ ---   ┆   ┆ ---   ┆ ---    ┆ ---            ┆ ---            │\n",
       "│ date       ┆ str            ┆ str ┆ i32   ┆   ┆ f64   ┆ f64    ┆ str            ┆ str            │\n",
       "╞════════════╪════════════════╪═════╪═══════╪═══╪═══════╪════════╪════════════════╪════════════════╡\n",
       "│ 2017-12-04 ┆ A Ajeesha      ┆ F   ┆ 1     ┆ … ┆ 300.0 ┆ 295.29 ┆ Asian Classic  ┆ India          │\n",
       "│            ┆                ┆     ┆       ┆   ┆       ┆        ┆ Powerlifting   ┆                │\n",
       "│            ┆                ┆     ┆       ┆   ┆       ┆        ┆ Champ…         ┆                │\n",
       "│ 2012-12-10 ┆ A Ashwin       ┆ M   ┆ 1     ┆ … ┆ 485.0 ┆ 324.79 ┆ Asian Classic  ┆ India          │\n",
       "│            ┆                ┆     ┆       ┆   ┆       ┆        ┆ Powerlifting   ┆                │\n",
       "│            ┆                ┆     ┆       ┆   ┆       ┆        ┆ Champ…         ┆                │\n",
       "│ 2019-10-01 ┆ A Belousov     ┆ M   ┆ 8     ┆ … ┆ 250.0 ┆ 180.52 ┆ Kazakhstan     ┆ Kazakhstan     │\n",
       "│            ┆                ┆     ┆       ┆   ┆       ┆        ┆ Classic        ┆                │\n",
       "│            ┆                ┆     ┆       ┆   ┆       ┆        ┆ Powerlifting … ┆                │\n",
       "│ 2019-09-26 ┆ A K S Shri Ram ┆ M   ┆ 13    ┆ … ┆ 317.5 ┆ 219.95 ┆ Indian Classic ┆ India          │\n",
       "│            ┆                ┆     ┆       ┆   ┆       ┆        ┆ Powerlifting   ┆                │\n",
       "│            ┆                ┆     ┆       ┆   ┆       ┆        ┆ Cham…          ┆                │\n",
       "│ 2019-09-26 ┆ A Pradeep      ┆ M   ┆ 6     ┆ … ┆ 417.5 ┆ 283.48 ┆ Indian Classic ┆ India          │\n",
       "│            ┆                ┆     ┆       ┆   ┆       ┆        ┆ Powerlifting   ┆                │\n",
       "│            ┆                ┆     ┆       ┆   ┆       ┆        ┆ Cham…          ┆                │\n",
       "└────────────┴────────────────┴─────┴───────┴───┴───────┴────────┴────────────────┴────────────────┘"
      ]
     },
     "execution_count": 11,
     "metadata": {},
     "output_type": "execute_result"
    }
   ],
   "source": [
    "data_prep_df = cleansed_df.sort([\"Name\", \"Date\"], descending=[False, True]).join(lifter_country_df, on=[\"Name\", \"Sex\"]).filter(pl.col(\"Date\").gt(\"2000-01-01\")).with_columns(\n",
    "    pl.col(\"Date\").str.strptime(pl.Date, fmt=\"%Y-%m-%d\").alias(\"Date\"),\n",
    "    pl.col(\"Place\").cast(pl.Int32).alias(\"Place\"),\n",
    ").rename(\n",
    "    mapping=conf.op_cols_rename\n",
    ").select(\n",
    "    pl.all().map_alias(lambda col_name: conf.camel_to_snake(col_name))\n",
    ")\n",
    "\n",
    "\n",
    "print(data_prep_df.shape)\n",
    "data_prep_df.head(5)"
   ]
  },
  {
   "attachments": {},
   "cell_type": "markdown",
   "metadata": {},
   "source": [
    "### Feature Engineering\n",
    "- Create a `pot_*` (progress over time) columns for `wilks` and `total`\n",
    "- Adds columns:\n",
    "  - `time_since_last_comp`: identify how long it has been since their last competition (in days)\n",
    "  - `home_country`: 1 if `meet_country` == `origin_country` else 0 \n",
    "  - `bodyweight_change`: change in bodyweight since the last comp (in kg)\n",
    "  - `cumulative_comps`: running total of the number of comopetitions completed\n",
    "- Switches `Date` "
   ]
  },
  {
   "cell_type": "code",
   "execution_count": 63,
   "metadata": {},
   "outputs": [],
   "source": [
    "fe_df = data_prep_df.with_columns(\n",
    "     (pl.col('date') - pl.col('date').shift(-1)).over('name').alias('time_since_last_comp').apply(lambda x: x.days).cast(pl.Int32),\n",
    "     (pl.col('bodyweight') - pl.col('bodyweight').shift(-1)).over('name').alias('bodyweight_change').cast(pl.Float64),\n",
    ").sort(\n",
    "    [\"name\", \"date\"], descending=[False, False]\n",
    ").with_columns(\n",
    "    (pl.col('time_since_last_comp') / 365.25).alias('years_since_last_comp'),\n",
    "    (pl.col(\"meet_country\") == pl.col(\"origin_country\")).alias(\"is_origin_country\"),\n",
    "    pl.col('date').apply(lambda x: x.toordinal()).alias('date_as_ordinal'),\n",
    "    pl.col('name').cumcount().over('name').alias('cumulative_comps'),\n",
    "    pl.when(\n",
    "        pl.col(\"meet_name\").str.contains('national')\n",
    "    ).then(\"national\").otherwise(\n",
    "    pl.when(\n",
    "        pl.col('meet_name').str.contains('International|World|Commonwealth')\n",
    "    ).then(\"international\").otherwise(\"local\")).alias('meet_type')\n",
    ")\n",
    "\n",
    "\n",
    "fe_df_with_progress = fe_df.with_columns(\n",
    "    ((pl.col('squat') - pl.col('squat').shift(1)) / pl.col('years_since_last_comp')).over('name').alias(f'squat_progress'),\n",
    "    ((pl.col('bench') - pl.col('bench').shift(1)) / pl.col('years_since_last_comp')).over('name').alias(f'bench_progress'),\n",
    "    ((pl.col('deadlift') - pl.col('deadlift').shift(1)) / pl.col('years_since_last_comp')).over('name').alias(f'deadlift_progress'),\n",
    "    ((pl.col('total') - pl.col('total').shift(1)) / pl.col('years_since_last_comp')).over('name').alias(f'total_progress'),\n",
    "    ((pl.col('wilks') - pl.col('wilks').shift(1)) / pl.col('years_since_last_comp')).over('name').alias(f'wilks_progress')\n",
    ").drop_nulls()\n"
   ]
  },
  {
   "cell_type": "code",
   "execution_count": 66,
   "metadata": {},
   "outputs": [
    {
     "data": {
      "text/plain": [
       "<bound method DataFrame.to_markdown of         date         name sex  place   age age_class  bodyweight meet_country   \n",
       "0 2022-09-17  Nam Tonthat   M      1  28.5     24-34        69.9    Australia  \\\n",
       "1 2022-12-03  Nam Tonthat   M      4  28.5     24-34        66.6    Australia   \n",
       "\n",
       "  equipment  squat  ...  years_since_last_comp  is_origin_country   \n",
       "0       Raw  140.0  ...               1.434634               True  \\\n",
       "1       Raw  147.5  ...               0.210815               True   \n",
       "\n",
       "   date_as_ordinal  cumulative_comps meet_type squat_progress  bench_progress   \n",
       "0           738415                 1     local       0.000000        1.394084  \\\n",
       "1           738492                 2  national      35.576299       11.858766   \n",
       "\n",
       "   deadlift_progress  total_progress  wilks_progress  \n",
       "0           6.970420        8.364504       -0.285787  \n",
       "1          35.576299       83.011364      126.367013  \n",
       "\n",
       "[2 rows x 28 columns]>"
      ]
     },
     "execution_count": 66,
     "metadata": {},
     "output_type": "execute_result"
    }
   ],
   "source": [
    "jp_df = fe_df_with_progress.filter(pl.col('name').is_in([\"Nam Tonthat\"]))\n",
    "jp_df.to_pandas().to_markdown"
   ]
  },
  {
   "attachments": {},
   "cell_type": "markdown",
   "metadata": {},
   "source": [
    "## Modelling"
   ]
  },
  {
   "cell_type": "code",
   "execution_count": 268,
   "metadata": {},
   "outputs": [],
   "source": [
    "from sklearn.model_selection import GridSearchCV, train_test_split\n",
    "from sklearn.ensemble import RandomForestRegressor\n",
    "from sklearn.metrics import mean_squared_error\n",
    "from sklearn.preprocessing import OrdinalEncoder, OneHotEncoder, StandardScaler\n",
    "from sklearn.pipeline import Pipeline\n",
    "from sklearn.compose import ColumnTransformer"
   ]
  },
  {
   "cell_type": "code",
   "execution_count": 273,
   "metadata": {},
   "outputs": [],
   "source": [
    "param_grid = {\n",
    "    'regressor__bootstrap': [True],\n",
    "    'regressor__max_depth': [80, 90, 100, 110],\n",
    "    'regressor__max_features': [2, 3],\n",
    "    'regressor__min_samples_leaf': [3, 4, 5],\n",
    "    'regressor__min_samples_split': [8, 10, 12],\n",
    "    'regressor__n_estimators': [100, 200, 300, 1000]\n",
    "}\n"
   ]
  },
  {
   "cell_type": "code",
   "execution_count": 231,
   "metadata": {},
   "outputs": [
    {
     "data": {
      "text/plain": [
       "{'date': Date,\n",
       " 'name': Utf8,\n",
       " 'sex': Utf8,\n",
       " 'place': Int32,\n",
       " 'age': Float64,\n",
       " 'age_class': Utf8,\n",
       " 'bodyweight': Float64,\n",
       " 'meet_country': Utf8,\n",
       " 'equipment': Utf8,\n",
       " 'squat': Float64,\n",
       " 'bench': Float64,\n",
       " 'deadlift': Float64,\n",
       " 'total': Float64,\n",
       " 'wilks': Float64,\n",
       " 'meet_name': Utf8,\n",
       " 'origin_country': Utf8,\n",
       " 'days_since_last_competition': Int32,\n",
       " 'squat_progress_per_day': Float64,\n",
       " 'bench_progress_per_day': Float64,\n",
       " 'deadlift_progress_per_day': Float64,\n",
       " 'total_progress_per_day': Float64,\n",
       " 'wilks_progress_per_day': Float64,\n",
       " 'is_origin_country': Boolean,\n",
       " 'date_as_ordinal': Int64}"
      ]
     },
     "execution_count": 231,
     "metadata": {},
     "output_type": "execute_result"
    }
   ],
   "source": [
    "fe_df.schema"
   ]
  },
  {
   "cell_type": "code",
   "execution_count": 269,
   "metadata": {},
   "outputs": [],
   "source": [
    "features = [\n",
    "    \"date_as_ordinal\", \"name\", \"sex\", \"age\", \"age_class\", \"bodyweight\", \"equipment\", \"total\", \"place\", \"time_since_last_comp\", \"squat_progress\", \"bench_progress\", \"deadlift_progress\", \"total_progress\", \"wilks_progress\", \"origin_country\", \"is_origin_country\"\n",
    "]\n",
    "target = [\n",
    "    \"total\"\n",
    "]\n",
    "\n",
    "\n",
    "# Preprocessing steps for numeric features\n",
    "numeric_transformer = Pipeline([\n",
    "    ('scaler', StandardScaler())\n",
    "])\n",
    "\n",
    "# Preprocessing steps for categorical features\n",
    "categorical_transformer = Pipeline([\n",
    "    ('encoder', OneHotEncoder())\n",
    "])\n",
    "\n",
    "\n",
    "# Preprocessing steps for label encoded features\n",
    "ordinal_transformer = Pipeline([\n",
    "    ('encoder', OrdinalEncoder())\n",
    "])\n",
    "\n",
    "# Combine preprocessing steps for all features\n",
    "preprocessor = ColumnTransformer([\n",
    "    ('numeric', numeric_transformer, ['age', 'bodyweight','time_since_last_comp', \"squat_progress\", \"bench_progress\", \"deadlift_progress\", \"total_progress\", \"wilks_progress\", 'date_as_ordinal', 'total']),\n",
    "    ('categorical', categorical_transformer, ['sex', 'is_origin_country']),\n",
    "    ('ordinal', ordinal_transformer, ['place', 'name', 'age_class', 'origin_country'])\n",
    "])\n",
    "\n",
    "# Create the pipeline with preprocessing steps and the regressor\n",
    "pipeline = Pipeline([\n",
    "    ('preprocessor', preprocessor),\n",
    "    ('regressor', RandomForestRegressor())\n",
    "])"
   ]
  },
  {
   "cell_type": "code",
   "execution_count": 291,
   "metadata": {},
   "outputs": [],
   "source": [
    "fe_df = data_prep_df.with_columns(\n",
    "     (pl.col('date') - pl.col('date').shift(-1)).over('name').alias('time_since_last_comp').apply(lambda x: x.days).cast(pl.Int32)\n",
    ").filter(pl.col(\"name\") == \"A. Belevskiy\")"
   ]
  },
  {
   "cell_type": "code",
   "execution_count": 294,
   "metadata": {},
   "outputs": [
    {
     "data": {
      "text/plain": [
       "{'date': shape: (2,)\n",
       " Series: 'date' [date]\n",
       " [\n",
       " \t2015-10-05\n",
       " \t2015-10-05\n",
       " ],\n",
       " 'name': shape: (2,)\n",
       " Series: 'name' [str]\n",
       " [\n",
       " \t\"A. Belevskiy\"\n",
       " \t\"A. Belevskiy\"\n",
       " ],\n",
       " 'sex': shape: (2,)\n",
       " Series: 'sex' [str]\n",
       " [\n",
       " \t\"M\"\n",
       " \t\"M\"\n",
       " ],\n",
       " 'place': shape: (2,)\n",
       " Series: 'place' [i32]\n",
       " [\n",
       " \t1\n",
       " \t4\n",
       " ],\n",
       " 'age': shape: (2,)\n",
       " Series: 'age' [f64]\n",
       " [\n",
       " \t16.5\n",
       " \t16.5\n",
       " ],\n",
       " 'age_class': shape: (2,)\n",
       " Series: 'age_class' [str]\n",
       " [\n",
       " \t\"16-17\"\n",
       " \t\"16-17\"\n",
       " ],\n",
       " 'bodyweight': shape: (2,)\n",
       " Series: 'bodyweight' [f64]\n",
       " [\n",
       " \t94.35\n",
       " \t96.0\n",
       " ],\n",
       " 'meet_country': shape: (2,)\n",
       " Series: 'meet_country' [str]\n",
       " [\n",
       " \t\"Kazakhstan\"\n",
       " \t\"Kazakhstan\"\n",
       " ],\n",
       " 'equipment': shape: (2,)\n",
       " Series: 'equipment' [str]\n",
       " [\n",
       " \t\"Raw\"\n",
       " \t\"Single-ply\"\n",
       " ],\n",
       " 'squat': shape: (2,)\n",
       " Series: 'squat' [f64]\n",
       " [\n",
       " \t200.0\n",
       " \t250.0\n",
       " ],\n",
       " 'bench': shape: (2,)\n",
       " Series: 'bench' [f64]\n",
       " [\n",
       " \t142.5\n",
       " \t150.0\n",
       " ],\n",
       " 'deadlift': shape: (2,)\n",
       " Series: 'deadlift' [f64]\n",
       " [\n",
       " \t210.0\n",
       " \t240.0\n",
       " ],\n",
       " 'total': shape: (2,)\n",
       " Series: 'total' [f64]\n",
       " [\n",
       " \t552.5\n",
       " \t640.0\n",
       " ],\n",
       " 'wilks': shape: (2,)\n",
       " Series: 'wilks' [f64]\n",
       " [\n",
       " \t344.75\n",
       " \t396.24\n",
       " ],\n",
       " 'meet_name': shape: (2,)\n",
       " Series: 'meet_name' [str]\n",
       " [\n",
       " \t\"Kazakhstan Pow…\n",
       " \t\"Kazakhstan Pow…\n",
       " ],\n",
       " 'origin_country': shape: (2,)\n",
       " Series: 'origin_country' [str]\n",
       " [\n",
       " \t\"Kazakhstan\"\n",
       " \t\"Kazakhstan\"\n",
       " ],\n",
       " 'time_since_last_comp': shape: (2,)\n",
       " Series: 'time_since_last_comp' [i32]\n",
       " [\n",
       " \t0\n",
       " \tnull\n",
       " ]}"
      ]
     },
     "execution_count": 294,
     "metadata": {},
     "output_type": "execute_result"
    }
   ],
   "source": [
    "fe_df.tail(2).to_dict(as_series=True)"
   ]
  },
  {
   "cell_type": "code",
   "execution_count": 282,
   "metadata": {},
   "outputs": [
    {
     "data": {
      "text/html": [
       "<div><style>\n",
       ".dataframe > thead > tr > th,\n",
       ".dataframe > tbody > tr > td {\n",
       "  text-align: right;\n",
       "}\n",
       "</style>\n",
       "<small>shape: (4, 24)</small><table border=\"1\" class=\"dataframe\"><thead><tr><th>date</th><th>name</th><th>sex</th><th>place</th><th>age</th><th>age_class</th><th>bodyweight</th><th>meet_country</th><th>equipment</th><th>squat</th><th>bench</th><th>deadlift</th><th>total</th><th>wilks</th><th>meet_name</th><th>origin_country</th><th>time_since_last_comp</th><th>squat_progress</th><th>bench_progress</th><th>deadlift_progress</th><th>total_progress</th><th>wilks_progress</th><th>is_origin_country</th><th>date_as_ordinal</th></tr><tr><td>date</td><td>str</td><td>str</td><td>i32</td><td>f64</td><td>str</td><td>f64</td><td>str</td><td>str</td><td>f64</td><td>f64</td><td>f64</td><td>f64</td><td>f64</td><td>str</td><td>str</td><td>i32</td><td>f64</td><td>f64</td><td>f64</td><td>f64</td><td>f64</td><td>bool</td><td>i64</td></tr></thead><tbody><tr><td>2016-07-04</td><td>&quot;A. Belevskiy&quot;</td><td>&quot;M&quot;</td><td>1</td><td>17.5</td><td>&quot;18-19&quot;</td><td>97.2</td><td>&quot;Kazakhstan&quot;</td><td>&quot;Single-ply&quot;</td><td>235.0</td><td>172.5</td><td>235.0</td><td>642.5</td><td>395.64</td><td>&quot;Kazakhstan Sub…</td><td>&quot;Kazakhstan&quot;</td><td>93</td><td>4.455852</td><td>5.092402</td><td>1.909651</td><td>11.457906</td><td>5.135688</td><td>true</td><td>736149</td></tr><tr><td>2016-04-02</td><td>&quot;A. Belevskiy&quot;</td><td>&quot;M&quot;</td><td>1</td><td>17.5</td><td>&quot;18-19&quot;</td><td>98.65</td><td>&quot;Kazakhstan&quot;</td><td>&quot;Raw&quot;</td><td>212.5</td><td>147.5</td><td>215.0</td><td>575.0</td><td>351.88</td><td>&quot;Kazakhstan Cla…</td><td>&quot;Kazakhstan&quot;</td><td>31</td><td>1.909651</td><td>2.121834</td><td>1.697467</td><td>5.728953</td><td>3.714059</td><td>true</td><td>736056</td></tr><tr><td>2016-03-02</td><td>&quot;A. Belevskiy&quot;</td><td>&quot;M&quot;</td><td>1</td><td>17.5</td><td>&quot;18-19&quot;</td><td>97.45</td><td>&quot;Kazakhstan&quot;</td><td>&quot;Single-ply&quot;</td><td>235.0</td><td>160.0</td><td>230.0</td><td>625.0</td><td>384.45</td><td>&quot;Kazakhstan Pow…</td><td>&quot;Kazakhstan&quot;</td><td>149</td><td>-9.178645</td><td>-5.099247</td><td>-6.119097</td><td>-20.396988</td><td>-13.286598</td><td>true</td><td>736025</td></tr><tr><td>2015-10-05</td><td>&quot;A. Belevskiy&quot;</td><td>&quot;M&quot;</td><td>1</td><td>16.5</td><td>&quot;16-17&quot;</td><td>94.35</td><td>&quot;Kazakhstan&quot;</td><td>&quot;Raw&quot;</td><td>200.0</td><td>142.5</td><td>210.0</td><td>552.5</td><td>344.75</td><td>&quot;Kazakhstan Pow…</td><td>&quot;Kazakhstan&quot;</td><td>0</td><td>0.0</td><td>0.0</td><td>0.0</td><td>0.0</td><td>0.0</td><td>true</td><td>735876</td></tr></tbody></table></div>"
      ],
      "text/plain": [
       "shape: (4, 24)\n",
       "┌────────────┬───────────────┬─────┬───────┬───┬────────────┬────────────┬────────────┬────────────┐\n",
       "│ date       ┆ name          ┆ sex ┆ place ┆ … ┆ total_prog ┆ wilks_prog ┆ is_origin_ ┆ date_as_or │\n",
       "│ ---        ┆ ---           ┆ --- ┆ ---   ┆   ┆ ress       ┆ ress       ┆ country    ┆ dinal      │\n",
       "│ date       ┆ str           ┆ str ┆ i32   ┆   ┆ ---        ┆ ---        ┆ ---        ┆ ---        │\n",
       "│            ┆               ┆     ┆       ┆   ┆ f64        ┆ f64        ┆ bool       ┆ i64        │\n",
       "╞════════════╪═══════════════╪═════╪═══════╪═══╪════════════╪════════════╪════════════╪════════════╡\n",
       "│ 2016-07-04 ┆ A. Belevskiy  ┆ M   ┆ 1     ┆ … ┆ 11.457906  ┆ 5.135688   ┆ true       ┆ 736149     │\n",
       "│ 2016-04-02 ┆ A. Belevskiy  ┆ M   ┆ 1     ┆ … ┆ 5.728953   ┆ 3.714059   ┆ true       ┆ 736056     │\n",
       "│ 2016-03-02 ┆ A. Belevskiy  ┆ M   ┆ 1     ┆ … ┆ -20.396988 ┆ -13.286598 ┆ true       ┆ 736025     │\n",
       "│ 2015-10-05 ┆ A. Belevskiy  ┆ M   ┆ 1     ┆ … ┆ 0.0        ┆ 0.0        ┆ true       ┆ 735876     │\n",
       "└────────────┴───────────────┴─────┴───────┴───┴────────────┴────────────┴────────────┴────────────┘"
      ]
     },
     "execution_count": 282,
     "metadata": {},
     "output_type": "execute_result"
    }
   ],
   "source": [
    "fe_df.filter(pl.col(\"name\") == 'A. Belevskiy')"
   ]
  },
  {
   "cell_type": "code",
   "execution_count": 270,
   "metadata": {},
   "outputs": [],
   "source": [
    "X_train, X_test, y_train, y_test = train_test_split(fe_df[features], fe_df[target], test_size=0.2, random_state=42)"
   ]
  },
  {
   "cell_type": "code",
   "execution_count": 271,
   "metadata": {},
   "outputs": [
    {
     "name": "stderr",
     "output_type": "stream",
     "text": [
      "/Users/namtonthat/Library/Caches/pypoetry/virtualenvs/powerlifting-ml-progress-4gf5U7T4-py3.11/lib/python3.11/site-packages/sklearn/pipeline.py:346: DataConversionWarning: A column-vector y was passed when a 1d array was expected. Please change the shape of y to (n_samples,), for example using ravel().\n",
      "  self._final_estimator.fit(Xt, y, **fit_params_last_step)\n"
     ]
    },
    {
     "data": {
      "text/plain": [
       "Pipeline(steps=[('preprocessor',\n",
       "                 ColumnTransformer(transformers=[('numeric',\n",
       "                                                  Pipeline(steps=[('scaler',\n",
       "                                                                   StandardScaler())]),\n",
       "                                                  ['age', 'bodyweight',\n",
       "                                                   'time_since_last_comp',\n",
       "                                                   'squat_progress',\n",
       "                                                   'bench_progress',\n",
       "                                                   'deadlift_progress',\n",
       "                                                   'total_progress',\n",
       "                                                   'wilks_progress',\n",
       "                                                   'date_as_ordinal',\n",
       "                                                   'total']),\n",
       "                                                 ('categorical',\n",
       "                                                  Pipeline(steps=[('encoder',\n",
       "                                                                   OneHotEncoder())]),\n",
       "                                                  ['sex', 'is_origin_country']),\n",
       "                                                 ('ordinal',\n",
       "                                                  Pipeline(steps=[('encoder',\n",
       "                                                                   OrdinalEncoder())]),\n",
       "                                                  ['place', 'name', 'age_class',\n",
       "                                                   'origin_country'])])),\n",
       "                ('regressor', RandomForestRegressor())])"
      ]
     },
     "execution_count": 271,
     "metadata": {},
     "output_type": "execute_result"
    }
   ],
   "source": [
    "pipeline.fit(X_train.to_pandas(), y_train.to_pandas())"
   ]
  },
  {
   "cell_type": "code",
   "execution_count": null,
   "metadata": {},
   "outputs": [],
   "source": [
    "# Initialize the grid search model\n",
    "grid_search = GridSearchCV(estimator = pipeline, param_grid = param_grid, \n",
    "                           cv = 3, n_jobs = -1, verbose = 2)\n",
    "\n",
    "# Fit the grid search model\n",
    "grid_search.fit(X_train.to_pandas(), y_train.to_pandas())\n",
    "\n",
    "# Get the best parameters\n",
    "best_params = grid_search.best_params_\n",
    "\n",
    "# Train the model using the best parameters\n",
    "best_model = RandomForestRegressor(**best_params)\n",
    "best_model.fit(X_train.to_pandas(), y_train.to_pandas())\n",
    "\n",
    "# Make predictions\n",
    "y_pred = best_model.predict(X_test.to_pandas())\n"
   ]
  },
  {
   "cell_type": "code",
   "execution_count": null,
   "metadata": {},
   "outputs": [],
   "source": [
    "print(f\"Mean Squared Error: {mse}\")"
   ]
  }
 ],
 "metadata": {
  "kernelspec": {
   "display_name": "powerlifting-ml-progress",
   "language": "python",
   "name": "powerlifting-ml-progress"
  },
  "language_info": {
   "codemirror_mode": {
    "name": "ipython",
    "version": 3
   },
   "file_extension": ".py",
   "mimetype": "text/x-python",
   "name": "python",
   "nbconvert_exporter": "python",
   "pygments_lexer": "ipython3",
   "version": "3.11.1"
  },
  "orig_nbformat": 4
 },
 "nbformat": 4,
 "nbformat_minor": 2
}
