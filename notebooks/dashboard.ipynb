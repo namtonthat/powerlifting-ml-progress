{
 "cells": [
  {
   "cell_type": "code",
   "execution_count": 1,
   "metadata": {},
   "outputs": [],
   "source": [
    "import polars as pl\n",
    "# download latest data source \n",
    "import zipfile\n",
    "from io import BytesIO\n",
    "from urllib.request import urlopen\n",
    "import shutil"
   ]
  },
  {
   "attachments": {},
   "cell_type": "markdown",
   "metadata": {},
   "source": [
    "### Reading files"
   ]
  },
  {
   "cell_type": "code",
   "execution_count": 15,
   "metadata": {},
   "outputs": [],
   "source": [
    "import sys\n",
    "from pathlib import Path\n",
    "sys.path.append(str(Path().resolve().parent))\n",
    "from steps import conf\n"
   ]
  },
  {
   "cell_type": "code",
   "execution_count": 16,
   "metadata": {},
   "outputs": [],
   "source": [
    "s3_file_path = f\"https://{conf.bucket_name}.s3.ap-southeast-2.amazonaws.com/{conf.parquet_file}\"\n",
    "\n",
    "df = pl.read_parquet(s3_file_path)\n",
    "df = df.unique()"
   ]
  },
  {
   "cell_type": "code",
   "execution_count": 32,
   "metadata": {},
   "outputs": [],
   "source": [
    "def calculate_unique_fields(df):\n",
    "    unique_fields = {}\n",
    "    for col in df.columns:\n",
    "        unique_fields[col] = df[col].unique().to_list()\n",
    "    return unique_fields"
   ]
  },
  {
   "cell_type": "code",
   "execution_count": 33,
   "metadata": {},
   "outputs": [],
   "source": [
    "filter_mapping = calculate_unique_fields(df.unique())"
   ]
  },
  {
   "cell_type": "code",
   "execution_count": 42,
   "metadata": {},
   "outputs": [],
   "source": [
    "from datetime import datetime\n",
    "all_dates = sorted(filter_mapping.get('Date'))\n",
    "all_dates = [datetime.strptime(date, \"%Y-%m-%d\") for date in all_dates]"
   ]
  },
  {
   "cell_type": "code",
   "execution_count": 47,
   "metadata": {},
   "outputs": [
    {
     "data": {
      "text/html": [
       "<div><style>\n",
       ".dataframe > thead > tr > th,\n",
       ".dataframe > tbody > tr > td {\n",
       "  text-align: right;\n",
       "}\n",
       "</style>\n",
       "<small>shape: (758070, 1)</small><table border=\"1\" class=\"dataframe\"><thead><tr><th>Name</th></tr><tr><td>str</td></tr></thead><tbody><tr><td>&quot;Alona Vladi&quot;</td></tr><tr><td>&quot;Galina Solovya…</td></tr><tr><td>&quot;Daniil Voronin…</td></tr><tr><td>&quot;Aleksey Krasov…</td></tr><tr><td>&quot;Margarita Ples…</td></tr><tr><td>&quot;Sergey Timoshe…</td></tr><tr><td>&quot;Vladimir Karav…</td></tr><tr><td>&quot;Tatyana Altuni…</td></tr><tr><td>&quot;Ruslan Gasanov…</td></tr><tr><td>&quot;Ekaterina Gluk…</td></tr><tr><td>&quot;Ruslan Gurbato…</td></tr><tr><td>&quot;Denis Balotvin…</td></tr><tr><td>&hellip;</td></tr><tr><td>&quot;Davyd Rubets&quot;</td></tr><tr><td>&quot;Kivanc Kilic&quot;</td></tr><tr><td>&quot;Khussan Artukm…</td></tr><tr><td>&quot;Sumiyabazar Ja…</td></tr><tr><td>&quot;Abed Eljabbar …</td></tr><tr><td>&quot;Sharma Gourav&quot;</td></tr><tr><td>&quot;Juliusz Rychwa…</td></tr><tr><td>&quot;Yelyzaveta Zai…</td></tr><tr><td>&quot;Natasza Rajews…</td></tr><tr><td>&quot;Virginia Mirza…</td></tr><tr><td>&quot;Janel Daffue&quot;</td></tr><tr><td>&quot;Ronald Tubinie…</td></tr></tbody></table></div>"
      ],
      "text/plain": [
       "shape: (758_070, 1)\n",
       "┌────────────────────┐\n",
       "│ Name               │\n",
       "│ ---                │\n",
       "│ str                │\n",
       "╞════════════════════╡\n",
       "│ Alona Vladi        │\n",
       "│ Galina Solovyanova │\n",
       "│ Daniil Voronin     │\n",
       "│ Aleksey Krasov     │\n",
       "│ …                  │\n",
       "│ Natasza Rajewska   │\n",
       "│ Virginia Mirza     │\n",
       "│ Janel Daffue       │\n",
       "│ Ronald Tubiniez    │\n",
       "└────────────────────┘"
      ]
     },
     "execution_count": 47,
     "metadata": {},
     "output_type": "execute_result"
    }
   ],
   "source": [
    "df.select(\"Name\").unique()"
   ]
  },
  {
   "cell_type": "code",
   "execution_count": 52,
   "metadata": {},
   "outputs": [
    {
     "data": {
      "text/html": [
       "<div><style>\n",
       ".dataframe > thead > tr > th,\n",
       ".dataframe > tbody > tr > td {\n",
       "  text-align: right;\n",
       "}\n",
       "</style>\n",
       "<small>shape: (2, 41)</small><table border=\"1\" class=\"dataframe\"><thead><tr><th>Name</th><th>Sex</th><th>Event</th><th>Equipment</th><th>Age</th><th>AgeClass</th><th>BirthYearClass</th><th>Division</th><th>BodyweightKg</th><th>WeightClassKg</th><th>Squat1Kg</th><th>Squat2Kg</th><th>Squat3Kg</th><th>Squat4Kg</th><th>Best3SquatKg</th><th>Bench1Kg</th><th>Bench2Kg</th><th>Bench3Kg</th><th>Bench4Kg</th><th>Best3BenchKg</th><th>Deadlift1Kg</th><th>Deadlift2Kg</th><th>Deadlift3Kg</th><th>Deadlift4Kg</th><th>Best3DeadliftKg</th><th>TotalKg</th><th>Place</th><th>Dots</th><th>Wilks</th><th>Glossbrenner</th><th>Goodlift</th><th>Tested</th><th>Country</th><th>State</th><th>Federation</th><th>ParentFederation</th><th>Date</th><th>MeetCountry</th><th>MeetState</th><th>MeetTown</th><th>MeetName</th></tr><tr><td>str</td><td>str</td><td>str</td><td>str</td><td>f64</td><td>str</td><td>str</td><td>str</td><td>f64</td><td>str</td><td>f64</td><td>f64</td><td>f64</td><td>f64</td><td>f64</td><td>f64</td><td>f64</td><td>f64</td><td>f64</td><td>f64</td><td>f64</td><td>f64</td><td>f64</td><td>f64</td><td>f64</td><td>f64</td><td>str</td><td>f64</td><td>f64</td><td>f64</td><td>f64</td><td>str</td><td>str</td><td>str</td><td>str</td><td>str</td><td>str</td><td>str</td><td>str</td><td>str</td><td>str</td></tr></thead><tbody><tr><td>&quot;Nam Tonthat&quot;</td><td>&quot;M&quot;</td><td>&quot;SBD&quot;</td><td>&quot;Raw&quot;</td><td>28.5</td><td>&quot;24-34&quot;</td><td>&quot;24-39&quot;</td><td>&quot;MR-O&quot;</td><td>69.9</td><td>&quot;75&quot;</td><td>-100.0</td><td>125.0</td><td>140.0</td><td>null</td><td>140.0</td><td>90.0</td><td>100.0</td><td>105.0</td><td>null</td><td>105.0</td><td>170.0</td><td>185.0</td><td>200.0</td><td>null</td><td>200.0</td><td>445.0</td><td>&quot;1&quot;</td><td>334.6</td><td>333.84</td><td>323.55</td><td>67.3</td><td>&quot;Yes&quot;</td><td>&quot;Australia&quot;</td><td>null</td><td>&quot;USAPL&quot;</td><td>null</td><td>&quot;2022-09-17&quot;</td><td>&quot;Australia&quot;</td><td>null</td><td>null</td><td>&quot;Ethos Strength…</td></tr><tr><td>&quot;Nam Tonthat&quot;</td><td>&quot;M&quot;</td><td>&quot;SBD&quot;</td><td>&quot;Raw&quot;</td><td>28.5</td><td>&quot;24-34&quot;</td><td>&quot;24-39&quot;</td><td>&quot;MR-O&quot;</td><td>66.6</td><td>&quot;67.5&quot;</td><td>130.0</td><td>140.0</td><td>147.5</td><td>null</td><td>147.5</td><td>102.5</td><td>105.0</td><td>107.5</td><td>null</td><td>107.5</td><td>190.0</td><td>202.5</td><td>207.5</td><td>null</td><td>207.5</td><td>462.5</td><td>&quot;4&quot;</td><td>359.97</td><td>360.48</td><td>350.13</td><td>71.75</td><td>&quot;Yes&quot;</td><td>&quot;Australia&quot;</td><td>null</td><td>&quot;USAPL&quot;</td><td>null</td><td>&quot;2022-12-03&quot;</td><td>&quot;Australia&quot;</td><td>&quot;VIC&quot;</td><td>null</td><td>&quot;Australia Nati…</td></tr></tbody></table></div>"
      ],
      "text/plain": [
       "shape: (2, 41)\n",
       "┌─────────────┬─────┬───────┬───────────┬───┬─────────────┬───────────┬──────────┬─────────────────┐\n",
       "│ Name        ┆ Sex ┆ Event ┆ Equipment ┆ … ┆ MeetCountry ┆ MeetState ┆ MeetTown ┆ MeetName        │\n",
       "│ ---         ┆ --- ┆ ---   ┆ ---       ┆   ┆ ---         ┆ ---       ┆ ---      ┆ ---             │\n",
       "│ str         ┆ str ┆ str   ┆ str       ┆   ┆ str         ┆ str       ┆ str      ┆ str             │\n",
       "╞═════════════╪═════╪═══════╪═══════════╪═══╪═════════════╪═══════════╪══════════╪═════════════════╡\n",
       "│ Nam Tonthat ┆ M   ┆ SBD   ┆ Raw       ┆ … ┆ Australia   ┆ null      ┆ null     ┆ Ethos Strength  │\n",
       "│             ┆     ┆       ┆           ┆   ┆             ┆           ┆          ┆ Open            │\n",
       "│ Nam Tonthat ┆ M   ┆ SBD   ┆ Raw       ┆ … ┆ Australia   ┆ VIC       ┆ null     ┆ Australia       │\n",
       "│             ┆     ┆       ┆           ┆   ┆             ┆           ┆          ┆ Nationals &     │\n",
       "│             ┆     ┆       ┆           ┆   ┆             ┆           ┆          ┆ Internatio…     │\n",
       "└─────────────┴─────┴───────┴───────────┴───┴─────────────┴───────────┴──────────┴─────────────────┘"
      ]
     },
     "execution_count": 52,
     "metadata": {},
     "output_type": "execute_result"
    }
   ],
   "source": [
    "df.filter((pl.col(\"Date\") > \"2022-05-11\") & (pl.col(\"Name\") == \"Nam Tonthat\"))"
   ]
  },
  {
   "cell_type": "code",
   "execution_count": 17,
   "metadata": {},
   "outputs": [],
   "source": [
    "users = df[\"Name\"].unique().to_list()\n",
    "users = [user for user in users if user == \"Taylor Atwood\"]"
   ]
  },
  {
   "cell_type": "code",
   "execution_count": 24,
   "metadata": {},
   "outputs": [
    {
     "data": {
      "text/html": [
       "<div><style>\n",
       ".dataframe > thead > tr > th,\n",
       ".dataframe > tbody > tr > td {\n",
       "  text-align: right;\n",
       "}\n",
       "</style>\n",
       "<small>shape: (20, 8)</small><table border=\"1\" class=\"dataframe\"><thead><tr><th>Date</th><th>Name</th><th>TotalKg</th><th>Event</th><th>Best3SquatKg</th><th>Best3BenchKg</th><th>Best3DeadliftKg</th><th>Wilks</th></tr><tr><td>str</td><td>str</td><td>f64</td><td>str</td><td>f64</td><td>f64</td><td>f64</td><td>f64</td></tr></thead><tbody><tr><td>&quot;2013-09-14&quot;</td><td>&quot;Taylor Atwood&quot;</td><td>635.0</td><td>&quot;SBD&quot;</td><td>212.5</td><td>172.5</td><td>250.0</td><td>453.11</td></tr><tr><td>&quot;2014-02-01&quot;</td><td>&quot;Taylor Atwood&quot;</td><td>645.0</td><td>&quot;SBD&quot;</td><td>215.0</td><td>170.0</td><td>260.0</td><td>462.19</td></tr><tr><td>&quot;2014-07-17&quot;</td><td>&quot;Taylor Atwood&quot;</td><td>687.5</td><td>&quot;SBD&quot;</td><td>235.0</td><td>180.0</td><td>272.5</td><td>496.92</td></tr><tr><td>&quot;2014-12-06&quot;</td><td>&quot;Taylor Atwood&quot;</td><td>700.0</td><td>&quot;SBD&quot;</td><td>250.0</td><td>185.0</td><td>265.0</td><td>493.37</td></tr><tr><td>&quot;2015-10-15&quot;</td><td>&quot;Taylor Atwood&quot;</td><td>695.0</td><td>&quot;SBD&quot;</td><td>237.5</td><td>185.0</td><td>272.5</td><td>501.86</td></tr><tr><td>&quot;2016-06-19&quot;</td><td>&quot;Taylor Atwood&quot;</td><td>722.5</td><td>&quot;SBD&quot;</td><td>255.0</td><td>190.0</td><td>277.5</td><td>521.01</td></tr><tr><td>&quot;2016-10-13&quot;</td><td>&quot;Taylor Atwood&quot;</td><td>725.0</td><td>&quot;SBD&quot;</td><td>260.0</td><td>187.5</td><td>277.5</td><td>523.52</td></tr><tr><td>&quot;2017-06-14&quot;</td><td>&quot;Taylor Atwood&quot;</td><td>733.0</td><td>&quot;SBD&quot;</td><td>265.5</td><td>185.0</td><td>282.5</td><td>528.12</td></tr><tr><td>&quot;2017-10-10&quot;</td><td>&quot;Taylor Atwood&quot;</td><td>750.0</td><td>&quot;SBD&quot;</td><td>262.5</td><td>192.5</td><td>295.0</td><td>542.2</td></tr><tr><td>&quot;2018-03-03&quot;</td><td>&quot;Taylor Atwood&quot;</td><td>782.5</td><td>&quot;SBD&quot;</td><td>280.0</td><td>192.5</td><td>310.0</td><td>554.01</td></tr><tr><td>&quot;2018-06-06&quot;</td><td>&quot;Taylor Atwood&quot;</td><td>758.0</td><td>&quot;SBD&quot;</td><td>275.5</td><td>190.0</td><td>292.5</td><td>546.4</td></tr><tr><td>&quot;2018-10-11&quot;</td><td>&quot;Taylor Atwood&quot;</td><td>775.5</td><td>&quot;SBD&quot;</td><td>277.5</td><td>193.0</td><td>305.0</td><td>558.9</td></tr><tr><td>&quot;2019-06-04&quot;</td><td>&quot;Taylor Atwood&quot;</td><td>790.5</td><td>&quot;SBD&quot;</td><td>283.0</td><td>195.0</td><td>312.5</td><td>569.99</td></tr><tr><td>&quot;2019-10-16&quot;</td><td>&quot;Taylor Atwood&quot;</td><td>787.5</td><td>&quot;SBD&quot;</td><td>285.0</td><td>195.0</td><td>307.5</td><td>569.37</td></tr><tr><td>&quot;2020-03-14&quot;</td><td>&quot;Taylor Atwood&quot;</td><td>770.0</td><td>&quot;SBD&quot;</td><td>272.5</td><td>197.5</td><td>300.0</td><td>543.68</td></tr><tr><td>&quot;2020-10-18&quot;</td><td>&quot;Taylor Atwood&quot;</td><td>812.0</td><td>&quot;SBD&quot;</td><td>293.0</td><td>199.0</td><td>320.0</td><td>585.66</td></tr><tr><td>&quot;2021-06-14&quot;</td><td>&quot;Taylor Atwood&quot;</td><td>838.5</td><td>&quot;SBD&quot;</td><td>303.0</td><td>195.0</td><td>340.5</td><td>605.3</td></tr><tr><td>&quot;2022-04-01&quot;</td><td>&quot;Taylor Atwood&quot;</td><td>732.5</td><td>&quot;SBD&quot;</td><td>255.0</td><td>202.5</td><td>275.0</td><td>528.32</td></tr><tr><td>&quot;2022-06-06&quot;</td><td>&quot;Taylor Atwood&quot;</td><td>790.0</td><td>&quot;SBD&quot;</td><td>277.5</td><td>197.5</td><td>315.0</td><td>570.73</td></tr><tr><td>&quot;2023-03-25&quot;</td><td>&quot;Taylor Atwood&quot;</td><td>777.5</td><td>&quot;SBD&quot;</td><td>270.0</td><td>197.5</td><td>310.0</td><td>559.8</td></tr></tbody></table></div>"
      ],
      "text/plain": [
       "shape: (20, 8)\n",
       "┌────────────┬────────┬─────────┬───────┬────────────┬──────────────┬─────────────────┬────────┐\n",
       "│ Date       ┆ Name   ┆ TotalKg ┆ Event ┆ Best3Squat ┆ Best3BenchKg ┆ Best3DeadliftKg ┆ Wilks  │\n",
       "│ ---        ┆ ---    ┆ ---     ┆ ---   ┆ Kg         ┆ ---          ┆ ---             ┆ ---    │\n",
       "│ str        ┆ str    ┆ f64     ┆ str   ┆ ---        ┆ f64          ┆ f64             ┆ f64    │\n",
       "│            ┆        ┆         ┆       ┆ f64        ┆              ┆                 ┆        │\n",
       "╞════════════╪════════╪═════════╪═══════╪════════════╪══════════════╪═════════════════╪════════╡\n",
       "│ 2013-09-14 ┆ Taylor ┆ 635.0   ┆ SBD   ┆ 212.5      ┆ 172.5        ┆ 250.0           ┆ 453.11 │\n",
       "│            ┆ Atwood ┆         ┆       ┆            ┆              ┆                 ┆        │\n",
       "│ 2014-02-01 ┆ Taylor ┆ 645.0   ┆ SBD   ┆ 215.0      ┆ 170.0        ┆ 260.0           ┆ 462.19 │\n",
       "│            ┆ Atwood ┆         ┆       ┆            ┆              ┆                 ┆        │\n",
       "│ 2014-07-17 ┆ Taylor ┆ 687.5   ┆ SBD   ┆ 235.0      ┆ 180.0        ┆ 272.5           ┆ 496.92 │\n",
       "│            ┆ Atwood ┆         ┆       ┆            ┆              ┆                 ┆        │\n",
       "│ 2014-12-06 ┆ Taylor ┆ 700.0   ┆ SBD   ┆ 250.0      ┆ 185.0        ┆ 265.0           ┆ 493.37 │\n",
       "│            ┆ Atwood ┆         ┆       ┆            ┆              ┆                 ┆        │\n",
       "│ …          ┆ …      ┆ …       ┆ …     ┆ …          ┆ …            ┆ …               ┆ …      │\n",
       "│ 2021-06-14 ┆ Taylor ┆ 838.5   ┆ SBD   ┆ 303.0      ┆ 195.0        ┆ 340.5           ┆ 605.3  │\n",
       "│            ┆ Atwood ┆         ┆       ┆            ┆              ┆                 ┆        │\n",
       "│ 2022-04-01 ┆ Taylor ┆ 732.5   ┆ SBD   ┆ 255.0      ┆ 202.5        ┆ 275.0           ┆ 528.32 │\n",
       "│            ┆ Atwood ┆         ┆       ┆            ┆              ┆                 ┆        │\n",
       "│ 2022-06-06 ┆ Taylor ┆ 790.0   ┆ SBD   ┆ 277.5      ┆ 197.5        ┆ 315.0           ┆ 570.73 │\n",
       "│            ┆ Atwood ┆         ┆       ┆            ┆              ┆                 ┆        │\n",
       "│ 2023-03-25 ┆ Taylor ┆ 777.5   ┆ SBD   ┆ 270.0      ┆ 197.5        ┆ 310.0           ┆ 559.8  │\n",
       "│            ┆ Atwood ┆         ┆       ┆            ┆              ┆                 ┆        │\n",
       "└────────────┴────────┴─────────┴───────┴────────────┴──────────────┴─────────────────┴────────┘"
      ]
     },
     "execution_count": 24,
     "metadata": {},
     "output_type": "execute_result"
    }
   ],
   "source": [
    "user_df = df.select(\n",
    "    pl.col(['Date', 'Name', \"TotalKg\", \"Event\", \"Best3SquatKg\", \"Best3BenchKg\", \"Best3DeadliftKg\", \"Wilks\"])\n",
    ").filter(\n",
    "    pl.col('Name').is_in(users)\n",
    ").sort(by=\"Date\").drop_nulls()\n",
    "\n",
    "user_df"
   ]
  },
  {
   "cell_type": "code",
   "execution_count": 25,
   "metadata": {},
   "outputs": [],
   "source": [
    "\n",
    "# unpivot data for graphing\n",
    "sbd_df = user_df.melt(\n",
    "    id_vars= [\"Date\", \"Name\", \"Event\"],\n",
    "    variable_name=\"Lift\",\n",
    "    value_vars=[\"Best3SquatKg\", \"Best3BenchKg\", \"Best3DeadliftKg\"],\n",
    "    value_name=\"Weight\"\n",
    ").to_pandas()\n",
    "\n",
    "wilks_df = user_df.select(\n",
    "    pl.col([\"Date\", \"Name\", \"Wilks\"])\n",
    ").to_pandas()"
   ]
  },
  {
   "cell_type": "code",
   "execution_count": 26,
   "metadata": {},
   "outputs": [
    {
     "data": {
      "text/html": [
       "<div>\n",
       "<style scoped>\n",
       "    .dataframe tbody tr th:only-of-type {\n",
       "        vertical-align: middle;\n",
       "    }\n",
       "\n",
       "    .dataframe tbody tr th {\n",
       "        vertical-align: top;\n",
       "    }\n",
       "\n",
       "    .dataframe thead th {\n",
       "        text-align: right;\n",
       "    }\n",
       "</style>\n",
       "<table border=\"1\" class=\"dataframe\">\n",
       "  <thead>\n",
       "    <tr style=\"text-align: right;\">\n",
       "      <th></th>\n",
       "      <th>Date</th>\n",
       "      <th>Name</th>\n",
       "      <th>Wilks</th>\n",
       "    </tr>\n",
       "  </thead>\n",
       "  <tbody>\n",
       "    <tr>\n",
       "      <th>0</th>\n",
       "      <td>2013-09-14</td>\n",
       "      <td>Taylor Atwood</td>\n",
       "      <td>453.11</td>\n",
       "    </tr>\n",
       "    <tr>\n",
       "      <th>1</th>\n",
       "      <td>2014-02-01</td>\n",
       "      <td>Taylor Atwood</td>\n",
       "      <td>462.19</td>\n",
       "    </tr>\n",
       "    <tr>\n",
       "      <th>2</th>\n",
       "      <td>2014-07-17</td>\n",
       "      <td>Taylor Atwood</td>\n",
       "      <td>496.92</td>\n",
       "    </tr>\n",
       "    <tr>\n",
       "      <th>3</th>\n",
       "      <td>2014-12-06</td>\n",
       "      <td>Taylor Atwood</td>\n",
       "      <td>493.37</td>\n",
       "    </tr>\n",
       "    <tr>\n",
       "      <th>4</th>\n",
       "      <td>2015-10-15</td>\n",
       "      <td>Taylor Atwood</td>\n",
       "      <td>501.86</td>\n",
       "    </tr>\n",
       "    <tr>\n",
       "      <th>5</th>\n",
       "      <td>2016-06-19</td>\n",
       "      <td>Taylor Atwood</td>\n",
       "      <td>521.01</td>\n",
       "    </tr>\n",
       "    <tr>\n",
       "      <th>6</th>\n",
       "      <td>2016-10-13</td>\n",
       "      <td>Taylor Atwood</td>\n",
       "      <td>523.52</td>\n",
       "    </tr>\n",
       "    <tr>\n",
       "      <th>7</th>\n",
       "      <td>2017-06-14</td>\n",
       "      <td>Taylor Atwood</td>\n",
       "      <td>528.12</td>\n",
       "    </tr>\n",
       "    <tr>\n",
       "      <th>8</th>\n",
       "      <td>2017-10-10</td>\n",
       "      <td>Taylor Atwood</td>\n",
       "      <td>542.20</td>\n",
       "    </tr>\n",
       "    <tr>\n",
       "      <th>9</th>\n",
       "      <td>2018-03-03</td>\n",
       "      <td>Taylor Atwood</td>\n",
       "      <td>554.01</td>\n",
       "    </tr>\n",
       "    <tr>\n",
       "      <th>10</th>\n",
       "      <td>2018-06-06</td>\n",
       "      <td>Taylor Atwood</td>\n",
       "      <td>546.40</td>\n",
       "    </tr>\n",
       "    <tr>\n",
       "      <th>11</th>\n",
       "      <td>2018-10-11</td>\n",
       "      <td>Taylor Atwood</td>\n",
       "      <td>558.90</td>\n",
       "    </tr>\n",
       "    <tr>\n",
       "      <th>12</th>\n",
       "      <td>2019-06-04</td>\n",
       "      <td>Taylor Atwood</td>\n",
       "      <td>569.99</td>\n",
       "    </tr>\n",
       "    <tr>\n",
       "      <th>13</th>\n",
       "      <td>2019-10-16</td>\n",
       "      <td>Taylor Atwood</td>\n",
       "      <td>569.37</td>\n",
       "    </tr>\n",
       "    <tr>\n",
       "      <th>14</th>\n",
       "      <td>2020-03-14</td>\n",
       "      <td>Taylor Atwood</td>\n",
       "      <td>543.68</td>\n",
       "    </tr>\n",
       "    <tr>\n",
       "      <th>15</th>\n",
       "      <td>2020-10-18</td>\n",
       "      <td>Taylor Atwood</td>\n",
       "      <td>585.66</td>\n",
       "    </tr>\n",
       "    <tr>\n",
       "      <th>16</th>\n",
       "      <td>2021-06-14</td>\n",
       "      <td>Taylor Atwood</td>\n",
       "      <td>605.30</td>\n",
       "    </tr>\n",
       "    <tr>\n",
       "      <th>17</th>\n",
       "      <td>2022-04-01</td>\n",
       "      <td>Taylor Atwood</td>\n",
       "      <td>528.32</td>\n",
       "    </tr>\n",
       "    <tr>\n",
       "      <th>18</th>\n",
       "      <td>2022-06-06</td>\n",
       "      <td>Taylor Atwood</td>\n",
       "      <td>570.73</td>\n",
       "    </tr>\n",
       "    <tr>\n",
       "      <th>19</th>\n",
       "      <td>2023-03-25</td>\n",
       "      <td>Taylor Atwood</td>\n",
       "      <td>559.80</td>\n",
       "    </tr>\n",
       "  </tbody>\n",
       "</table>\n",
       "</div>"
      ],
      "text/plain": [
       "          Date           Name   Wilks\n",
       "0   2013-09-14  Taylor Atwood  453.11\n",
       "1   2014-02-01  Taylor Atwood  462.19\n",
       "2   2014-07-17  Taylor Atwood  496.92\n",
       "3   2014-12-06  Taylor Atwood  493.37\n",
       "4   2015-10-15  Taylor Atwood  501.86\n",
       "5   2016-06-19  Taylor Atwood  521.01\n",
       "6   2016-10-13  Taylor Atwood  523.52\n",
       "7   2017-06-14  Taylor Atwood  528.12\n",
       "8   2017-10-10  Taylor Atwood  542.20\n",
       "9   2018-03-03  Taylor Atwood  554.01\n",
       "10  2018-06-06  Taylor Atwood  546.40\n",
       "11  2018-10-11  Taylor Atwood  558.90\n",
       "12  2019-06-04  Taylor Atwood  569.99\n",
       "13  2019-10-16  Taylor Atwood  569.37\n",
       "14  2020-03-14  Taylor Atwood  543.68\n",
       "15  2020-10-18  Taylor Atwood  585.66\n",
       "16  2021-06-14  Taylor Atwood  605.30\n",
       "17  2022-04-01  Taylor Atwood  528.32\n",
       "18  2022-06-06  Taylor Atwood  570.73\n",
       "19  2023-03-25  Taylor Atwood  559.80"
      ]
     },
     "execution_count": 26,
     "metadata": {},
     "output_type": "execute_result"
    }
   ],
   "source": [
    "wilks_df"
   ]
  },
  {
   "cell_type": "code",
   "execution_count": 4,
   "metadata": {},
   "outputs": [],
   "source": [
    "schema = {'Name': pl.Utf8,\n",
    " 'Sex': pl.Utf8,\n",
    " 'Event': pl.Utf8,\n",
    " 'Equipment': pl.Utf8,\n",
    " 'Age': pl.Float64,\n",
    " 'AgeClass': pl.Utf8,\n",
    " 'BirthYearClass': pl.Utf8,\n",
    " 'Division': pl.Utf8,\n",
    " 'BodyweightKg': pl.Float64,\n",
    " 'WeightClassKg': pl.Utf8,\n",
    " 'Squat1Kg': pl.Float64,\n",
    " 'Squat2Kg': pl.Float64,\n",
    " 'Squat3Kg': pl.Float64,\n",
    " 'Squat4Kg': pl.Float64,\n",
    " 'Best3SquatKg': pl.Float64,\n",
    " 'Bench1Kg': pl.Float64,\n",
    " 'Bench2Kg': pl.Float64,\n",
    " 'Bench3Kg': pl.Float64,\n",
    " 'Bench4Kg': pl.Float64,\n",
    " 'Best3BenchKg': pl.Float64,\n",
    " 'Deadlift1Kg': pl.Float64,\n",
    " 'Deadlift2Kg': pl.Float64,\n",
    " 'Deadlift3Kg': pl.Float64,\n",
    " 'Deadlift4Kg': pl.Float64,\n",
    " 'Best3DeadliftKg': pl.Float64,\n",
    " 'TotalKg': pl.Float64,\n",
    " 'Place': pl.Utf8,\n",
    " 'Dots': pl.Float64,\n",
    " 'Wilks': pl.Float64,\n",
    " 'Glossbrenner': pl.Float64,\n",
    " 'Goodlift': pl.Float64,\n",
    " 'Tested': pl.Utf8,\n",
    " 'Country': pl.Utf8,\n",
    " 'State': pl.Utf8,\n",
    " 'Federation': pl.Utf8,\n",
    " 'ParentFederation': pl.Utf8,\n",
    " 'Date': pl.Utf8,\n",
    " 'MeetCountry': pl.Utf8,\n",
    " 'MeetState': pl.Utf8,\n",
    " 'MeetTown': pl.Utf8,\n",
    " 'MeetName': pl.Utf8}"
   ]
  },
  {
   "cell_type": "code",
   "execution_count": 21,
   "metadata": {},
   "outputs": [],
   "source": [
    "data=pl.read_csv('data/openipf-2023-03-18/openipf-2023-03-18-16bd0ed1.csv', infer_schema_length=None)\n",
    "\n",
    "op_data = pl.read_csv('data/openpowerlifting-2023-03-18/openpowerlifting-2023-03-18-16bd0ed1.csv', infer_schema_length=None)"
   ]
  },
  {
   "cell_type": "code",
   "execution_count": 22,
   "metadata": {},
   "outputs": [],
   "source": [
    "op_data.write_parquet('data/openpowerlifting-2023-03-18/openpowerlifting-2023-03-18-16bd0ed1.parquet')"
   ]
  },
  {
   "cell_type": "code",
   "execution_count": 23,
   "metadata": {},
   "outputs": [],
   "source": [
    "op_data = pl.read_parquet('data/openpowerlifting-2023-03-18/openpowerlifting-2023-03-18-16bd0ed1.parquet')"
   ]
  },
  {
   "cell_type": "code",
   "execution_count": 39,
   "metadata": {},
   "outputs": [],
   "source": [
    "op_cols = [\n",
    "    \"Name\",\n",
    "    \"Sex\",\n",
    "    \"Event\",\n",
    "    \"Date\",\n",
    "    \"MeetCountry\",\n",
    "    \"MeetState\",\n",
    "    \"Equipment\",\n",
    "    \"Best3SquatKg\",\n",
    "    \"Best3BenchKg\",\n",
    "    \"Best3DeadliftKg\", \n",
    "    \"TotalKg\",\n",
    "    \"Wilks\",\n",
    "    \"Tested\",\n",
    "    \"Federation\"\n",
    "]"
   ]
  },
  {
   "cell_type": "code",
   "execution_count": 41,
   "metadata": {},
   "outputs": [],
   "source": [
    "filtered_data = op_data.filter(pl.col('Name') == \"Nam Tonthat\").select(op_cols)"
   ]
  },
  {
   "cell_type": "code",
   "execution_count": 43,
   "metadata": {},
   "outputs": [
    {
     "data": {
      "text/html": [
       "<div><style>\n",
       ".dataframe > thead > tr > th,\n",
       ".dataframe > tbody > tr > td {\n",
       "  text-align: right;\n",
       "}\n",
       "</style>\n",
       "<small>shape: (3, 14)</small><table border=\"1\" class=\"dataframe\"><thead><tr><th>Name</th><th>Sex</th><th>Event</th><th>Date</th><th>MeetCountry</th><th>MeetState</th><th>Equipment</th><th>Best3SquatKg</th><th>Best3BenchKg</th><th>Best3DeadliftKg</th><th>TotalKg</th><th>Wilks</th><th>Tested</th><th>Federation</th></tr><tr><td>str</td><td>str</td><td>str</td><td>str</td><td>str</td><td>str</td><td>str</td><td>f64</td><td>f64</td><td>f64</td><td>f64</td><td>f64</td><td>str</td><td>str</td></tr></thead><tbody><tr><td>&quot;Nam Tonthat&quot;</td><td>&quot;M&quot;</td><td>&quot;SBD&quot;</td><td>&quot;2022-09-17&quot;</td><td>&quot;Australia&quot;</td><td>null</td><td>&quot;Raw&quot;</td><td>140.0</td><td>105.0</td><td>200.0</td><td>445.0</td><td>333.84</td><td>&quot;Yes&quot;</td><td>&quot;USAPL&quot;</td></tr><tr><td>&quot;Nam Tonthat&quot;</td><td>&quot;M&quot;</td><td>&quot;SBD&quot;</td><td>&quot;2022-12-03&quot;</td><td>&quot;Australia&quot;</td><td>&quot;VIC&quot;</td><td>&quot;Raw&quot;</td><td>147.5</td><td>107.5</td><td>207.5</td><td>462.5</td><td>360.48</td><td>&quot;Yes&quot;</td><td>&quot;USAPL&quot;</td></tr><tr><td>&quot;Nam Tonthat&quot;</td><td>&quot;M&quot;</td><td>&quot;SBD&quot;</td><td>&quot;2021-04-11&quot;</td><td>&quot;Australia&quot;</td><td>&quot;VIC&quot;</td><td>&quot;Raw&quot;</td><td>140.0</td><td>103.0</td><td>190.0</td><td>433.0</td><td>334.25</td><td>&quot;Yes&quot;</td><td>&quot;PA&quot;</td></tr></tbody></table></div>"
      ],
      "text/plain": [
       "shape: (3, 14)\n",
       "┌─────────────┬─────┬───────┬────────────┬───┬─────────┬────────┬────────┬────────────┐\n",
       "│ Name        ┆ Sex ┆ Event ┆ Date       ┆ … ┆ TotalKg ┆ Wilks  ┆ Tested ┆ Federation │\n",
       "│ ---         ┆ --- ┆ ---   ┆ ---        ┆   ┆ ---     ┆ ---    ┆ ---    ┆ ---        │\n",
       "│ str         ┆ str ┆ str   ┆ str        ┆   ┆ f64     ┆ f64    ┆ str    ┆ str        │\n",
       "╞═════════════╪═════╪═══════╪════════════╪═══╪═════════╪════════╪════════╪════════════╡\n",
       "│ Nam Tonthat ┆ M   ┆ SBD   ┆ 2022-09-17 ┆ … ┆ 445.0   ┆ 333.84 ┆ Yes    ┆ USAPL      │\n",
       "│ Nam Tonthat ┆ M   ┆ SBD   ┆ 2022-12-03 ┆ … ┆ 462.5   ┆ 360.48 ┆ Yes    ┆ USAPL      │\n",
       "│ Nam Tonthat ┆ M   ┆ SBD   ┆ 2021-04-11 ┆ … ┆ 433.0   ┆ 334.25 ┆ Yes    ┆ PA         │\n",
       "└─────────────┴─────┴───────┴────────────┴───┴─────────┴────────┴────────┴────────────┘"
      ]
     },
     "execution_count": 43,
     "metadata": {},
     "output_type": "execute_result"
    }
   ],
   "source": [
    "filtered_data"
   ]
  },
  {
   "cell_type": "code",
   "execution_count": null,
   "metadata": {},
   "outputs": [],
   "source": []
  }
 ],
 "metadata": {
  "kernelspec": {
   "display_name": "powerlifting-ml-progress",
   "language": "python",
   "name": "powerlifting-ml-progress"
  },
  "language_info": {
   "codemirror_mode": {
    "name": "ipython",
    "version": 3
   },
   "file_extension": ".py",
   "mimetype": "text/x-python",
   "name": "python",
   "nbconvert_exporter": "python",
   "pygments_lexer": "ipython3",
   "version": "3.11.1"
  },
  "orig_nbformat": 4
 },
 "nbformat": 4,
 "nbformat_minor": 2
}
