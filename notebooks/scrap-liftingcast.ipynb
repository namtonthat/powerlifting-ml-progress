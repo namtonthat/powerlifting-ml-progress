{
 "cells": [
  {
   "cell_type": "code",
   "execution_count": 12,
   "metadata": {},
   "outputs": [],
   "source": [
    "# read configs\n",
    "import sys\n",
    "from pathlib import Path\n",
    "\n",
    "sys.path.append(str(Path().resolve().parent))\n",
    "from steps import conf\n",
    "\n",
    "data_url = \"https://liftingcast.com/meets/mvcjgjxtrlxi/results\""
   ]
  },
  {
   "cell_type": "code",
   "execution_count": 3,
   "metadata": {},
   "outputs": [],
   "source": [
    "import polars as pl"
   ]
  },
  {
   "cell_type": "code",
   "execution_count": 13,
   "metadata": {},
   "outputs": [],
   "source": [
    "reference_tables = \"../reference-tables/usa-power-lifting-australia-tsf-team-champs-at-the-fort-2024.opl.csv\"\n",
    "\n",
    "df = pl.read_csv(reference_tables, skip_rows=5)"
   ]
  },
  {
   "cell_type": "code",
   "execution_count": 15,
   "metadata": {},
   "outputs": [],
   "source": [
    "renamed_columns = {column: conf.camel_to_snake(column) for column in df.columns}"
   ]
  },
  {
   "cell_type": "code",
   "execution_count": 16,
   "metadata": {},
   "outputs": [],
   "source": [
    "team_champ_df = df.rename(mapping=renamed_columns)"
   ]
  },
  {
   "cell_type": "code",
   "execution_count": 24,
   "metadata": {},
   "outputs": [
    {
     "name": "stdout",
     "output_type": "stream",
     "text": [
      "Rows: 86\n",
      "Columns: 3\n",
      "$ name            <str> 'Natasha Viselka', 'Vinning Mak', 'Aikaterini Chorianopoulou', 'Carol Chew', 'Thuy Vy Pham', 'Claudia Coppola', 'Lina Tran', 'Kiara Sala', 'Bernadette Mammone', 'Megan Tsai'\n",
      "$ birth_year      <str> '1995', '1995', '', '1978', '2000', '1995', '1999', '', '1985', '2000'\n",
      "$ weight_class_kg <str> '48', '52', '52', '56', '56', '56', '56', '60', '60', '60'\n",
      "\n"
     ]
    }
   ],
   "source": [
    "team_champ_df.select([\"name\", \"birth_year\", \"weight_class_kg\"]).glimpse()"
   ]
  },
  {
   "cell_type": "code",
   "execution_count": 19,
   "metadata": {},
   "outputs": [],
   "source": [
    "raw_file_path = \"../data/raw/openpowerlifting-latest.parquet\"\n",
    "raw_df = pl.read_parquet(raw_file_path)"
   ]
  },
  {
   "cell_type": "code",
   "execution_count": 31,
   "metadata": {},
   "outputs": [
    {
     "name": "stderr",
     "output_type": "stream",
     "text": [
      "/var/folders/k8/wkzv3jzs2_1flxr71zn08mmh0000gq/T/ipykernel_97380/3516695818.py:1: DeprecationWarning: `groupby` is deprecated. It has been renamed to `group_by`.\n",
      "  raw_df.filter(pl.col(\"name\") == \"Natasha Viselka\").groupby(\"weight_class_kg\").agg(pl.max(\"total_kg\"))\n"
     ]
    },
    {
     "data": {
      "text/html": [
       "<div><style>\n",
       ".dataframe > thead > tr,\n",
       ".dataframe > tbody > tr {\n",
       "  text-align: right;\n",
       "  white-space: pre-wrap;\n",
       "}\n",
       "</style>\n",
       "<small>shape: (2, 2)</small><table border=\"1\" class=\"dataframe\"><thead><tr><th>weight_class_kg</th><th>total_kg</th></tr><tr><td>str</td><td>f64</td></tr></thead><tbody><tr><td>&quot;47&quot;</td><td>272.5</td></tr><tr><td>&quot;48&quot;</td><td>317.5</td></tr></tbody></table></div>"
      ],
      "text/plain": [
       "shape: (2, 2)\n",
       "┌─────────────────┬──────────┐\n",
       "│ weight_class_kg ┆ total_kg │\n",
       "│ ---             ┆ ---      │\n",
       "│ str             ┆ f64      │\n",
       "╞═════════════════╪══════════╡\n",
       "│ 47              ┆ 272.5    │\n",
       "│ 48              ┆ 317.5    │\n",
       "└─────────────────┴──────────┘"
      ]
     },
     "execution_count": 31,
     "metadata": {},
     "output_type": "execute_result"
    }
   ],
   "source": [
    "raw_df.filter(pl.col(\"name\") == \"Natasha Viselka\").groupby(\"weight_class_kg\").agg(pl.max(\"total_kg\"))"
   ]
  },
  {
   "cell_type": "code",
   "execution_count": null,
   "metadata": {},
   "outputs": [],
   "source": []
  }
 ],
 "metadata": {
  "kernelspec": {
   "display_name": "powerlifting-ml-progress-3.11.6",
   "language": "python",
   "name": "python3"
  },
  "language_info": {
   "codemirror_mode": {
    "name": "ipython",
    "version": 3
   },
   "file_extension": ".py",
   "mimetype": "text/x-python",
   "name": "python",
   "nbconvert_exporter": "python",
   "pygments_lexer": "ipython3",
   "version": "3.11.6"
  }
 },
 "nbformat": 4,
 "nbformat_minor": 2
}
