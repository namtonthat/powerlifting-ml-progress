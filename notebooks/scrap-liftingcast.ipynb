{
 "cells": [
  {
   "cell_type": "code",
   "execution_count": 1,
   "metadata": {},
   "outputs": [],
   "source": [
    "# read configs\n",
    "import sys\n",
    "from pathlib import Path\n",
    "\n",
    "sys.path.append(str(Path().resolve().parent))\n",
    "from steps import conf\n",
    "\n",
    "data_url = \"https://liftingcast.com/meets/mvcjgjxtrlxi/results\""
   ]
  },
  {
   "cell_type": "code",
   "execution_count": 3,
   "metadata": {},
   "outputs": [],
   "source": [
    "import polars as pl"
   ]
  },
  {
   "cell_type": "code",
   "execution_count": 8,
   "metadata": {},
   "outputs": [],
   "source": [
    "reference_tables = \"../reference-tables/usa-power-lifting-australia-tsf-team-champs-at-the-fort-2024.opl.csv\"\n",
    "\n",
    "df = pl.read_csv(reference_tables, skip_rows=5)"
   ]
  },
  {
   "cell_type": "code",
   "execution_count": 11,
   "metadata": {},
   "outputs": [
    {
     "data": {
      "text/html": [
       "<div><style>\n",
       ".dataframe > thead > tr,\n",
       ".dataframe > tbody > tr {\n",
       "  text-align: right;\n",
       "  white-space: pre-wrap;\n",
       "}\n",
       "</style>\n",
       "<small>shape: (86, 26)</small><table border=\"1\" class=\"dataframe\"><thead><tr><th>Place</th><th>Name</th><th>BirthDate</th><th>Sex</th><th>BirthYear</th><th>Age</th><th>Country</th><th>State</th><th>Equipment</th><th>Division</th><th>BodyweightKg</th><th>WeightClassKg</th><th>Squat1Kg</th><th>Squat2Kg</th><th>Squat3Kg</th><th>Best3SquatKg</th><th>Bench1Kg</th><th>Bench2Kg</th><th>Bench3Kg</th><th>Best3BenchKg</th><th>Deadlift1Kg</th><th>Deadlift2Kg</th><th>Deadlift3Kg</th><th>Best3DeadliftKg</th><th>TotalKg</th><th>Event</th></tr><tr><td>str</td><td>str</td><td>str</td><td>str</td><td>str</td><td>i64</td><td>str</td><td>str</td><td>str</td><td>str</td><td>str</td><td>str</td><td>str</td><td>str</td><td>str</td><td>str</td><td>str</td><td>str</td><td>str</td><td>str</td><td>str</td><td>str</td><td>str</td><td>str</td><td>str</td><td>str</td></tr></thead><tbody><tr><td>&quot;DQ&quot;</td><td>&quot;Natasha Viselk…</td><td>&quot;&quot;</td><td>&quot;F&quot;</td><td>&quot;1995&quot;</td><td>28</td><td>&quot;&quot;</td><td>null</td><td>&quot;Raw&quot;</td><td>&quot;Women&#x27;s Raw Op…</td><td>null</td><td>&quot;48&quot;</td><td>&quot;&quot;</td><td>&quot;&quot;</td><td>&quot;&quot;</td><td>&quot;&quot;</td><td>&quot;&quot;</td><td>&quot;&quot;</td><td>&quot;&quot;</td><td>&quot;&quot;</td><td>&quot;&quot;</td><td>&quot;&quot;</td><td>&quot;&quot;</td><td>&quot;&quot;</td><td>&quot;&quot;</td><td>&quot;SBD&quot;</td></tr><tr><td>&quot;DQ&quot;</td><td>&quot;Vinning Mak&quot;</td><td>&quot;&quot;</td><td>&quot;F&quot;</td><td>&quot;1995&quot;</td><td>29</td><td>&quot;&quot;</td><td>null</td><td>&quot;Raw&quot;</td><td>&quot;Women&#x27;s Raw Op…</td><td>null</td><td>&quot;52&quot;</td><td>&quot;&quot;</td><td>&quot;&quot;</td><td>&quot;&quot;</td><td>&quot;&quot;</td><td>&quot;&quot;</td><td>&quot;&quot;</td><td>&quot;&quot;</td><td>&quot;&quot;</td><td>&quot;&quot;</td><td>&quot;&quot;</td><td>&quot;&quot;</td><td>&quot;&quot;</td><td>&quot;&quot;</td><td>&quot;SBD&quot;</td></tr><tr><td>&quot;DQ&quot;</td><td>&quot;Aikaterini Cho…</td><td>&quot;&quot;</td><td>&quot;F&quot;</td><td>&quot;&quot;</td><td>null</td><td>&quot;&quot;</td><td>null</td><td>&quot;Raw&quot;</td><td>&quot;Women&#x27;s Raw Op…</td><td>null</td><td>&quot;52&quot;</td><td>&quot;&quot;</td><td>&quot;&quot;</td><td>&quot;&quot;</td><td>&quot;&quot;</td><td>&quot;&quot;</td><td>&quot;&quot;</td><td>&quot;&quot;</td><td>&quot;&quot;</td><td>&quot;&quot;</td><td>&quot;&quot;</td><td>&quot;&quot;</td><td>&quot;&quot;</td><td>&quot;&quot;</td><td>&quot;SBD&quot;</td></tr><tr><td>&quot;DQ&quot;</td><td>&quot;Carol Chew&quot;</td><td>&quot;&quot;</td><td>&quot;F&quot;</td><td>&quot;1978&quot;</td><td>45</td><td>&quot;&quot;</td><td>null</td><td>&quot;Raw&quot;</td><td>&quot;Women&#x27;s Raw Op…</td><td>null</td><td>&quot;56&quot;</td><td>&quot;&quot;</td><td>&quot;&quot;</td><td>&quot;&quot;</td><td>&quot;&quot;</td><td>&quot;&quot;</td><td>&quot;&quot;</td><td>&quot;&quot;</td><td>&quot;&quot;</td><td>&quot;&quot;</td><td>&quot;&quot;</td><td>&quot;&quot;</td><td>&quot;&quot;</td><td>&quot;&quot;</td><td>&quot;SBD&quot;</td></tr><tr><td>&quot;DQ&quot;</td><td>&quot;Thuy Vy Pham&quot;</td><td>&quot;&quot;</td><td>&quot;F&quot;</td><td>&quot;2000&quot;</td><td>23</td><td>&quot;&quot;</td><td>null</td><td>&quot;Raw&quot;</td><td>&quot;Women&#x27;s Raw Op…</td><td>null</td><td>&quot;56&quot;</td><td>&quot;&quot;</td><td>&quot;&quot;</td><td>&quot;&quot;</td><td>&quot;&quot;</td><td>&quot;&quot;</td><td>&quot;&quot;</td><td>&quot;&quot;</td><td>&quot;&quot;</td><td>&quot;&quot;</td><td>&quot;&quot;</td><td>&quot;&quot;</td><td>&quot;&quot;</td><td>&quot;&quot;</td><td>&quot;SBD&quot;</td></tr><tr><td>&quot;DQ&quot;</td><td>&quot;Claudia Coppol…</td><td>&quot;&quot;</td><td>&quot;F&quot;</td><td>&quot;1995&quot;</td><td>28</td><td>&quot;&quot;</td><td>null</td><td>&quot;Raw&quot;</td><td>&quot;Women&#x27;s Raw Op…</td><td>null</td><td>&quot;56&quot;</td><td>&quot;&quot;</td><td>&quot;&quot;</td><td>&quot;&quot;</td><td>&quot;&quot;</td><td>&quot;&quot;</td><td>&quot;&quot;</td><td>&quot;&quot;</td><td>&quot;&quot;</td><td>&quot;&quot;</td><td>&quot;&quot;</td><td>&quot;&quot;</td><td>&quot;&quot;</td><td>&quot;&quot;</td><td>&quot;SBD&quot;</td></tr><tr><td>&quot;DQ&quot;</td><td>&quot;Lina Tran&quot;</td><td>&quot;&quot;</td><td>&quot;F&quot;</td><td>&quot;1999&quot;</td><td>25</td><td>&quot;&quot;</td><td>null</td><td>&quot;Raw&quot;</td><td>&quot;Women&#x27;s Raw Op…</td><td>null</td><td>&quot;56&quot;</td><td>&quot;&quot;</td><td>&quot;&quot;</td><td>&quot;&quot;</td><td>&quot;&quot;</td><td>&quot;&quot;</td><td>&quot;&quot;</td><td>&quot;&quot;</td><td>&quot;&quot;</td><td>&quot;&quot;</td><td>&quot;&quot;</td><td>&quot;&quot;</td><td>&quot;&quot;</td><td>&quot;&quot;</td><td>&quot;SBD&quot;</td></tr><tr><td>&quot;DQ&quot;</td><td>&quot;Kiara Sala&quot;</td><td>&quot;&quot;</td><td>&quot;F&quot;</td><td>&quot;&quot;</td><td>null</td><td>&quot;&quot;</td><td>null</td><td>&quot;Raw&quot;</td><td>&quot;Women&#x27;s Raw Op…</td><td>null</td><td>&quot;60&quot;</td><td>&quot;&quot;</td><td>&quot;&quot;</td><td>&quot;&quot;</td><td>&quot;&quot;</td><td>&quot;&quot;</td><td>&quot;&quot;</td><td>&quot;&quot;</td><td>&quot;&quot;</td><td>&quot;&quot;</td><td>&quot;&quot;</td><td>&quot;&quot;</td><td>&quot;&quot;</td><td>&quot;&quot;</td><td>&quot;SBD&quot;</td></tr><tr><td>&quot;DQ&quot;</td><td>&quot;Bernadette Mam…</td><td>&quot;&quot;</td><td>&quot;F&quot;</td><td>&quot;1985&quot;</td><td>39</td><td>&quot;&quot;</td><td>null</td><td>&quot;Raw&quot;</td><td>&quot;Women&#x27;s Raw Op…</td><td>null</td><td>&quot;60&quot;</td><td>&quot;&quot;</td><td>&quot;&quot;</td><td>&quot;&quot;</td><td>&quot;&quot;</td><td>&quot;&quot;</td><td>&quot;&quot;</td><td>&quot;&quot;</td><td>&quot;&quot;</td><td>&quot;&quot;</td><td>&quot;&quot;</td><td>&quot;&quot;</td><td>&quot;&quot;</td><td>&quot;&quot;</td><td>&quot;SBD&quot;</td></tr><tr><td>&quot;DQ&quot;</td><td>&quot;Megan Tsai&quot;</td><td>&quot;&quot;</td><td>&quot;F&quot;</td><td>&quot;2000&quot;</td><td>23</td><td>&quot;&quot;</td><td>null</td><td>&quot;Raw&quot;</td><td>&quot;Women&#x27;s Raw Op…</td><td>null</td><td>&quot;60&quot;</td><td>&quot;&quot;</td><td>&quot;&quot;</td><td>&quot;&quot;</td><td>&quot;&quot;</td><td>&quot;&quot;</td><td>&quot;&quot;</td><td>&quot;&quot;</td><td>&quot;&quot;</td><td>&quot;&quot;</td><td>&quot;&quot;</td><td>&quot;&quot;</td><td>&quot;&quot;</td><td>&quot;&quot;</td><td>&quot;SBD&quot;</td></tr><tr><td>&quot;DQ&quot;</td><td>&quot;India Stewart&quot;</td><td>&quot;&quot;</td><td>&quot;F&quot;</td><td>&quot;2000&quot;</td><td>23</td><td>&quot;&quot;</td><td>null</td><td>&quot;Raw&quot;</td><td>&quot;Women&#x27;s Raw Op…</td><td>null</td><td>&quot;60&quot;</td><td>&quot;&quot;</td><td>&quot;&quot;</td><td>&quot;&quot;</td><td>&quot;&quot;</td><td>&quot;&quot;</td><td>&quot;&quot;</td><td>&quot;&quot;</td><td>&quot;&quot;</td><td>&quot;&quot;</td><td>&quot;&quot;</td><td>&quot;&quot;</td><td>&quot;&quot;</td><td>&quot;&quot;</td><td>&quot;SBD&quot;</td></tr><tr><td>&quot;DQ&quot;</td><td>&quot;Constance Pand…</td><td>&quot;&quot;</td><td>&quot;F&quot;</td><td>&quot;1994&quot;</td><td>29</td><td>&quot;&quot;</td><td>null</td><td>&quot;Raw&quot;</td><td>&quot;Women&#x27;s Raw Op…</td><td>null</td><td>&quot;60&quot;</td><td>&quot;&quot;</td><td>&quot;&quot;</td><td>&quot;&quot;</td><td>&quot;&quot;</td><td>&quot;&quot;</td><td>&quot;&quot;</td><td>&quot;&quot;</td><td>&quot;&quot;</td><td>&quot;&quot;</td><td>&quot;&quot;</td><td>&quot;&quot;</td><td>&quot;&quot;</td><td>&quot;&quot;</td><td>&quot;SBD&quot;</td></tr><tr><td>&hellip;</td><td>&hellip;</td><td>&hellip;</td><td>&hellip;</td><td>&hellip;</td><td>&hellip;</td><td>&hellip;</td><td>&hellip;</td><td>&hellip;</td><td>&hellip;</td><td>&hellip;</td><td>&hellip;</td><td>&hellip;</td><td>&hellip;</td><td>&hellip;</td><td>&hellip;</td><td>&hellip;</td><td>&hellip;</td><td>&hellip;</td><td>&hellip;</td><td>&hellip;</td><td>&hellip;</td><td>&hellip;</td><td>&hellip;</td><td>&hellip;</td><td>&hellip;</td></tr><tr><td>&quot;DQ&quot;</td><td>&quot;Matthew White&quot;</td><td>&quot;&quot;</td><td>&quot;M&quot;</td><td>&quot;&quot;</td><td>null</td><td>&quot;&quot;</td><td>null</td><td>&quot;Raw&quot;</td><td>&quot;Men&#x27;s Raw Open…</td><td>null</td><td>&quot;100&quot;</td><td>&quot;&quot;</td><td>&quot;&quot;</td><td>&quot;&quot;</td><td>&quot;&quot;</td><td>&quot;&quot;</td><td>&quot;&quot;</td><td>&quot;&quot;</td><td>&quot;&quot;</td><td>&quot;&quot;</td><td>&quot;&quot;</td><td>&quot;&quot;</td><td>&quot;&quot;</td><td>&quot;&quot;</td><td>&quot;SBD&quot;</td></tr><tr><td>&quot;DQ&quot;</td><td>&quot;Scott Mieklejo…</td><td>&quot;&quot;</td><td>&quot;M&quot;</td><td>&quot;1991&quot;</td><td>32</td><td>&quot;&quot;</td><td>null</td><td>&quot;Raw&quot;</td><td>&quot;Men&#x27;s Raw Open…</td><td>null</td><td>&quot;100&quot;</td><td>&quot;&quot;</td><td>&quot;&quot;</td><td>&quot;&quot;</td><td>&quot;&quot;</td><td>&quot;&quot;</td><td>&quot;&quot;</td><td>&quot;&quot;</td><td>&quot;&quot;</td><td>&quot;&quot;</td><td>&quot;&quot;</td><td>&quot;&quot;</td><td>&quot;&quot;</td><td>&quot;&quot;</td><td>&quot;SBD&quot;</td></tr><tr><td>&quot;DQ&quot;</td><td>&quot;Aengus William…</td><td>&quot;&quot;</td><td>&quot;M&quot;</td><td>&quot;2000&quot;</td><td>23</td><td>&quot;&quot;</td><td>null</td><td>&quot;Raw&quot;</td><td>&quot;Men&#x27;s Raw Open…</td><td>null</td><td>&quot;110&quot;</td><td>&quot;&quot;</td><td>&quot;&quot;</td><td>&quot;&quot;</td><td>&quot;&quot;</td><td>&quot;&quot;</td><td>&quot;&quot;</td><td>&quot;&quot;</td><td>&quot;&quot;</td><td>&quot;&quot;</td><td>&quot;&quot;</td><td>&quot;&quot;</td><td>&quot;&quot;</td><td>&quot;&quot;</td><td>&quot;SBD&quot;</td></tr><tr><td>&quot;DQ&quot;</td><td>&quot;Asher Jones&quot;</td><td>&quot;&quot;</td><td>&quot;M&quot;</td><td>&quot;2000&quot;</td><td>23</td><td>&quot;&quot;</td><td>null</td><td>&quot;Raw&quot;</td><td>&quot;Men&#x27;s Raw Open…</td><td>null</td><td>&quot;110&quot;</td><td>&quot;&quot;</td><td>&quot;&quot;</td><td>&quot;&quot;</td><td>&quot;&quot;</td><td>&quot;&quot;</td><td>&quot;&quot;</td><td>&quot;&quot;</td><td>&quot;&quot;</td><td>&quot;&quot;</td><td>&quot;&quot;</td><td>&quot;&quot;</td><td>&quot;&quot;</td><td>&quot;&quot;</td><td>&quot;SBD&quot;</td></tr><tr><td>&quot;DQ&quot;</td><td>&quot;Remy Burns&quot;</td><td>&quot;&quot;</td><td>&quot;M&quot;</td><td>&quot;2001&quot;</td><td>23</td><td>&quot;&quot;</td><td>null</td><td>&quot;Raw&quot;</td><td>&quot;Men&#x27;s Raw Open…</td><td>null</td><td>&quot;110&quot;</td><td>&quot;&quot;</td><td>&quot;&quot;</td><td>&quot;&quot;</td><td>&quot;&quot;</td><td>&quot;&quot;</td><td>&quot;&quot;</td><td>&quot;&quot;</td><td>&quot;&quot;</td><td>&quot;&quot;</td><td>&quot;&quot;</td><td>&quot;&quot;</td><td>&quot;&quot;</td><td>&quot;&quot;</td><td>&quot;SBD&quot;</td></tr><tr><td>&quot;DQ&quot;</td><td>&quot;Hung Phan&quot;</td><td>&quot;&quot;</td><td>&quot;M&quot;</td><td>&quot;1992&quot;</td><td>31</td><td>&quot;&quot;</td><td>null</td><td>&quot;Raw&quot;</td><td>&quot;Men&#x27;s Raw Open…</td><td>null</td><td>&quot;110&quot;</td><td>&quot;&quot;</td><td>&quot;&quot;</td><td>&quot;&quot;</td><td>&quot;&quot;</td><td>&quot;&quot;</td><td>&quot;&quot;</td><td>&quot;&quot;</td><td>&quot;&quot;</td><td>&quot;&quot;</td><td>&quot;&quot;</td><td>&quot;&quot;</td><td>&quot;&quot;</td><td>&quot;&quot;</td><td>&quot;SBD&quot;</td></tr><tr><td>&quot;DQ&quot;</td><td>&quot;Van bawithawng…</td><td>&quot;&quot;</td><td>&quot;M&quot;</td><td>&quot;&quot;</td><td>null</td><td>&quot;&quot;</td><td>null</td><td>&quot;Raw&quot;</td><td>&quot;Men&#x27;s Raw Open…</td><td>null</td><td>&quot;125&quot;</td><td>&quot;&quot;</td><td>&quot;&quot;</td><td>&quot;&quot;</td><td>&quot;&quot;</td><td>&quot;&quot;</td><td>&quot;&quot;</td><td>&quot;&quot;</td><td>&quot;&quot;</td><td>&quot;&quot;</td><td>&quot;&quot;</td><td>&quot;&quot;</td><td>&quot;&quot;</td><td>&quot;&quot;</td><td>&quot;SBD&quot;</td></tr><tr><td>&quot;DQ&quot;</td><td>&quot;Aaron Grant&quot;</td><td>&quot;&quot;</td><td>&quot;M&quot;</td><td>&quot;2000&quot;</td><td>23</td><td>&quot;&quot;</td><td>null</td><td>&quot;Raw&quot;</td><td>&quot;Men&#x27;s Raw Open…</td><td>null</td><td>&quot;125&quot;</td><td>&quot;&quot;</td><td>&quot;&quot;</td><td>&quot;&quot;</td><td>&quot;&quot;</td><td>&quot;&quot;</td><td>&quot;&quot;</td><td>&quot;&quot;</td><td>&quot;&quot;</td><td>&quot;&quot;</td><td>&quot;&quot;</td><td>&quot;&quot;</td><td>&quot;&quot;</td><td>&quot;&quot;</td><td>&quot;SBD&quot;</td></tr><tr><td>&quot;DQ&quot;</td><td>&quot;Brodie McDowel…</td><td>&quot;&quot;</td><td>&quot;M&quot;</td><td>&quot;1999&quot;</td><td>24</td><td>&quot;&quot;</td><td>null</td><td>&quot;Raw&quot;</td><td>&quot;Men&#x27;s Raw Open…</td><td>null</td><td>&quot;125&quot;</td><td>&quot;&quot;</td><td>&quot;&quot;</td><td>&quot;&quot;</td><td>&quot;&quot;</td><td>&quot;&quot;</td><td>&quot;&quot;</td><td>&quot;&quot;</td><td>&quot;&quot;</td><td>&quot;&quot;</td><td>&quot;&quot;</td><td>&quot;&quot;</td><td>&quot;&quot;</td><td>&quot;&quot;</td><td>&quot;SBD&quot;</td></tr><tr><td>&quot;DQ&quot;</td><td>&quot;Emry Williams&quot;</td><td>&quot;&quot;</td><td>&quot;M&quot;</td><td>&quot;1995&quot;</td><td>29</td><td>&quot;&quot;</td><td>null</td><td>&quot;Raw&quot;</td><td>&quot;Men&#x27;s Raw Open…</td><td>null</td><td>&quot;140&quot;</td><td>&quot;&quot;</td><td>&quot;&quot;</td><td>&quot;&quot;</td><td>&quot;&quot;</td><td>&quot;&quot;</td><td>&quot;&quot;</td><td>&quot;&quot;</td><td>&quot;&quot;</td><td>&quot;&quot;</td><td>&quot;&quot;</td><td>&quot;&quot;</td><td>&quot;&quot;</td><td>&quot;&quot;</td><td>&quot;SBD&quot;</td></tr><tr><td>&quot;DQ&quot;</td><td>&quot;Tony Reinmuth&quot;</td><td>&quot;&quot;</td><td>&quot;M&quot;</td><td>&quot;1989&quot;</td><td>35</td><td>&quot;&quot;</td><td>null</td><td>&quot;Raw&quot;</td><td>&quot;Men&#x27;s Raw Open…</td><td>null</td><td>&quot;140+&quot;</td><td>&quot;&quot;</td><td>&quot;&quot;</td><td>&quot;&quot;</td><td>&quot;&quot;</td><td>&quot;&quot;</td><td>&quot;&quot;</td><td>&quot;&quot;</td><td>&quot;&quot;</td><td>&quot;&quot;</td><td>&quot;&quot;</td><td>&quot;&quot;</td><td>&quot;&quot;</td><td>&quot;&quot;</td><td>&quot;SBD&quot;</td></tr><tr><td>&quot;DQ&quot;</td><td>&quot;Jason Oakley&quot;</td><td>&quot;&quot;</td><td>&quot;M&quot;</td><td>&quot;1971&quot;</td><td>52</td><td>&quot;&quot;</td><td>null</td><td>&quot;Raw&quot;</td><td>&quot;Men&#x27;s Raw Open…</td><td>null</td><td>&quot;140+&quot;</td><td>&quot;&quot;</td><td>&quot;&quot;</td><td>&quot;&quot;</td><td>&quot;&quot;</td><td>&quot;&quot;</td><td>&quot;&quot;</td><td>&quot;&quot;</td><td>&quot;&quot;</td><td>&quot;&quot;</td><td>&quot;&quot;</td><td>&quot;&quot;</td><td>&quot;&quot;</td><td>&quot;&quot;</td><td>&quot;SBD&quot;</td></tr></tbody></table></div>"
      ],
      "text/plain": [
       "shape: (86, 26)\n",
       "┌───────┬──────────────────┬───────────┬─────┬───┬─────────────┬─────────────────┬─────────┬───────┐\n",
       "│ Place ┆ Name             ┆ BirthDate ┆ Sex ┆ … ┆ Deadlift3Kg ┆ Best3DeadliftKg ┆ TotalKg ┆ Event │\n",
       "│ ---   ┆ ---              ┆ ---       ┆ --- ┆   ┆ ---         ┆ ---             ┆ ---     ┆ ---   │\n",
       "│ str   ┆ str              ┆ str       ┆ str ┆   ┆ str         ┆ str             ┆ str     ┆ str   │\n",
       "╞═══════╪══════════════════╪═══════════╪═════╪═══╪═════════════╪═════════════════╪═════════╪═══════╡\n",
       "│ DQ    ┆ Natasha Viselka  ┆           ┆ F   ┆ … ┆             ┆                 ┆         ┆ SBD   │\n",
       "│ DQ    ┆ Vinning Mak      ┆           ┆ F   ┆ … ┆             ┆                 ┆         ┆ SBD   │\n",
       "│ DQ    ┆ Aikaterini       ┆           ┆ F   ┆ … ┆             ┆                 ┆         ┆ SBD   │\n",
       "│       ┆ Chorianopoulou   ┆           ┆     ┆   ┆             ┆                 ┆         ┆       │\n",
       "│ DQ    ┆ Carol Chew       ┆           ┆ F   ┆ … ┆             ┆                 ┆         ┆ SBD   │\n",
       "│ …     ┆ …                ┆ …         ┆ …   ┆ … ┆ …           ┆ …               ┆ …       ┆ …     │\n",
       "│ DQ    ┆ Brodie McDowell  ┆           ┆ M   ┆ … ┆             ┆                 ┆         ┆ SBD   │\n",
       "│ DQ    ┆ Emry Williams    ┆           ┆ M   ┆ … ┆             ┆                 ┆         ┆ SBD   │\n",
       "│ DQ    ┆ Tony Reinmuth    ┆           ┆ M   ┆ … ┆             ┆                 ┆         ┆ SBD   │\n",
       "│ DQ    ┆ Jason Oakley     ┆           ┆ M   ┆ … ┆             ┆                 ┆         ┆ SBD   │\n",
       "└───────┴──────────────────┴───────────┴─────┴───┴─────────────┴─────────────────┴─────────┴───────┘"
      ]
     },
     "execution_count": 11,
     "metadata": {},
     "output_type": "execute_result"
    }
   ],
   "source": []
  },
  {
   "cell_type": "code",
   "execution_count": null,
   "metadata": {},
   "outputs": [],
   "source": []
  }
 ],
 "metadata": {
  "kernelspec": {
   "display_name": "powerlifting-ml-progress-3.11.6",
   "language": "python",
   "name": "python3"
  },
  "language_info": {
   "codemirror_mode": {
    "name": "ipython",
    "version": 3
   },
   "file_extension": ".py",
   "mimetype": "text/x-python",
   "name": "python",
   "nbconvert_exporter": "python",
   "pygments_lexer": "ipython3",
   "version": "3.11.6"
  }
 },
 "nbformat": 4,
 "nbformat_minor": 2
}
